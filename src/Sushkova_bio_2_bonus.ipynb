{
  "nbformat": 4,
  "nbformat_minor": 0,
  "metadata": {
    "colab": {
      "provenance": [],
      "collapsed_sections": []
    },
    "kernelspec": {
      "name": "python3",
      "display_name": "Python 3"
    },
    "language_info": {
      "name": "python"
    }
  },
  "cells": [
    {
      "cell_type": "markdown",
      "source": [
        "###Скачивание файлов близкородственной бактерии:"
      ],
      "metadata": {
        "id": "BkQP6tmB23lc"
      }
    },
    {
      "cell_type": "code",
      "source": [
        "!sh -c \"$(curl -fsSL ftp://ftp.ncbi.nlm.nih.gov/entrez/entrezdirect/install-edirect.sh)\""
      ],
      "metadata": {
        "colab": {
          "base_uri": "https://localhost:8080/"
        },
        "id": "kiDMv1nQ2SIw",
        "outputId": "76ac9f31-56cb-49a4-e312-dbc7f224ccc1"
      },
      "execution_count": null,
      "outputs": [
        {
          "output_type": "stream",
          "name": "stdout",
          "text": [
            "\n",
            "Entrez Direct has been successfully downloaded and installed.\n",
            "\n",
            "\n",
            "To activate EDirect for this terminal session, please execute the following:\n",
            "\n",
            "export PATH=${PATH}:${HOME}/edirect\n",
            "\n"
          ]
        }
      ]
    },
    {
      "cell_type": "code",
      "source": [
        "!$HOME/edirect/efetch -db nuccore -id HF680312 -format gb  >  T_oleivorans_MIL_1.gbk"
      ],
      "metadata": {
        "id": "CdjHkXw52ZLn"
      },
      "execution_count": null,
      "outputs": []
    },
    {
      "cell_type": "code",
      "execution_count": null,
      "metadata": {
        "colab": {
          "base_uri": "https://localhost:8080/"
        },
        "id": "vTrG8jpjHrzs",
        "outputId": "47548b94-29e5-4c4e-8964-f880b58527a8"
      },
      "outputs": [
        {
          "output_type": "stream",
          "name": "stdout",
          "text": [
            "--2022-10-19 18:49:20--  https://raw.githubusercontent.com/DaryaSushkova/hse22_hw2/main/data/gms2.lst\n",
            "Resolving raw.githubusercontent.com (raw.githubusercontent.com)... 185.199.108.133, 185.199.109.133, 185.199.110.133, ...\n",
            "Connecting to raw.githubusercontent.com (raw.githubusercontent.com)|185.199.108.133|:443... connected.\n",
            "HTTP request sent, awaiting response... 200 OK\n",
            "Length: 221257 (216K) [text/plain]\n",
            "Saving to: ‘gms2.lst’\n",
            "\n",
            "\rgms2.lst              0%[                    ]       0  --.-KB/s               \rgms2.lst            100%[===================>] 216.07K  --.-KB/s    in 0.03s   \n",
            "\n",
            "2022-10-19 18:49:20 (8.11 MB/s) - ‘gms2.lst’ saved [221257/221257]\n",
            "\n"
          ]
        }
      ],
      "source": [
        "!wget https://raw.githubusercontent.com/DaryaSushkova/hse22_hw2/main/data/gms2.lst"
      ]
    },
    {
      "cell_type": "markdown",
      "source": [
        "###Установка программ:"
      ],
      "metadata": {
        "id": "7oQdtDXl2qD5"
      }
    },
    {
      "cell_type": "code",
      "source": [
        "!pip install biopython"
      ],
      "metadata": {
        "colab": {
          "base_uri": "https://localhost:8080/"
        },
        "id": "0MGLV3Xk2Iyn",
        "outputId": "8d9bf9b0-fbae-439f-fdc1-c6382eefef60"
      },
      "execution_count": null,
      "outputs": [
        {
          "output_type": "stream",
          "name": "stdout",
          "text": [
            "Looking in indexes: https://pypi.org/simple, https://us-python.pkg.dev/colab-wheels/public/simple/\n",
            "Requirement already satisfied: biopython in /usr/local/lib/python3.7/dist-packages (1.79)\n",
            "Requirement already satisfied: numpy in /usr/local/lib/python3.7/dist-packages (from biopython) (1.21.6)\n"
          ]
        }
      ]
    },
    {
      "cell_type": "code",
      "source": [
        "!apt-get update"
      ],
      "metadata": {
        "colab": {
          "base_uri": "https://localhost:8080/"
        },
        "id": "rPV8vq4s2u9a",
        "outputId": "ec5f0f81-2854-41bf-c6ef-fd2c74139818"
      },
      "execution_count": null,
      "outputs": [
        {
          "output_type": "stream",
          "name": "stdout",
          "text": [
            "\r0% [Working]\r            \rHit:1 https://cloud.r-project.org/bin/linux/ubuntu bionic-cran40/ InRelease\n",
            "Ign:2 https://developer.download.nvidia.com/compute/machine-learning/repos/ubuntu1804/x86_64  InRelease\n",
            "Hit:3 https://developer.download.nvidia.com/compute/cuda/repos/ubuntu1804/x86_64  InRelease\n",
            "Hit:4 https://developer.download.nvidia.com/compute/machine-learning/repos/ubuntu1804/x86_64  Release\n",
            "Hit:5 http://security.ubuntu.com/ubuntu bionic-security InRelease\n",
            "Hit:6 http://archive.ubuntu.com/ubuntu bionic InRelease\n",
            "Hit:7 http://ppa.launchpad.net/c2d4u.team/c2d4u4.0+/ubuntu bionic InRelease\n",
            "Hit:8 http://archive.ubuntu.com/ubuntu bionic-updates InRelease\n",
            "Hit:9 http://archive.ubuntu.com/ubuntu bionic-backports InRelease\n",
            "Hit:10 http://ppa.launchpad.net/cran/libgit2/ubuntu bionic InRelease\n",
            "Hit:11 http://ppa.launchpad.net/deadsnakes/ppa/ubuntu bionic InRelease\n",
            "Hit:13 http://ppa.launchpad.net/graphics-drivers/ppa/ubuntu bionic InRelease\n",
            "Reading package lists... Done\n"
          ]
        }
      ]
    },
    {
      "cell_type": "code",
      "source": [
        "!apt-get install ncbi-blast+"
      ],
      "metadata": {
        "colab": {
          "base_uri": "https://localhost:8080/"
        },
        "id": "Ju2llSCs2xJD",
        "outputId": "19c7b5b0-3d95-43cd-e2b4-8b436cf45c65"
      },
      "execution_count": null,
      "outputs": [
        {
          "output_type": "stream",
          "name": "stdout",
          "text": [
            "Reading package lists... Done\n",
            "Building dependency tree       \n",
            "Reading state information... Done\n",
            "ncbi-blast+ is already the newest version (2.6.0-1).\n",
            "The following package was automatically installed and is no longer required:\n",
            "  libnvidia-common-460\n",
            "Use 'apt autoremove' to remove it.\n",
            "0 upgraded, 0 newly installed, 0 to remove and 37 not upgraded.\n"
          ]
        }
      ]
    },
    {
      "cell_type": "markdown",
      "source": [
        "###Предсказание рибосомальной РНК:"
      ],
      "metadata": {
        "id": "2-KE4lBC3CUI"
      }
    },
    {
      "cell_type": "code",
      "source": [
        "from Bio import SeqIO\n",
        "from Bio.Seq import Seq\n",
        "from Bio.SeqFeature import SeqFeature, FeatureLocation\n",
        "import re"
      ],
      "metadata": {
        "id": "0ZeVAMvf3FAp"
      },
      "execution_count": null,
      "outputs": []
    },
    {
      "cell_type": "code",
      "source": [
        "# Разделение на стренды, так как вырезка будет происходить разным образом.\n",
        "plus = list()\n",
        "minus = list()\n",
        "\n",
        "# Проходимся по записям и находим РНК.\n",
        "for record in SeqIO.read(\"T_oleivorans_MIL_1.gbk\", \"genbank\").features:\n",
        "  if record.type == \"rRNA\":\n",
        "    # Строка имеет формат [start:end](strand)\n",
        "    loc_str = str(record.location)\n",
        "    print(loc_str)\n",
        "    # Выбираем часть строки с координатами, отбрасывая стрэнд.\n",
        "    loc_str = loc_str[:-3:]\n",
        "    # Преобразуем в набор координат.\n",
        "    locations = re.compile('[^\\d:]').sub('', loc_str).replace(':', ' ').split()\n",
        "    \n",
        "    start = int(locations[0])\n",
        "    end = int(locations[1])\n",
        "\n",
        "    if (str(record.location).find('-') == -1):\n",
        "      plus.append([start, end])\n",
        "    else:\n",
        "      minus.append([int(locations[0]), int(locations[1])])\n",
        "\n",
        "print(plus)\n",
        "print(minus)"
      ],
      "metadata": {
        "colab": {
          "base_uri": "https://localhost:8080/"
        },
        "id": "bW1DnMjc6oCK",
        "outputId": "eb50604a-dcb3-4690-f141-6d501223803d"
      },
      "execution_count": null,
      "outputs": [
        {
          "output_type": "stream",
          "name": "stdout",
          "text": [
            "[341494:343033](+)\n",
            "[343487:346374](+)\n",
            "[346568:346684](+)\n",
            "[2580484:2580600](-)\n",
            "[2580781:2583668](-)\n",
            "[2583918:2585457](-)\n",
            "[3418645:3418761](-)\n",
            "[3418942:3421829](-)\n",
            "[3422079:3423618](-)\n",
            "[3423993:3424109](-)\n",
            "[3424290:3427177](-)\n",
            "[3427427:3428966](-)\n",
            "[[341494, 343033], [343487, 346374], [346568, 346684]]\n",
            "[[2580484, 2580600], [2580781, 2583668], [2583918, 2585457], [3418645, 3418761], [3418942, 3421829], [3422079, 3423618], [3423993, 3424109], [3424290, 3427177], [3427427, 3428966]]\n"
          ]
        }
      ]
    },
    {
      "cell_type": "markdown",
      "source": [
        "Воспользуемся приложенной к ДЗ ссылкой и скачаем .fasta файл (https://www.ncbi.nlm.nih.gov/nuccore/HF680312.1?report=fasta) с полным геномом для бактерии. Сформируем последовательность генома:"
      ],
      "metadata": {
        "id": "LDIus81hC7Cz"
      }
    },
    {
      "cell_type": "code",
      "source": [
        "genome = \"\"\n",
        "\n",
        "genome_file = open(\"sequence.fasta\", 'r')\n",
        "genome_file.readline()\n",
        "for line in genome_file:\n",
        "  genome += line.replace('\\n', '')\n",
        "genome_file.close()"
      ],
      "metadata": {
        "id": "Y6r_5ySGDJo3"
      },
      "execution_count": null,
      "outputs": []
    },
    {
      "cell_type": "code",
      "source": [
        "rna_file = open(\"rna.fasta\", 'w')\n",
        "# Сначала работаем с + стрендом, вырезка происходит обычным образом.\n",
        "for rna in plus:\n",
        "  # Строка с описанием.\n",
        "  start = rna[0]\n",
        "  end = rna[1]\n",
        "  rna_file.write(f'> rRNA {start}:{end}\\n')\n",
        "  # Непосредственно вырезка.\n",
        "  rna_file.write(genome[start:end] + '\\n')\n",
        "# Теперь вырезка для - стренда с учетом комплиментарности.\n",
        "seq = Seq(genome)\n",
        "seq = seq.reverse_complement()\n",
        "for rna in minus:\n",
        "  start = rna[0]\n",
        "  end = rna[1]\n",
        "  rna_file.write(f'> rRNA {start}:{end}\\n')\n",
        "  rna_file.write(genome[start:end] + '\\n')\n",
        "rna_file.close()"
      ],
      "metadata": {
        "id": "CHHk3-uQE0Fc"
      },
      "execution_count": null,
      "outputs": []
    },
    {
      "cell_type": "markdown",
      "source": [
        "Используем команду BLASTn:"
      ],
      "metadata": {
        "id": "p-IuwjbzLx83"
      }
    },
    {
      "cell_type": "code",
      "source": [
        "!wget https://raw.githubusercontent.com/DaryaSushkova/hse22_hw1/main/data/scaffolds.fasta"
      ],
      "metadata": {
        "colab": {
          "base_uri": "https://localhost:8080/"
        },
        "id": "BgO-HCyEMBFe",
        "outputId": "ed0da1d5-c8dc-4aed-9266-7319562b13b7"
      },
      "execution_count": null,
      "outputs": [
        {
          "output_type": "stream",
          "name": "stdout",
          "text": [
            "--2022-10-19 18:49:33--  https://raw.githubusercontent.com/DaryaSushkova/hse22_hw1/main/data/scaffolds.fasta\n",
            "Resolving raw.githubusercontent.com (raw.githubusercontent.com)... 185.199.108.133, 185.199.109.133, 185.199.110.133, ...\n",
            "Connecting to raw.githubusercontent.com (raw.githubusercontent.com)|185.199.108.133|:443... connected.\n",
            "HTTP request sent, awaiting response... 200 OK\n",
            "Length: 3977075 (3.8M) [text/plain]\n",
            "Saving to: ‘scaffolds.fasta’\n",
            "\n",
            "\rscaffolds.fasta       0%[                    ]       0  --.-KB/s               \rscaffolds.fasta     100%[===================>]   3.79M  --.-KB/s    in 0.07s   \n",
            "\n",
            "2022-10-19 18:49:33 (51.9 MB/s) - ‘scaffolds.fasta’ saved [3977075/3977075]\n",
            "\n"
          ]
        }
      ]
    },
    {
      "cell_type": "code",
      "source": [
        "!blastn -query rna.fasta -subject scaffolds.fasta > blast_GENOME.gbk"
      ],
      "metadata": {
        "id": "18badE1zMKgz"
      },
      "execution_count": null,
      "outputs": []
    },
    {
      "cell_type": "markdown",
      "source": [
        "Напишем код для анализа процента сходства:"
      ],
      "metadata": {
        "id": "wqkXqVphPFA0"
      }
    },
    {
      "cell_type": "code",
      "source": [
        "curr_per = list()\n",
        "# Результирующйи словарь выравниваний и процентов.\n",
        "result = dict(record = list(), percent = list())\n",
        "# Флаг вывода информации о процентах.\n",
        "printed = True\n",
        "\n",
        "blast_file = open(\"blast_GENOME.gbk\", 'r')\n",
        "for line in blast_file:\n",
        "  # Извлекаем значения в строке записи.\n",
        "  values = line.split()\n",
        "\n",
        "  if not values:\n",
        "    continue\n",
        "\n",
        "  # Запись текущего процента.\n",
        "  if (values[0] == \"Identities\"):\n",
        "    curr_per.append(values[3][1:-2:])\n",
        "\n",
        "  # Строка аннотации скаффолда.\n",
        "  if (values[0] == '>'):\n",
        "    if result['record']:\n",
        "      result['percent'].append(curr_per)\n",
        "    result['record'].append(values[1])\n",
        "    curr_per = list()\n",
        "  \n",
        "  # Строка аннотации RNA (именно \"Query=\", просто \"Query\" содержит последовательности).\n",
        "  if (values[0] == \"Query=\"):\n",
        "    result['percent'].append(curr_per)\n",
        "    if printed:\n",
        "      rna = values[2]\n",
        "      printed = False\n",
        "    if result['record']:\n",
        "      print(f'rRNA {rna}:')\n",
        "      # Вывод процентов для всех имеющихся на данный момент записей.\n",
        "      for index in range(len(result['record'])):\n",
        "        print(f'{result[\"record\"][index]}: {result[\"percent\"][index]}')\n",
        "      print(\"---\")\n",
        "      printed = True\n",
        "    result = {'record': [], 'percent': []}"
      ],
      "metadata": {
        "colab": {
          "base_uri": "https://localhost:8080/"
        },
        "id": "WGxJMFFBPrnc",
        "outputId": "72f09582-1e3a-448f-90d4-71209cbd427e"
      },
      "execution_count": null,
      "outputs": [
        {
          "output_type": "stream",
          "name": "stdout",
          "text": [
            "rRNA 341494:343033:\n",
            "scaffold1_cov232: ['100%', '99%', '99%']\n",
            "scaffold31_cov590: ['100%']\n",
            "---\n",
            "rRNA 346568:346684:\n",
            "scaffold1_cov232: ['100%', '99%', '99%']\n",
            "scaffold34_cov590: ['100%']\n",
            "scaffold40_cov590: ['100%']\n",
            "scaffold48_cov632: ['100%']\n",
            "---\n",
            "rRNA 2580484:2580600:\n",
            "scaffold1_cov232: ['100%', '100%', '100%']\n",
            "scaffold34_cov590: ['100%']\n",
            "---\n",
            "rRNA 2580781:2583668:\n",
            "scaffold1_cov232: ['98%', '98%', '98%']\n",
            "scaffold34_cov590: ['99%']\n",
            "---\n",
            "rRNA 2583918:2585457:\n",
            "scaffold1_cov232: ['100%', '99%', '99%']\n",
            "scaffold34_cov590: ['100%']\n",
            "scaffold40_cov590: ['100%']\n",
            "scaffold48_cov632: ['100%']\n",
            "---\n",
            "rRNA 3418645:3418761:\n",
            "scaffold1_cov232: ['99%', '99%', '99%']\n",
            "scaffold31_cov590: ['99%']\n",
            "---\n",
            "rRNA 3418942:3421829:\n",
            "scaffold1_cov232: ['100%', '100%', '100%']\n",
            "scaffold34_cov590: ['100%']\n",
            "---\n",
            "rRNA 3422079:3423618:\n",
            "scaffold1_cov232: ['100%', '99%', '99%']\n",
            "scaffold34_cov590: ['100%']\n",
            "scaffold40_cov590: ['100%']\n",
            "scaffold48_cov632: ['100%']\n",
            "---\n",
            "rRNA 3423993:3424109:\n",
            "scaffold1_cov232: ['99%', '99%', '99%']\n",
            "scaffold31_cov590: ['99%']\n",
            "---\n",
            "rRNA 3424290:3427177:\n",
            "scaffold1_cov232: ['100%', '100%', '100%']\n",
            "scaffold34_cov590: ['100%']\n",
            "---\n",
            "rRNA 3427427:3428966:\n",
            "scaffold1_cov232: ['100%', '99%', '99%']\n",
            "scaffold34_cov590: ['100%']\n",
            "scaffold40_cov590: ['100%']\n",
            "scaffold48_cov632: ['100%']\n",
            "---\n"
          ]
        }
      ]
    }
  ]
}