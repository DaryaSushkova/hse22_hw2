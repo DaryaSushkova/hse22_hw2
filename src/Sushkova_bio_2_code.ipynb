{
  "cells": [
    {
      "cell_type": "markdown",
      "metadata": {
        "id": "cHCNtjLW9uyZ"
      },
      "source": [
        "Загрузка файлов для аннотации генома после выполнения кода в первом ноутбуке:"
      ]
    },
    {
      "cell_type": "code",
      "execution_count": null,
      "metadata": {
        "colab": {
          "base_uri": "https://localhost:8080/"
        },
        "id": "MCNsZoPe7aBc",
        "outputId": "bdbe049d-8c11-437b-8f5d-9816a661bd64"
      },
      "outputs": [
        {
          "output_type": "stream",
          "name": "stdout",
          "text": [
            "--2022-10-19 19:30:59--  https://raw.githubusercontent.com/DaryaSushkova/hse22_hw2/main/data/gms2.lst\n",
            "Resolving raw.githubusercontent.com (raw.githubusercontent.com)... 185.199.108.133, 185.199.109.133, 185.199.110.133, ...\n",
            "Connecting to raw.githubusercontent.com (raw.githubusercontent.com)|185.199.108.133|:443... connected.\n",
            "HTTP request sent, awaiting response... 200 OK\n",
            "Length: 221257 (216K) [text/plain]\n",
            "Saving to: ‘gms2.lst’\n",
            "\n",
            "\rgms2.lst              0%[                    ]       0  --.-KB/s               \rgms2.lst            100%[===================>] 216.07K  --.-KB/s    in 0.03s   \n",
            "\n",
            "2022-10-19 19:30:59 (8.08 MB/s) - ‘gms2.lst’ saved [221257/221257]\n",
            "\n",
            "--2022-10-19 19:30:59--  https://raw.githubusercontent.com/DaryaSushkova/hse22_hw2/main/data/proteins.fasta\n",
            "Resolving raw.githubusercontent.com (raw.githubusercontent.com)... 185.199.108.133, 185.199.109.133, 185.199.110.133, ...\n",
            "Connecting to raw.githubusercontent.com (raw.githubusercontent.com)|185.199.108.133|:443... connected.\n",
            "HTTP request sent, awaiting response... 200 OK\n",
            "Length: 1404428 (1.3M) [text/plain]\n",
            "Saving to: ‘proteins.fasta’\n",
            "\n",
            "proteins.fasta      100%[===================>]   1.34M  --.-KB/s    in 0.05s   \n",
            "\n",
            "2022-10-19 19:30:59 (25.0 MB/s) - ‘proteins.fasta’ saved [1404428/1404428]\n",
            "\n",
            "--2022-10-19 19:30:59--  https://raw.githubusercontent.com/DaryaSushkova/hse22_hw2/main/data/scaffolds.hits_from_MIL_1.txt\n",
            "Resolving raw.githubusercontent.com (raw.githubusercontent.com)... 185.199.108.133, 185.199.109.133, 185.199.110.133, ...\n",
            "Connecting to raw.githubusercontent.com (raw.githubusercontent.com)|185.199.108.133|:443... connected.\n",
            "HTTP request sent, awaiting response... 200 OK\n",
            "Length: 873097 (853K) [text/plain]\n",
            "Saving to: ‘scaffolds.hits_from_MIL_1.txt’\n",
            "\n",
            "scaffolds.hits_from 100%[===================>] 852.63K  --.-KB/s    in 0.04s   \n",
            "\n",
            "2022-10-19 19:31:00 (18.6 MB/s) - ‘scaffolds.hits_from_MIL_1.txt’ saved [873097/873097]\n",
            "\n",
            "--2022-10-19 19:31:00--  https://raw.githubusercontent.com/DaryaSushkova/hse22_hw2/main/data/scaffolds.hits_from_SwissProt.txt\n",
            "Resolving raw.githubusercontent.com (raw.githubusercontent.com)... 185.199.108.133, 185.199.109.133, 185.199.110.133, ...\n",
            "Connecting to raw.githubusercontent.com (raw.githubusercontent.com)|185.199.108.133|:443... connected.\n",
            "HTTP request sent, awaiting response... 200 OK\n",
            "Length: 66190 (65K) [text/plain]\n",
            "Saving to: ‘scaffolds.hits_from_SwissProt.txt’\n",
            "\n",
            "scaffolds.hits_from 100%[===================>]  64.64K  --.-KB/s    in 0.01s   \n",
            "\n",
            "2022-10-19 19:31:00 (5.31 MB/s) - ‘scaffolds.hits_from_SwissProt.txt’ saved [66190/66190]\n",
            "\n"
          ]
        }
      ],
      "source": [
        "!wget https://raw.githubusercontent.com/DaryaSushkova/hse22_hw2/main/data/gms2.lst\n",
        "!wget https://raw.githubusercontent.com/DaryaSushkova/hse22_hw2/main/data/proteins.fasta\n",
        "!wget https://raw.githubusercontent.com/DaryaSushkova/hse22_hw2/main/data/scaffolds.hits_from_MIL_1.txt\n",
        "!wget https://raw.githubusercontent.com/DaryaSushkova/hse22_hw2/main/data/scaffolds.hits_from_SwissProt.txt"
      ]
    },
    {
      "cell_type": "markdown",
      "metadata": {
        "id": "emJJ8gN4_uVX"
      },
      "source": [
        "Также скачиваем данные по близкородственной бактерии T.oleivorans:"
      ]
    },
    {
      "cell_type": "code",
      "execution_count": null,
      "metadata": {
        "colab": {
          "base_uri": "https://localhost:8080/"
        },
        "id": "IKotYRPN_4hh",
        "outputId": "3504a281-4d2a-408d-cb96-62df6a3802da"
      },
      "outputs": [
        {
          "output_type": "stream",
          "name": "stdout",
          "text": [
            "\n",
            "Entrez Direct has been successfully downloaded and installed.\n",
            "\n",
            "\n",
            "To activate EDirect for this terminal session, please execute the following:\n",
            "\n",
            "export PATH=${PATH}:${HOME}/edirect\n",
            "\n"
          ]
        }
      ],
      "source": [
        "!sh -c \"$(curl -fsSL ftp://ftp.ncbi.nlm.nih.gov/entrez/entrezdirect/install-edirect.sh)\""
      ]
    },
    {
      "cell_type": "code",
      "execution_count": null,
      "metadata": {
        "id": "Mnb0He5FALIA"
      },
      "outputs": [],
      "source": [
        "!$HOME/edirect/efetch -db nuccore -id HF680312 -format gb  >  T_oleivorans_MIL_1.gbk"
      ]
    },
    {
      "cell_type": "markdown",
      "metadata": {
        "id": "vLbPwAsnAiVH"
      },
      "source": [
        "Устанавливаем библиотеку Biopython и все необходимые модули:"
      ]
    },
    {
      "cell_type": "code",
      "execution_count": null,
      "metadata": {
        "colab": {
          "base_uri": "https://localhost:8080/"
        },
        "id": "y3eQfaFXAsGR",
        "outputId": "a51f5b3a-f5b5-470f-bd53-42dee49dfb97"
      },
      "outputs": [
        {
          "output_type": "stream",
          "name": "stdout",
          "text": [
            "Looking in indexes: https://pypi.org/simple, https://us-python.pkg.dev/colab-wheels/public/simple/\n",
            "Requirement already satisfied: biopython in /usr/local/lib/python3.7/dist-packages (1.79)\n",
            "Requirement already satisfied: numpy in /usr/local/lib/python3.7/dist-packages (from biopython) (1.21.6)\n"
          ]
        }
      ],
      "source": [
        "!pip install biopython"
      ]
    },
    {
      "cell_type": "code",
      "execution_count": null,
      "metadata": {
        "id": "aRENubVoB7Ou"
      },
      "outputs": [],
      "source": [
        "from Bio import SeqIO\n",
        "from Bio.Seq import Seq\n",
        "from Bio.SeqUtils import GC\n",
        "from Bio.Data import CodonTable\n",
        "from Bio import Entrez\n",
        "from Bio.SeqFeature import SeqFeature, FeatureLocation\n",
        "import pandas as pd"
      ]
    },
    {
      "cell_type": "markdown",
      "metadata": {
        "id": "felZ6WztE74a"
      },
      "source": [
        "Аннотация скаффолдов выглядит следующим образом:"
      ]
    },
    {
      "cell_type": "code",
      "execution_count": null,
      "metadata": {
        "id": "GRYzzzy6FCaW",
        "colab": {
          "base_uri": "https://localhost:8080/"
        },
        "outputId": "8e0aba74-0a96-4187-c359-fb45c3b8f351"
      },
      "outputs": [
        {
          "output_type": "stream",
          "name": "stdout",
          "text": [
            "--2022-10-19 19:31:32--  https://raw.githubusercontent.com/DaryaSushkova/hse22_hw1/main/data/scaffolds.fasta\n",
            "Resolving raw.githubusercontent.com (raw.githubusercontent.com)... 185.199.109.133, 185.199.110.133, 185.199.108.133, ...\n",
            "Connecting to raw.githubusercontent.com (raw.githubusercontent.com)|185.199.109.133|:443... connected.\n",
            "HTTP request sent, awaiting response... 200 OK\n",
            "Length: 3977075 (3.8M) [text/plain]\n",
            "Saving to: ‘scaffolds.fasta’\n",
            "\n",
            "scaffolds.fasta     100%[===================>]   3.79M  --.-KB/s    in 0.07s   \n",
            "\n",
            "2022-10-19 19:31:32 (56.1 MB/s) - ‘scaffolds.fasta’ saved [3977075/3977075]\n",
            "\n"
          ]
        }
      ],
      "source": [
        "!wget https://raw.githubusercontent.com/DaryaSushkova/hse22_hw1/main/data/scaffolds.fasta"
      ]
    },
    {
      "cell_type": "code",
      "execution_count": null,
      "metadata": {
        "id": "78Qq32tVE55t"
      },
      "outputs": [],
      "source": [
        "scaffolds = dict()\n",
        "\n",
        "for scaffold in SeqIO.parse(\"scaffolds.fasta\", \"fasta\"):\n",
        "  scaffold.annotations['molecule_type'] = 'DNA'\n",
        "  # Добавление аннотированного скаффолда в общий словарь.\n",
        "  scaffolds[scaffold.id] = scaffold"
      ]
    },
    {
      "cell_type": "markdown",
      "metadata": {
        "id": "rhseNzxJGpD0"
      },
      "source": [
        "###Добавляем координаты генов:"
      ]
    },
    {
      "cell_type": "code",
      "execution_count": null,
      "metadata": {
        "id": "2vEWn9A_Gsiq"
      },
      "outputs": [],
      "source": [
        "genes = dict()\n",
        "\n",
        "for gene in SeqIO.parse(\"proteins.fasta\", \"fasta\"):\n",
        "  specs = gene.description.split(' ')  # Список характеристик.\n",
        "\n",
        "  # Базовые данные последовательности для создания объекта SeqFeature.\n",
        "  scaffold = specs[1]\n",
        "  start = int(specs[2])\n",
        "  end = int(specs[3])\n",
        "  if specs[4] == '+':\n",
        "    strand = 1\n",
        "  else:\n",
        "    strand = -1\n",
        "  \n",
        "  curr_gene = SeqFeature(FeatureLocation(start, end, strand = strand), type=\"CDS\")\n",
        "  curr_gene.qualifiers['locus_tag'] = [specs[0]]\n",
        "  # Добавление трансляции - последовательности аминокислот.\n",
        "  curr_gene.qualifiers['translation'] = [gene.seq]\n",
        "  # Также добавляем информацию в словарь скаффолдов.\n",
        "  scaffolds[scaffold].features.append(curr_gene)\n",
        "  genes[specs[0]] = curr_gene"
      ]
    },
    {
      "cell_type": "markdown",
      "metadata": {
        "id": "Ezn26KYuKdzl"
      },
      "source": [
        "###Добавляем функции белков (из бактерии MIL-1):"
      ]
    },
    {
      "cell_type": "code",
      "execution_count": null,
      "metadata": {
        "id": "10OKm5qXLNj0",
        "colab": {
          "base_uri": "https://localhost:8080/"
        },
        "outputId": "685e1bf8-4d9a-4ac4-b1e9-251b541d99c8"
      },
      "outputs": [
        {
          "output_type": "stream",
          "name": "stdout",
          "text": [
            "{'CCU70450.1': 'chromosomal replication initiator protein', 'CCU70451.1': 'DNA polymerase III subunit beta', 'CCU70452.1': 'DNA replication and repair protein RecF', 'CCU70453.1': 'DNA gyrase subunit B', 'CCU70454.1': 'hypothetical protein', 'CCU70455.1': 'hypothetical protein', 'CCU70456.1': 'hypothetical protein', 'CCU70457.1': 'hypothetical protein', 'CCU70458.1': 'hypothetical protein', 'CCU70459.1': 'hypothetical protein', 'CCU70460.1': 'transposase orfA', 'CCU70461.1': 'transposase orfB', 'CCU70462.1': 'hypothetical protein', 'CCU70463.1': 'metal-dependent hydrolase', 'CCU70464.1': 'small-conductance mechanosensitive channel-like protein', 'CCU70465.1': 'hypothetical protein', 'CCU70466.1': 'acyltransferase', 'CCU70467.1': 'histidinol phosphatase', 'CCU70468.1': 'glycyl-tRNA synthetase, beta subunit', 'CCU70469.1': 'glycyl-tRNA synthetase, alpha subunit', 'CCU70470.1': 'spermidine synthase', 'CCU70471.1': 'hypothetical protein', 'CCU70472.1': 'alpha/beta hydrolase fold protein', 'CCU70473.1': 'hypothetical protein', 'CCU70474.1': 'hypothetical protein', 'CCU70475.1': 'DNA topoisomerase IV subunit A', 'CCU70476.1': 'hypothetical protein', 'CCU70477.1': 'DNA topoisomerase IV subunit B', 'CCU70478.1': 'esterase', 'CCU70479.1': \"3',5' cAMP phosphodiesterase\", 'CCU70480.1': 'hypothetical protein', 'CCU70481.1': 'ADP-ribose pyrophosphatase', 'CCU70482.1': 'TolC subfamily outer membrane protein', 'CCU70483.1': '3-deoxy-D-manno-octulosonic-acid transferase', 'CCU70484.1': 'bifunctional protein RfaE, domain I', 'CCU70485.1': 'rfaD gene product', 'CCU70486.1': 'lipid A biosynthesis lauroyl (or palmitoleoyl) acyltransferase', 'CCU70487.1': 'fused DNA-binding transcriptional regulator and aminotransferase', 'CCU70488.1': 'iron-sulfur cluster-binding protein', 'CCU70489.1': 'dual serine/threonine-protein kinase/phosphatase', 'CCU70490.1': 'formate/nitrate transporter', 'CCU70491.1': 'hypothetical protein', 'CCU70492.1': 'Acyl-CoA dehydrogenase', 'CCU70493.1': 'oxidoreductase, short chain dehydrogenase/reductase family', 'CCU70494.1': 'phosphotransferase enzyme family protein', 'CCU70495.1': 'Phosphoglycerate mutase', 'CCU70496.1': 'short-chain alcohol dehydrogenase-like protein', 'CCU70497.1': 'hypothetical protein', 'CCU70498.1': 'peptidase S8 and S53 subtilisin kexin sedolisin', 'CCU70499.1': 'Mg chelatase', 'CCU70500.1': 'hypothetical protein', 'CCU70501.1': 'hypothetical protein', 'CCU70502.1': 'hypothetical protein', 'CCU70503.1': 'hypothetical protein', 'CCU70504.1': 'ATP-dependent DNA helicase Rep', 'CCU70505.1': 'hypothetical protein', 'CCU70506.1': 'hypothetical protein', 'CCU70507.1': 'hypothetical protein', 'CCU70508.1': 'hypothetical protein', 'CCU70509.1': 'putative rna polymerase sigma-e factor (sigma-24) protein', 'CCU70510.1': 'hypothetical protein', 'CCU70511.1': 'hypothetical protein', 'CCU70512.1': 'hypothetical protein', 'CCU70513.1': 'hypothetical protein', 'CCU70514.1': 'hypothetical protein', 'CCU70515.1': 'spermidine synthase', 'CCU70516.1': 'hypothetical protein', 'CCU70517.1': 'hypothetical protein', 'CCU70518.1': 'hypothetical protein', 'CCU70519.1': 'hypothetical protein', 'CCU70520.1': 'hypothetical protein', 'CCU70521.1': 'glucosamine--fructose-6-phosphate aminotransferase, isomerizing', 'CCU70522.1': 'transcriptional regulator of glmS, DeoR family protein', 'CCU70523.1': 'hypothetical protein', 'CCU70524.1': 'hypothetical protein', 'CCU70525.1': 'thiol:disulfide interchange protein DsbA', 'CCU70526.1': 'cytochrome c4', 'CCU70527.1': 'cytochrome c', 'CCU70528.1': 'hypothetical protein', 'CCU70529.1': 'hypothetical protein', 'CCU70530.1': 'hypothetical protein', 'CCU70531.1': 'cholesterol oxidase', 'CCU70532.1': 'DNA polymerase I', 'CCU70533.1': 'hypothetical protein', 'CCU70534.1': 'Homoserine kinase', 'CCU70535.1': 'hypothetical protein', 'CCU70536.1': 'hypothetical protein', 'CCU70537.1': 'hypothetical protein', 'CCU70538.1': 'hypothetical protein', 'CCU70539.1': 'transporter, putative', 'CCU70540.1': 'hypothetical protein', 'CCU70541.1': 'predicted TonB-dependent outer membrane thiamine receptor', 'CCU70542.1': 'heat shock protein HtpX', 'CCU70543.1': 'hypothetical protein', 'CCU70544.1': 'putative fatty acid desaturase', 'CCU70545.1': 'hypothetical protein', 'CCU70546.1': 'hypothetical protein', 'CCU70547.1': 'hypothetical protein', 'CCU70548.1': 'lysophospholipase', 'CCU70549.1': 'hypothetical protein', 'CCU70550.1': 'prlC gene product', 'CCU70551.1': 'hypothetical protein', 'CCU70552.1': 'glyoxalase/bleomycin resistance protein/dioxygenase', 'CCU70553.1': 'hypothetical protein', 'CCU70554.1': 'hypothetical protein', 'CCU70555.1': 'hypothetical protein', 'CCU70556.1': 'hypothetical protein', 'CCU70557.1': 'hypothetical protein', 'CCU70558.1': 'methyl-accepting chemotaxis sensory transducer', 'CCU70559.1': 'hypothetical protein', 'CCU70560.1': 'hypothetical protein', 'CCU70561.1': 'hypothetical protein', 'CCU70562.1': 'hypothetical protein', 'CCU70563.1': 'shikimate dehydrogenase', 'CCU70564.1': 'coproporphyrinogen III oxidase', 'CCU70565.1': 'hypothetical protein', 'CCU70566.1': 'hypothetical protein', 'CCU70567.1': 'DNA protecting protein DprA', 'CCU70568.1': 'peptidoglycan-binding LysM', 'CCU70569.1': 'peptide deformylase', 'CCU70570.1': 'methionyl-tRNA formyltransferase', 'CCU70571.1': 'sun protein', 'CCU70572.1': 'trkA gene product', 'CCU70573.1': 'TrkH family potassium uptake protein', 'CCU70574.1': 'sulfate transporter', 'CCU70575.1': 'universal stress global response regulator', 'CCU70576.1': 'RNA polymerase sigma factor', 'CCU70577.1': 'hypothetical protein', 'CCU70578.1': 'hypothetical protein', 'CCU70579.1': 'hypothetical protein', 'CCU70580.1': 'hypothetical protein', 'CCU70581.1': 'CheY-like receiver protein', 'CCU70582.1': 'hypothetical protein', 'CCU70583.1': 'methyltransferase', 'CCU70584.1': 'hypothetical protein', 'CCU70585.1': 'signal recognition particle receptor', 'CCU70586.1': 'cell division ABC transporter, ATP-binding protein FtsE', 'CCU70587.1': 'Cell division protein', 'CCU70588.1': 'hypothetical protein', 'CCU70589.1': 'RNA polymerase factor sigma-32', 'CCU70590.1': 'hypothetical protein', 'CCU70591.1': 'TRAP dicarboxylate transporter, inner membrane large subunit M', 'CCU70592.1': 'TRAP dicarboxylate transporter, inner membrane small subunit Q', 'CCU70593.1': 'ABC transporter phosphate binding periplasmic component', 'CCU70594.1': 'phosphate ABC transporter permease', 'CCU70595.1': 'phosphate ABC transporter permease', 'CCU70596.1': 'phosphate transporter ATP-binding protein', 'CCU70597.1': 'phosphate transporter regulatory protein PhoU', 'CCU70598.1': 'outer membrane protein (porin)', 'CCU70599.1': 'sensor signal transduction histidine kinase PhoR', 'CCU70600.1': 'DNA-binding response regulator PhoB', 'CCU70601.1': 'hypothetical protein', 'CCU70602.1': 'hypothetical protein', 'CCU70603.1': \"tRNA guanosine-2'-O-methyltransferase\", 'CCU70604.1': 'putative sulfate transport protein CysZ', 'CCU70605.1': 'CheY-like receiver protein', 'CCU70606.1': 'sensor signal transduction histidine kinase PhoR', 'CCU70607.1': 'DNA-binding response regulator PhoB', 'CCU70608.1': '4-hydroxybenzoate polyprenyl transferase', 'CCU70609.1': 'hypothetical protein', 'CCU70610.1': 'rubredoxin', 'CCU70611.1': 'FAD-dependent pyridine nucleotide-disulfide oxidoreductase', 'CCU70612.1': 'hupA gene product', 'CCU70613.1': 'hypothetical protein', 'CCU70614.1': 'hypothetical protein', 'CCU70615.1': 'proton/glutamate symporter', 'CCU70616.1': 'hypothetical protein', 'CCU70617.1': 'hypothetical protein', 'CCU70618.1': 'ATP-dependent DNA helicase RecG', 'CCU70619.1': 'oxidative stress regulatory protein OxyR', 'CCU70620.1': 'ActC family protein', 'CCU70621.1': 'hypothetical protein', 'CCU70622.1': 'zinc carboxypeptidase-like protein', 'CCU70623.1': 'spoT gene product', 'CCU70624.1': 'DNA-directed RNA polymerase omega subunit', 'CCU70625.1': 'guanylate kinase', 'CCU70626.1': 'extradiol ring-cleavage dioxygenase III subunit B', 'CCU70627.1': 'XRE family transcriptional regulator and HipB antitoxin', 'CCU70628.1': 'HipA toxin', 'CCU70629.1': 'hypothetical protein', 'CCU70630.1': 'AAA+ superfamily ATPase', 'CCU70631.1': 'hypothetical protein', 'CCU70632.1': 'hypothetical protein', 'CCU70633.1': 'prophage CP4-57 regulatory family protein', 'CCU70634.1': 'inner membrane protein', 'CCU70635.1': 'transcriptional regulator', 'CCU70636.1': 'type I restriction-modification system, M subunit', 'CCU70637.1': 'hypothetical protein', 'CCU70638.1': 'hypothetical protein', 'CCU70639.1': 'hypothetical protein', 'CCU70640.1': 'protein kinase putative', 'CCU70641.1': 'hypothetical protein', 'CCU70642.1': 'hypothetical protein', 'CCU70643.1': 'hypothetical protein', 'CCU70644.1': 'hypothetical protein', 'CCU70645.1': 'transcriptional regulator, XRE family', 'CCU70646.1': 'hypothetical protein', 'CCU70647.1': 'hypothetical protein', 'CCU70648.1': 'site-specific recombinase, phage integrase family', 'CCU70649.1': 'putative alpha helix protein', 'CCU70650.1': 'ribonuclease PH', 'CCU70651.1': 'Exonuclease III', 'CCU70652.1': 'orotate phosphoribosyltransferase', 'CCU70653.1': 'hypothetical protein', 'CCU70654.1': 'nucleoid occlusion protein', 'CCU70655.1': 'Acetylglutamate kinase', 'CCU70656.1': 'phosphomannomutase', 'CCU70657.1': \"deoxyuridine 5'-triphosphate nucleotidohydrolase Dut\", 'CCU70658.1': 'phosphopantothenoylcysteine decarboxylase/phosphopantothenate--cysteine ligase', 'CCU70659.1': 'radC gene product', 'CCU70660.1': 'hypothetical protein', 'CCU70661.1': '50S ribosomal protein L28', 'CCU70662.1': '50S ribosomal protein L33', 'CCU70663.1': 'formamidopyrimidine/5-formyluracil/ 5-hydroxymethyluracil DNA glycosylase', 'CCU70664.1': 'hypothetical protein', 'CCU70665.1': 'hypothetical protein', 'CCU70666.1': 'Gamma-glutamyltransferase', 'CCU70667.1': '4Fe-4S ferredoxin', 'CCU70668.1': 'coaD gene product', 'CCU70669.1': 'glucose-methanol-choline oxidoreductase', 'CCU70670.1': 'hypothetical protein', 'CCU70671.1': 'NAD-dependent aldehyde dehydrogenase', 'CCU70672.1': 'probable transcriptional regulator', 'CCU70673.1': 'hypothetical protein', 'CCU70674.1': 'endonuclease', 'CCU70675.1': 'hypothetical protein', 'CCU70676.1': 'Transcriptional regulator', 'CCU70677.1': 'DASS family transporter', 'CCU70678.1': 'UbiA prenyltransferase', 'CCU70679.1': 'Twin-arginine translocation protein TatC', 'CCU70680.1': 'hypothetical protein', 'CCU70681.1': 'tatA gene product', 'CCU70682.1': 'probable HIT family protein', 'CCU70683.1': 'phosphoribosyl-ATP pyrophosphatase', 'CCU70684.1': 'phosphoribosyl-AMP cyclohydrolase', 'CCU70685.1': '2-polyprenylphenol 6-hydroxylase', 'CCU70686.1': 'hypothetical protein', 'CCU70687.1': 'ubiquinone/menaquinone biosynthesis methyltransferase', 'CCU70688.1': 'hypothetical protein', 'CCU70689.1': 'heat shock protein, Hsp20 family', 'CCU70690.1': 'response regulator receiver modulated diguanylate cyclase/phosphodiesterase', 'CCU70691.1': 'hypothetical protein', 'CCU70692.1': 'TonB-dependent receptor, plug', 'CCU70693.1': 'hypothetical protein', 'CCU70694.1': 'hypothetical protein', 'CCU70695.1': 'hypothetical protein', 'CCU70696.1': 'Arylesterase', 'CCU70697.1': 'ABC-type transport system, ATPase component', 'CCU70698.1': 'permease', 'CCU70699.1': 'Heat shock protein HtpX', 'CCU70700.1': 'LemA family protein', 'CCU70701.1': 'hypothetical protein', 'CCU70702.1': 'hypothetical protein', 'CCU70703.1': 'ATP-dependent RNA helicase RhlE', 'CCU70704.1': 'class I cytochrome c', 'CCU70705.1': 'hypothetical protein', 'CCU70706.1': 'HAD superfamily hydrolase', 'CCU70707.1': 'hypothetical protein', 'CCU70708.1': 'diaminopimelate epimerase', 'CCU70709.1': 'diaminopimelate decarboxylase', 'CCU70710.1': 'hypothetical protein', 'CCU70711.1': 'hypothetical protein', 'CCU70712.1': 'dihydroorotase-like protein', 'CCU70713.1': 'aspartate carbamoyltransferase catalytic subunit', 'CCU70714.1': 'bifunctional pyrimidine regulatory protein PyrR uracil phosphoribosyltransferase', 'CCU70715.1': 'hypothetical protein', 'CCU70716.1': 'hypothetical protein', 'CCU70717.1': 'TonB family protein', 'CCU70718.1': 'glutathione synthetase', 'CCU70719.1': 'hypothetical protein', 'CCU70720.1': 'Response regulator receiver domain protein (CheY)', 'CCU70721.1': 'Chemotaxis signal transduction protein', 'CCU70722.1': 'Methyl-accepting chemotaxis protein', 'CCU70723.1': 'methylase of chemotaxis methyl-accepting protein', 'CCU70724.1': 'sensor histidine kinase/response regulator', 'CCU70725.1': 'chemotaxis protein CheB', 'CCU70726.1': 'hypothetical protein', 'CCU70727.1': 'capsular polysaccharide biosynthesis protein', 'CCU70728.1': 'hypothetical protein', 'CCU70729.1': 'capsule biosynthesis phosphatase', 'CCU70730.1': 'hypothetical protein', 'CCU70731.1': 'hypothetical protein', 'CCU70732.1': 'hypothetical protein', 'CCU70733.1': 'hypothetical protein', 'CCU70734.1': 'hypothetical protein', 'CCU70735.1': 'hypothetical protein', 'CCU70736.1': 'S-adenosyl-L-homocysteine hydrolase', 'CCU70737.1': 'S-adenosylmethionine synthetase', 'CCU70738.1': 'SAM-dependent methyltransferase', 'CCU70739.1': 'MoxR-like ATPase', 'CCU70740.1': 'hypothetical protein', 'CCU70741.1': 'hypothetical protein', 'CCU70742.1': 'hypothetical protein', 'CCU70743.1': 'DNA topoisomerase III', 'CCU70744.1': 'hypothetical protein', 'CCU70745.1': 'Branched-chain-amino-acid aminotransferase', 'CCU70746.1': 'Glutamate-ammonia-ligase adenylyltransferase', 'CCU70747.1': 'Binding-protein-dependent transport systems inner membrane component', 'CCU70748.1': 'putrescine transport protein', 'CCU70749.1': 'putative putrescine transport ATP-binding protein', 'CCU70750.1': 'transcription factor jumonji, jmjC', 'CCU70751.1': 'hypothetical protein', 'CCU70752.1': 'penicillin-binding protein 1B', 'CCU70753.1': 'hypothetical protein', 'CCU70754.1': 'methyl-accepting chemotaxis protein', 'CCU70755.1': 'hypothetical protein', 'CCU70756.1': 'glutamate-1-semialdehyde-2,1-aminomutase', 'CCU70757.1': 'hypothetical protein', 'CCU70758.1': 'Cl-channel, voltage-gated family protein', 'CCU70759.1': 'N-acetyl-gamma-glutamyl-phosphate reductase', 'CCU70760.1': 'hypothetical protein', 'CCU70761.1': 'bactofilin', 'CCU70762.1': 'HesB/YadR/YfhF family protein', 'CCU70763.1': 'hypothetical protein', 'CCU70764.1': 'anhydro-N-acetylmuramic acid kinase', 'CCU70765.1': 'metalloendopeptidase-like membrane protein', 'CCU70766.1': 'tyrosyl-tRNA synthetase', 'CCU70767.1': 'hypothetical protein', 'CCU70768.1': 'hypothetical protein', 'CCU70769.1': 'hypothetical protein', 'CCU70770.1': 'hypothetical protein', 'CCU70771.1': '2-isopropylmalate synthase', 'CCU70772.1': 'hypothetical protein', 'CCU70773.1': 'rimI gene product', 'CCU70774.1': 'hypothetical protein', 'CCU70775.1': 'response regulator consisting of a CheY-like receiver domain and a Fis-type HTH domain', 'CCU70776.1': 'hypothetical protein', 'CCU70777.1': 'hypothetical protein', 'CCU70778.1': 'fatty acid desaturase', 'CCU70779.1': 'arginyl-tRNA synthetase', 'CCU70780.1': 'Sporulation related protein', 'CCU70781.1': 'ATP-dependent DNA helicase RecQ', 'CCU70782.1': 'esterase/lipase/thioesterase family protein', 'CCU70783.1': 'hypothetical protein', 'CCU70784.1': 'hypothetical protein', 'CCU70785.1': 'hypothetical protein', 'CCU70786.1': 'retron reverse transcriptase', 'CCU70787.1': 'resolvase', 'CCU70788.1': 'hypothetical protein', 'CCU70789.1': 'hypothetical protein', 'CCU70790.1': 'hypothetical protein', 'CCU70791.1': 'hypothetical protein', 'CCU70792.1': 'hypothetical protein', 'CCU70793.1': 'mutY gene product', 'CCU70794.1': 'multifuntional c-di-GMP phosphodiesterase,heme-regulated oxygen sensor and signal transduction membrane protein', 'CCU70795.1': 'hypothetical protein', 'CCU70796.1': 'hypothetical protein', 'CCU70797.1': 'imidazoleglycerol-phosphate dehydratase', 'CCU70798.1': 'imidazole glycerol phosphate synthase subunit HisH', 'CCU70799.1': '1-(5-phosphoribosyl)-5-imidazole-4-carboxamide isomerase', 'CCU70800.1': 'Imidazoleglycerol-phosphate synthase', 'CCU70801.1': 'hypothetical protein', 'CCU70802.1': 'dihydroxy-acid dehydratase', 'CCU70803.1': 'redox protein', 'CCU70804.1': 'predicted metal-dependent RNase', 'CCU70805.1': 'hypothetical protein', 'CCU70806.1': 'hypothetical protein', 'CCU70807.1': 'hypothetical protein', 'CCU70808.1': 'hypothetical protein', 'CCU70809.1': 'hypothetical protein', 'CCU70810.1': 'type VI secretion protein', 'CCU70811.1': 'DotU', 'CCU70812.1': 'type VI secretion protein IcmF', 'CCU70813.1': 'type VI secretion-associated protein, BMA_A0400 family', 'CCU70814.1': 'type VI secretion-associated protein, ImpA family', 'CCU70815.1': 'type VI secretion protein', 'CCU70816.1': 'type VI secretion protein, EvpB/family', 'CCU70817.1': 'type VI secretion protein, EvpB/family', 'CCU70818.1': 'type VI secretion system lysozyme-related protein', 'CCU70819.1': 'type VI secretion protein, VC_A0110 family', 'CCU70820.1': 'hypothetical protein', 'CCU70821.1': 'type VI secretion ATPase, ClpV1 family', 'CCU70822.1': 'hypothetical protein', 'CCU70823.1': 'hypothetical protein', 'CCU70824.1': 'hypothetical protein', 'CCU70825.1': 'hypothetical protein', 'CCU70826.1': 'hypothetical protein', 'CCU70827.1': 'paar', 'CCU70828.1': 'hypothetical protein', 'CCU70829.1': 'hypothetical protein', 'CCU70830.1': 'hemolysin-coregulated protein', 'CCU70831.1': 'hypothetical protein', 'CCU70832.1': 'hypothetical protein', 'CCU70833.1': 'protein serine/threonine phosphatase', 'CCU70834.1': 'TPS family secretin', 'CCU70835.1': 'predicted heterotrimeric autotransporter subunit A', 'CCU70836.1': 'predicted heterotrimeric autotransporter subunit B', 'CCU70837.1': 'predicted heterotrimeric autotransporter subunit C', 'CCU70838.1': 'TRAP dicarboxylate transporter, inner membrane subunit QM', 'CCU70839.1': 'peptide chain release factor 3', 'CCU70840.1': 'hypothetical protein', 'CCU70841.1': 'rplM gene product', 'CCU70842.1': 'rpsI gene product', 'CCU70843.1': 'Ubiquinol-cytochrome c reductase, iron-sulfur subunit', 'CCU70844.1': 'cytochrome b', 'CCU70845.1': 'Cytochrome c1', 'CCU70846.1': 'glutathione S-transferase-like protein', 'CCU70847.1': 'starvation protein B', 'CCU70848.1': 'elongation factor P-like protein', 'CCU70849.1': 'hypothetical protein', 'CCU70850.1': 'hypothetical protein', 'CCU70851.1': 'amidase', 'CCU70852.1': 'hypothetical protein', 'CCU70853.1': 'hypothetical protein', 'CCU70854.1': 'oxidoreductase alpha (molybdopterin) subunit', 'CCU70855.1': 'hypothetical protein', 'CCU70856.1': 'hypothetical protein', 'CCU70857.1': 'hypothetical protein', 'CCU70858.1': 'hypothetical protein', 'CCU70859.1': 'hypothetical protein', 'CCU70860.1': 'hypothetical protein', 'CCU70861.1': 'transposase', 'CCU70862.1': 'plasmid stabilization system', 'CCU70863.1': 'CopG family transcriptional regulator', 'CCU70864.1': 'hypothetical protein', 'CCU70866.1': 'transposase IS66', 'CCU70867.1': 'IS66 Orf2 family protein', 'CCU70868.1': 'hypothetical protein', 'CCU70869.1': 'hypothetical protein', 'CCU70870.1': 'hypothetical protein', 'CCU70871.1': 'type III restriction enzyme, Res subunit', 'CCU70872.1': 'type III restriction-modification system methylation subunit', 'CCU70873.1': 'hypothetical protein', 'CCU70874.1': 'hypothetical protein', 'CCU70875.1': 'hypothetical protein', 'CCU70876.1': 'hypothetical protein', 'CCU70877.1': 'hypothetical protein', 'CCU70878.1': 'acriflavin resistance protein', 'CCU70879.1': 'CinA domain protein', 'CCU70880.1': 'recA protein', 'CCU70881.1': 'regulatory protein RecX', 'CCU70882.1': 'hypothetical protein', 'CCU70883.1': 'NADH dehydrogenase', 'CCU70884.1': 'hypothetical protein', 'CCU70885.1': 'hypothetical protein', 'CCU70886.1': 'hypothetical protein', 'CCU70887.1': 'hypothetical protein', 'CCU70888.1': 'alanyl-tRNA synthetase', 'CCU70889.1': 'aspartate kinase', 'CCU70890.1': 'carbon storage regulator', 'CCU70891.1': 'hypothetical protein', 'CCU70892.1': 'hypothetical protein', 'CCU70893.1': 'hypothetical protein', 'CCU70894.1': 'hypothetical protein', 'CCU70895.1': 'hypothetical protein', 'CCU70896.1': 'hypothetical protein', 'CCU70897.1': 'hypothetical protein', 'CCU70898.1': 'hypothetical protein', 'CCU70899.1': 'hypothetical protein', 'CCU70900.1': 'hypothetical protein', 'CCU70901.1': 'hypothetical protein', 'CCU70902.1': 'gp05 gene product', 'CCU70903.1': 'hypothetical protein', 'CCU70904.1': 'hypothetical protein', 'CCU70905.1': 'hypothetical protein', 'CCU70906.1': 'hypothetical protein', 'CCU70907.1': 'hypothetical protein', 'CCU70908.1': 'hypothetical protein', 'CCU70909.1': 'hypothetical protein', 'CCU70910.1': 'hypothetical protein', 'CCU70911.1': 'hypothetical protein', 'CCU70912.1': 'hypothetical protein', 'CCU70913.1': 'peptidase M15A', 'CCU70914.1': 'hypothetical protein', 'CCU70915.1': 'hypothetical protein', 'CCU70916.1': 'hypothetical protein', 'CCU70917.1': 'C4-type zinc finger DksA/TraR family protein', 'CCU70918.1': 'hypothetical protein', 'CCU70919.1': 'hypothetical protein', 'CCU70920.1': 'Mu-like prophage FluMu protein gp27', 'CCU70921.1': 'hypothetical protein', 'CCU70922.1': 'hypothetical protein', 'CCU70923.1': 'hypothetical protein', 'CCU70924.1': 'Phage (Mu-like) virion morphogenesis protein', 'CCU70925.1': 'hypothetical protein', 'CCU70926.1': 'hypothetical protein', 'CCU70927.1': 'hypothetical protein', 'CCU70928.1': 'phage membrane protein', 'CCU70929.1': 'hypothetical protein', 'CCU70930.1': 'Mu-like prophage I protein', 'CCU70931.1': 'hypothetical protein', 'CCU70932.1': 'Mu-like prophage major head subunit gpT', 'CCU70933.1': 'hypothetical protein', 'CCU70934.1': 'hypothetical protein', 'CCU70935.1': 'phage virion morphogenesis protein', 'CCU70936.1': 'hypothetical protein', 'CCU70937.1': 'hypothetical protein', 'CCU70938.1': 'bacteriophage Mu tail sheath protein (GpL)', 'CCU70939.1': 'hypothetical protein', 'CCU70940.1': 'hypothetical protein', 'CCU70941.1': 'phage-related tail protein', 'CCU70942.1': 'hypothetical protein', 'CCU70943.1': 'hypothetical protein', 'CCU70944.1': 'hypothetical protein', 'CCU70945.1': 'Bacteriophage protein GP46', 'CCU70946.1': 'baseplate J-like protein', 'CCU70947.1': 'hypothetical protein', 'CCU70948.1': 'hypothetical protein', 'CCU70949.1': 'hypothetical protein', 'CCU70950.1': 'class II aldolase/adducin family protein', 'CCU70951.1': 'methyl-accepting chemotaxis sensory transducer', 'CCU70952.1': 'anthranilate phosphoribosyltransferase', 'CCU70953.1': 'hypothetical protein', 'CCU70954.1': 'smtA gene product', 'CCU70955.1': 'hypothetical protein', 'CCU70956.1': 'diguanylate cyclase', 'CCU70957.1': 'AraC family transcriptional regulator', 'CCU70958.1': 'monooxygenase flavin-binding family protein', 'CCU70959.1': 'ketopantoate reductase oxidoreductase protein (panE)', 'CCU70960.1': 'hypothetical protein', 'CCU70961.1': 'metal-dependent hydrolase', 'CCU70962.1': 'metal-dependent hydrolase', 'CCU70963.1': 'medium-chain-fatty-acid--CoA ligase', 'CCU70964.1': 'hypothetical protein', 'CCU70965.1': 'Enoyl-CoA hydratase/isomerase', 'CCU70966.1': '2-nitropropane dioxygenase', 'CCU70967.1': 'fatty acid desaturase', 'CCU70968.1': 'hypothetical protein', 'CCU70969.1': 'hypothetical protein', 'CCU70970.1': 'helix-turn-helix domain protein', 'CCU70971.1': 'hypothetical protein', 'CCU70972.1': 'hypothetical protein', 'CCU70973.1': 'hypothetical protein', 'CCU70974.1': 'hypothetical protein', 'CCU70975.1': 'transposase IS66', 'CCU70976.1': 'IS66 Orf2 family protein', 'CCU70977.1': 'hypothetical protein', 'CCU70978.1': 'hypothetical protein', 'CCU70979.1': 'resistance operon regulatory protein', 'CCU70980.1': 'Mercuric transport protein MerT', 'CCU70981.1': 'mercuric transport protein periplasmic component', 'CCU70982.1': 'hypothetical protein', 'CCU70983.1': 'Iron permease FTR1/Cytochrome c domain protein', 'CCU70984.1': 'MerR family transcriptional regulator', 'CCU70985.1': 'Co/Zn/Cd efflux system component', 'CCU70986.1': 'hypothetical protein', 'CCU70987.1': 'outer membrane efflux protein', 'CCU70988.1': 'RND family efflux transporter MFP subunit', 'CCU70989.1': 'CzcA family heavy metal efflux protein', 'CCU70990.1': 'nitrogen regulatory protein P-II', 'CCU70991.1': 'cation efflux family protein', 'CCU70992.1': 'hypothetical protein', 'CCU70993.1': 'hypothetical protein', 'CCU70994.1': 'hypothetical protein', 'CCU70995.1': 'heavy metal sensor signal transduction histidine kinase', 'CCU70996.1': 'heavy metal response regulator', 'CCU70997.1': 'hypothetical protein', 'CCU70998.1': 'copper-resistance protein, CopA family protein', 'CCU70999.1': 'CPx-type copper ATPase', 'CCU71000.1': 'hypothetical protein', 'CCU71001.1': 'cytochrome c family protein', 'CCU71002.1': 'ATPase P', 'CCU71003.1': 'hypothetical protein', 'CCU71004.1': 'hypothetical protein', 'CCU71005.1': 'hypothetical protein', 'CCU71006.1': 'nitrogen regulatory protein P-II', 'CCU71007.1': 'hypothetical protein', 'CCU71008.1': 'hypothetical protein', 'CCU71009.1': 'hypothetical protein', 'CCU71010.1': 'outer membrane efflux protein', 'CCU71011.1': 'Cu(I)/Ag(I) efflux system membrane protein CusB', 'CCU71012.1': 'cation efflux system protein cusA', 'CCU71013.1': 'hypothetical protein', 'CCU71014.1': 'hypothetical protein', 'CCU71015.1': 'hypothetical protein', 'CCU71016.1': 'hypothetical protein', 'CCU71017.1': 'RNA polymerase sigma factor', 'CCU71018.1': 'DNA primase', 'CCU71019.1': 'hypothetical protein', 'CCU71020.1': '30S ribosomal protein S21', 'CCU71021.1': 'O-sialoglycoprotein endopeptidase', 'CCU71022.1': 'dihydroneopterin aldolase', 'CCU71023.1': '2-amino-4-hydroxy-6- hydroxymethyldihydropteridinepyrophosphokinase', 'CCU71024.1': 'tRNA nucleotidyltransferase', 'CCU71025.1': 'hypothetical protein', 'CCU71026.1': 'protein of unknown function DUF6 transmembrane', 'CCU71027.1': 'hypothetical protein', 'CCU71028.1': 'hypothetical protein', 'CCU71029.1': 'hypothetical protein', 'CCU71030.1': 'hypothetical protein', 'CCU71031.1': 'hypothetical protein', 'CCU71032.1': 'hypothetical protein', 'CCU71033.1': 'thiosulfate sulfurtransferase', 'CCU71034.1': 'diadenosine tetraphosphatase', 'CCU71035.1': 'ApaG domain protein', 'CCU71036.1': 'dimethyladenosine transferase', 'CCU71037.1': '4-hydroxythreonine-4-phosphate dehydrogenase', 'CCU71038.1': 'Parvulin-like peptidyl-prolyl isomerase', 'CCU71039.1': 'hypothetical protein', 'CCU71040.1': 'aminoglycoside phosphotransferase', 'CCU71041.1': 'Nucleotidyl transferase', 'CCU71042.1': 'Dna-J like membrane chaperone protein', 'CCU71043.1': 'peptidyl-tRNA hydrolase domain protein', 'CCU71044.1': 'channel protein (hemolysin III family protein)', 'CCU71045.1': 'hypothetical protein', 'CCU71046.1': 'hypothetical protein', 'CCU71047.1': 'hypothetical protein', 'CCU71048.1': 'Type II secretory pathway, component PulD', 'CCU71049.1': 'Maf-like protein', 'CCU71050.1': 'manganese superoxide dismutase Mn-SOD', 'CCU71051.1': 'hypothetical protein', 'CCU71052.1': 'hypothetical protein', 'CCU71053.1': 'hypothetical protein', 'CCU71054.1': 'hypothetical protein', 'CCU71055.1': 'hypothetical protein', 'CCU71056.1': 'hypothetical protein', 'CCU71057.1': 'Tartrate dehydratase alpha subunit/Fumarate hydratase class I, N-terminal domain', 'CCU71058.1': 'hypothetical protein', 'CCU71059.1': 'hypothetical protein', 'CCU71060.1': 'hypothetical protein', 'CCU71061.1': 'hypothetical protein', 'CCU71062.1': 'chemotaxis MotA protein', 'CCU71063.1': 'chemotaxis MotB protein', 'CCU71064.1': 'hypothetical protein', 'CCU71065.1': 'hypothetical protein', 'CCU71066.1': 'alkaline phosphatase', 'CCU71067.1': 'decarboxylase family protein', 'CCU71068.1': 'hypothetical protein', 'CCU71069.1': 'hypothetical protein', 'CCU71070.1': 'formyltetrahydrofolate deformylase', 'CCU71071.1': 'Acetyl-CoA acetyltransferase', 'CCU71072.1': 'hypothetical protein', 'CCU71073.1': 'ABC-type dipeptide transport system, periplasmic component', 'CCU71074.1': 'hypothetical protein', 'CCU71075.1': 'hypothetical protein', 'CCU71076.1': 'serine/threonine protein kinase', 'CCU71077.1': 'hypothetical protein', 'CCU71078.1': 'bioF', 'CCU71079.1': 'hypothetical protein', 'CCU71080.1': 'hypothetical protein', 'CCU71081.1': 'Acyl-CoA dehydrogenase', 'CCU71082.1': 'probable acyl-CoA dehydrogenase', 'CCU71083.1': 'hypothetical protein', 'CCU71084.1': 'ribosomal subunit interface protein', 'CCU71085.1': 'hypothetical protein', 'CCU71086.1': 'hypothetical protein', 'CCU71087.1': 'anthranilate synthase component I', 'CCU71088.1': 'anthranilate synthase component II', 'CCU71089.1': 'anthranilate phosphoribosyltransferase', 'CCU71090.1': 'trpC gene product', 'CCU71091.1': 'cAMP-regulatory protein', 'CCU71092.1': 'hypothetical protein', 'CCU71093.1': 'hypothetical protein', 'CCU71094.1': 'S-adenosylmethionine decarboxylase', 'CCU71095.1': 'major facilitator transporter', 'CCU71096.1': 'hypothetical protein', 'CCU71097.1': 'hypothetical protein', 'CCU71098.1': 'sensory box protein', 'CCU71099.1': 'inorganic pyrophosphatase', 'CCU71100.1': 'hypothetical protein', 'CCU71101.1': 'hypothetical protein', 'CCU71102.1': 'hypothetical protein', 'CCU71103.1': 'hypothetical protein', 'CCU71104.1': 'hypothetical protein', 'CCU71105.1': 'inositol phosphatase/fructose-1,6-bisphosphatase', 'CCU71106.1': 'UDP-N-acetylmuramate:L-alanyl-gamma-D-glutamyl- meso-diaminopimelate ligase', 'CCU71107.1': '3-octaprenyl-4-hydroxybenzoate carboxy-lyase', 'CCU71108.1': 'hypothetical protein', 'CCU71109.1': 'hypothetical protein', 'CCU71110.1': 'hypothetical protein', 'CCU71111.1': 'hybrid peroxiredoxin hyPrx5', 'CCU71112.1': 'apolipoprotein N-acyltransferase', 'CCU71113.1': 'hypothetical protein', 'CCU71114.1': 'hypothetical protein', 'CCU71115.1': 'hypothetical protein', 'CCU71116.1': 'hypothetical protein', 'CCU71117.1': 'holA gene product', 'CCU71118.1': 'hypothetical protein', 'CCU71119.1': 'leucyl-tRNA synthetase', 'CCU71120.1': 'hypothetical protein', 'CCU71121.1': 'hypothetical protein', 'CCU71122.1': 'hypothetical protein', 'CCU71123.1': 'hypothetical protein', 'CCU71124.1': 'CheY-like receiver protein', 'CCU71125.1': 'DNA gyrase inhibitor', 'CCU71126.1': 'dephospho-CoA kinase', 'CCU71127.1': 'Leader peptidase (Prepilin peptidase) / N-methyltransferase', 'CCU71128.1': 'Type II secretory pathway, component PulF', 'CCU71129.1': 'Type II secretory pathway, ATPase PulE/Tfp pilus assembly pathway, ATPase PilB', 'CCU71130.1': 'pilin', 'CCU71131.1': 'nicotinate-nucleotide pyrophosphorylase', 'CCU71132.1': 'amino acid carrier protein', 'CCU71133.1': 'N-acetyl-anhydromuramyl-L-alanine amidase', 'CCU71134.1': 'hypothetical protein', 'CCU71135.1': 'ROK', 'CCU71136.1': 'hypothetical protein', 'CCU71137.1': 'cobalbumin biosynthesis protein', 'CCU71138.1': 'nicotinate-nucleotide--dimethylbenzimidazole phosphoribosyltransferase', 'CCU71139.1': 'Phosphoglycerate/bisphosphoglycerate mutase', 'CCU71140.1': 'Cobalamin synthase', 'CCU71141.1': 'cobyric acid synthase', 'CCU71142.1': 'substrate-binding periplasmic (PBP) ABC transporter protein', 'CCU71143.1': 'cob(I)alamin adenolsyltransferase/cobinamide ATP-dependent adenolsyltransferase', 'CCU71144.1': 'Pyruvate dehydrogenase complex, dehydrogenase (E1) component', 'CCU71145.1': 'pyruvate dehydrogenase complex dihydrolipoamide acetyltransferase', 'CCU71146.1': 'hypothetical protein', 'CCU71147.1': 'flavin-binding family monooxygenase', 'CCU71148.1': 'hypothetical protein', 'CCU71149.1': 'putative methylated-DNA binding protein', 'CCU71150.1': '3-oxoacyl-ACP reductase', 'CCU71151.1': 'probable transcriptional regulator', 'CCU71152.1': 'putative acyl-CoA transferase/carnitine dehydratase', 'CCU71153.1': 'acyl-CoA dehydrogenase', 'CCU71154.1': 'acetyl-CoA acetyltransferase', 'CCU71155.1': 'fatty oxidation complex, alpha subunit', 'CCU71156.1': 'inner membrane protein yqiK', 'CCU71157.1': 'hypothetical protein', 'CCU71158.1': 'phage shock protein A, PspA', 'CCU71159.1': 'hypothetical protein', 'CCU71160.1': 'flavin-binding family monooxygenase', 'CCU71161.1': 'multipass membrane protein', 'CCU71162.1': 'RecName: Full=10 kDa chaperonin; AltName: Full=GroES protein; AltName: Full=Protein Cpn10 cochaperonin 10', 'CCU71163.1': 'RecName: Full=60 kDa chaperonin; AltName: Full=GroEL protein; AltName: Full=Protein Cpn60 chaperonin 60', 'CCU71164.1': 'hypothetical protein', 'CCU71165.1': 'hypothetical protein', 'CCU71166.1': 'hypothetical protein', 'CCU71167.1': 'putative glycosyltransferase', 'CCU71168.1': 'hypothetical protein', 'CCU71169.1': 'hypothetical protein', 'CCU71170.1': 'hypothetical protein', 'CCU71171.1': 'permease', 'CCU71172.1': 'transporter, CPA2 family', 'CCU71173.1': 'DNA polymerase III subunits gamma and tau', 'CCU71174.1': 'ATP-dependent RNA helicase', 'CCU71175.1': 'hypothetical protein', 'CCU71176.1': 'hydrolase, TatD family', 'CCU71177.1': 'hypothetical protein', 'CCU71178.1': 'RibH-2, riboflavin synthase, beta subunit', 'CCU71179.1': 'Succinylglutamate desuccinylase/aspartoacylase', 'CCU71180.1': 'alpha-L-glutamate ligase', 'CCU71181.1': 'DNA polymerase III, alpha subunit', 'CCU71182.1': 'tRNA(Ile)-lysidine synthetase', 'CCU71183.1': 'hypothetical protein', 'CCU71184.1': 'hypothetical protein', 'CCU71185.1': 'glutathione S-transferase', 'CCU71186.1': 'NhaD family Na+/H+ antiporter', 'CCU71187.1': 'Patatin', 'CCU71188.1': 'endo alpha-1,4 polygalactosaminidase precursor', 'CCU71189.1': 'hypothetical protein', 'CCU71190.1': 'hypothetical protein', 'CCU71191.1': 'ABC transporter-like protein', 'CCU71192.1': 'choline/carnitine/betaine transporter', 'CCU71193.1': 'hypothetical protein', 'CCU71194.1': 'hypothetical protein', 'CCU71195.1': 'hypothetical protein', 'CCU71196.1': 'hypothetical protein', 'CCU71197.1': 'malate:quinone-oxidoreductase', 'CCU71198.1': 'sucrose phosphorylase', 'CCU71199.1': 'transmembrane transport protein', 'CCU71200.1': 'hypothetical protein', 'CCU71201.1': 'hypothetical protein', 'CCU71202.1': 'glucosylglycerol-phosphate synthase', 'CCU71203.1': 'hypothetical protein', 'CCU71204.1': 'hypothetical protein', 'CCU71205.1': 'hypothetical protein', 'CCU71206.1': 'hypothetical protein', 'CCU71207.1': 'glycine dehydrogenase', 'CCU71208.1': 'glycine cleavage system H protein', 'CCU71209.1': 'gcvT gene product', 'CCU71210.1': 'hypothetical protein', 'CCU71211.1': 'NhaP-type Na+(K+)/H+ antiporter', 'CCU71212.1': 'hypothetical protein', 'CCU71213.1': 'peroxiredoxin', 'CCU71214.1': 'cAMP-dependent protein kinase regulatory chain', 'CCU71215.1': 'TRAP dicarboxylate transporter, inner membrane subunit QM', 'CCU71216.1': 'dethiobiotin synthase', 'CCU71217.1': 'hypothetical protein', 'CCU71218.1': '8-amino-7-oxononanoate synthase', 'CCU71219.1': 'adenosylmethionine--8-amino-7-oxononanoate transaminase (DAPA aminotransferase)', 'CCU71220.1': 'hypothetical protein', 'CCU71221.1': 'CheW protein', 'CCU71222.1': 'hypothetical protein', 'CCU71223.1': 'hypothetical protein', 'CCU71224.1': 'hypothetical protein', 'CCU71225.1': 'hypothetical protein', 'CCU71226.1': 'integral membrane sensor signal transduction histidine kinase', 'CCU71227.1': 'two component transcriptional regulator, winged helix family', 'CCU71228.1': 'membrane protein', 'CCU71229.1': 'hypothetical protein', 'CCU71230.1': 'hypothetical protein', 'CCU71231.1': 'hypothetical protein', 'CCU71232.1': 'S-adenosyl-methyltransferase', 'CCU71233.1': 'hypothetical protein', 'CCU71234.1': 'penicillin-binding protein 2', 'CCU71235.1': 'UDP-N-acetylmuramoylalanyl-D-glutamate--2, 6-diaminopimelate ligase', 'CCU71236.1': 'UDP-N-acetylmuramoylalanyl-D-glutamyl-2, 6-diaminopimelate--D-alanyl-D-alanyl ligase', 'CCU71237.1': 'phospho-N-acetylmuramoyl-pentapeptide- transferase', 'CCU71238.1': 'UDP-N-acetylmuramoylalanine--D-glutamate ligase', 'CCU71239.1': 'lipid II flippase', 'CCU71240.1': 'UDP-N-acetylglucosamine--N-acetylmuramyl- (pentapeptide) pyrophosphoryl-undecaprenol N-acetylglucosamine transferase', 'CCU71241.1': 'UDP-N-acetylmuramate--alanine ligase', 'CCU71242.1': 'D-alanine--D-alanine ligase', 'CCU71243.1': 'hypothetical protein', 'CCU71244.1': 'cell division protein FtsA', 'CCU71245.1': 'cell division protein FtsZ', 'CCU71246.1': 'UDP-3-O-acyl N-acetylglucosamine deacetylase', 'CCU71247.1': 'membrane-bound M23 family peptidase', 'CCU71248.1': 'preprotein translocase subunit SecA', 'CCU71249.1': 'bifunctional ornithine acetyltransferase/N-acetylglutamate synthase protein', 'CCU71250.1': 'mutT gene product', 'CCU71251.1': 'hypothetical protein', 'CCU71252.1': 'hypothetical protein', 'CCU71253.1': 'apolipoprotein N-acyltransferase', 'CCU71254.1': 'CBS domain protein', 'CCU71255.1': 'uncharacterized UPF0054 family protein', 'CCU71256.1': 'hypothetical protein', 'CCU71257.1': 'tRNA-i(6)A37 thiotransferase enzyme MiaB', 'CCU71258.1': 'hypothetical protein', 'CCU71259.1': 'hypothetical protein', 'CCU71260.1': 'hypothetical protein', 'CCU71261.1': 'hypothetical protein', 'CCU71262.1': 'hypothetical protein', 'CCU71263.1': 'Bcr/CflA subfamily drug resistance transporter', 'CCU71264.1': 'GTP-binding protein YchF', 'CCU71265.1': 'peptidyl-tRNA hydrolase', 'CCU71266.1': 'ribosomal 5S rRNA E-loop binding protein Ctc/L25/TL5', 'CCU71267.1': 'Phosphoribosylpyrophosphate synthetase', 'CCU71268.1': '4-diphosphocytidyl-2-C-methyl-D-erythritol kinase', 'CCU71269.1': 'molecular chaperone LolB', 'CCU71270.1': 'hypothetical protein', 'CCU71271.1': 'glutamyl-tRNA reductase', 'CCU71272.1': 'peptide chain release factor 1', 'CCU71273.1': 'protein-(glutamine-N5) methyltransferase, release factor-specific', 'CCU71274.1': 'moeB gene product', 'CCU71275.1': 'FAD-dependent pyridine nucleotide-disulfide oxidoreductase', 'CCU71276.1': 'magnesium and cobalt transport protein CorA', 'CCU71277.1': 'phosphoheptose isomerase', 'CCU71278.1': 'hypothetical protein', 'CCU71279.1': 'hypothetical protein', 'CCU71280.1': 'uroporphyrin-III C/tetrapyrrole methyltransferase', 'CCU71281.1': 'hypothetical protein', 'CCU71282.1': 'hypothetical protein', 'CCU71283.1': 'hypothetical protein', 'CCU71284.1': 'hypothetical protein', 'CCU71285.1': 'hypothetical protein', 'CCU71286.1': '30S ribosomal subunit interface binding protein', 'CCU71287.1': 'acetyltransferase, GNAT family', 'CCU71288.1': 'transcriptional regulator, MarR family protein', 'CCU71289.1': 'hypothetical protein', 'CCU71290.1': 'hypothetical protein', 'CCU71291.1': 'hypothetical protein', 'CCU71292.1': 'hypothetical protein', 'CCU71293.1': 'rlgA1 gene product', 'CCU71294.1': 'hypothetical protein', 'CCU71295.1': 'hypothetical protein', 'CCU71296.1': 'hypothetical protein', 'CCU71297.1': 'hypothetical protein', 'CCU71298.1': 'hypothetical protein', 'CCU71299.1': 'hypothetical protein', 'CCU71300.1': 'hypothetical protein', 'CCU71301.1': 'hypothetical protein', 'CCU71302.1': 'hypothetical protein', 'CCU71303.1': 'hypothetical protein', 'CCU71304.1': 'hypothetical protein', 'CCU71305.1': 'cobalamin biosynthesis protein CobD/CbiB', 'CCU71306.1': 'l-threonine-o-3-phosphate decarboxylase', 'CCU71307.1': 'hypothetical protein', 'CCU71308.1': 'putative proteasome-type protease', 'CCU71309.1': 'transglutaminase domain protein', 'CCU71310.1': 'hypothetical protein', 'CCU71311.1': 'hypothetical protein', 'CCU71312.1': 'Ferrochelatase', 'CCU71313.1': 'enoyl-CoA hydratase', 'CCU71314.1': 'alkaline phosphatase D', 'CCU71315.1': 'hypothetical protein', 'CCU71316.1': 'iron complex outermembrane recepter protein', 'CCU71317.1': 'putative ABC-type multidrug transport system,ATPase and permease component', 'CCU71318.1': 'Ornithine decarboxylase', 'CCU71319.1': 'hypothetical protein', 'CCU71320.1': 'hypothetical protein', 'CCU71321.1': 'tRNA and rRNA cytosine-C5-methylase', 'CCU71322.1': 'hypothetical protein', 'CCU71323.1': 'metal-dependent hydrolase', 'CCU71324.1': 'PhnA protein', 'CCU71325.1': 'tpm gene product', 'CCU71326.1': 'hypothetical protein', 'CCU71327.1': 'FadL family outer membrane protein', 'CCU71328.1': 'hypothetical protein', 'CCU71329.1': 'hypothetical protein', 'CCU71330.1': 'hypothetical protein', 'CCU71331.1': 'hypothetical protein', 'CCU71332.1': 'TonB-dependent receptor', 'CCU71333.1': 'putative lipoprotein', 'CCU71334.1': 'TonB system biopolymer transport component', 'CCU71335.1': 'TonB system biopolymer transport component', 'CCU71336.1': 'TonB system biopolymer transport component', 'CCU71337.1': 'Biopolymer transport protein', 'CCU71338.1': 'putative TonB2 protein', 'CCU71339.1': 'putative unknown membrane associated protein', 'CCU71340.1': 'hypothetical protein', 'CCU71341.1': 'hypothetical protein', 'CCU71342.1': 'carboxylesterase', 'CCU71343.1': 'hypothetical protein', 'CCU71344.1': 'enoyl-CoA hydratase/isomerase', 'CCU71345.1': 'signal transduction protein', 'CCU71346.1': 'hypothetical protein', 'CCU71347.1': 'hypothetical protein', 'CCU71348.1': 'hypothetical protein', 'CCU71349.1': 'L-aspartate oxidase', 'CCU71350.1': 'algU gene product', 'CCU71351.1': 'hypothetical protein', 'CCU71352.1': 'hypothetical protein', 'CCU71353.1': 'algM gene product', 'CCU71354.1': 'alginate biosynthesis negative regulator, serine protease AlgY', 'CCU71355.1': 'GTP-binding protein LepA', 'CCU71356.1': 'hypothetical protein', 'CCU71357.1': 'ribonuclease III', 'CCU71358.1': 'GTP-binding protein Era', 'CCU71359.1': 'hypothetical protein', 'CCU71360.1': \"pyridoxine 5'-phosphate synthase\", 'CCU71361.1': \"4'-phosphopantetheinyl transferase\", 'CCU71362.1': 'signal transduction histidine kinase', 'CCU71363.1': 'cysteine synthase B', 'CCU71364.1': 'hypothetical protein', 'CCU71365.1': 'GTP pyrophosphokinase', 'CCU71366.1': 'MazG', 'CCU71367.1': 'phosphoenolpyruvate carboxylase', 'CCU71368.1': 'hypothetical protein', 'CCU71369.1': 'adenylate kinase', 'CCU71370.1': 'hypothetical protein', 'CCU71371.1': 'hypothetical protein', 'CCU71372.1': 'putative peptidase', 'CCU71373.1': 'undecaprenyl pyrophosphate phosphatase', 'CCU71374.1': 'hypothetical protein', 'CCU71375.1': 'Glycerol-3-phosphate O-acyltransferase', 'CCU71376.1': 'hypothetical protein', 'CCU71377.1': 'cold-inducible RNA chaperone and anti-terminator', 'CCU71378.1': 'hypothetical protein', 'CCU71379.1': 'extragenic suppressor protein SuhB', 'CCU71380.1': 'RNA methyltransferase, TrmH family, group 1', 'CCU71381.1': 'serine O-acetyltransferase', 'CCU71382.1': 'Transcriptional Regulator, BadM/Rrf2 family protein', 'CCU71383.1': 'cysteine desulfurase used in synthesis of Fe-S cluster (tRNA4-thiouridine sulfur transferase)', 'CCU71384.1': 'nucleoside-diphosphate kinase', 'CCU71385.1': 'hypothetical protein', 'CCU71386.1': 'hypothetical protein', 'CCU71387.1': '4-hydroxy-3-methylbut-2-en-1-yl diphosphate synthase', 'CCU71388.1': 'histidyl-tRNA synthetase', 'CCU71389.1': 'hypothetical protein', 'CCU71390.1': 'outer membrane beta-barrel assembly machine subunit BamB', 'CCU71391.1': 'predicted GTPase', 'CCU71392.1': 'enoyl-CoA hydratase', 'CCU71393.1': 'Acyl-CoA dehydrogenase', 'CCU71394.1': 'transcriptional regulator', 'CCU71395.1': 'Phosphoesterase, PA-phosphatase related protein', 'CCU71396.1': 'import inner membrane translocase subunit Tim44', 'CCU71397.1': 'hypothetical protein', 'CCU71398.1': 'elongation factor P', 'CCU71399.1': 'HupE/UreJ protein', 'CCU71400.1': 'urease accessory protein ureG', 'CCU71401.1': 'urease accessory protein ureF', 'CCU71402.1': 'Urease accessory protein UreE', 'CCU71403.1': 'urease subunit alpha', 'CCU71404.1': 'Urea amidohydrolase (urease) beta subunit', 'CCU71405.1': 'Urease, gamma subunit region', 'CCU71406.1': 'urease accessory protein UreD', 'CCU71407.1': 'Methionyl-tRNA synthetase', 'CCU71408.1': 'hypothetical protein', 'CCU71409.1': 'cytochrome C assembly family protein', 'CCU71410.1': 'signal recognition particle GTPase', 'CCU71411.1': 'hypothetical protein', 'CCU71412.1': 'hypothetical protein', 'CCU71413.1': 'hypothetical protein', 'CCU71414.1': 'type I site-specific deoxyribonuclease, HsdR family protein', 'CCU71415.1': 'virulence protein', 'CCU71416.1': 'hypothetical protein', 'CCU71417.1': 'type I restriction-modification system specificity subunit', 'CCU71418.1': 'hypothetical protein', 'CCU71419.1': 'type I restriction-modification system DNA-methyltransferase subunit M', 'CCU71420.1': 'hypothetical protein', 'CCU71421.1': 'hypothetical protein', 'CCU71422.1': 'hypothetical protein', 'CCU71423.1': 'oxidoreductase, FAD/FMN-binding superfamily', 'CCU71424.1': 'hypothetical protein', 'CCU71425.1': 'hypothetical protein', 'CCU71426.1': 'threonine synthase', 'CCU71427.1': 'hypothetical protein', 'CCU71428.1': 'bacterioferritin', 'CCU71429.1': 'bacterioferritin', 'CCU71430.1': 'ATP-dependent Zn protease', 'CCU71431.1': 'hypothetical protein', 'CCU71432.1': 'alpha-L-glutamate ligase-like protein', 'CCU71433.1': 'hypothetical protein', 'CCU71434.1': '3-hydroxyisobutyrate dehydrogenase', 'CCU71435.1': 'Hydroxypyruvate isomerase', 'CCU71436.1': 'hypothetical protein', 'CCU71437.1': 'cold-inducible RNA chaperone and anti-terminator', 'CCU71438.1': 'hypothetical protein', 'CCU71439.1': 'hypothetical protein', 'CCU71440.1': 'putative Na+-dependent transporter', 'CCU71441.1': 'hypothetical protein', 'CCU71442.1': 'ferrous iron transport protein B', 'CCU71443.1': 'ferrous iron transport protein A', 'CCU71444.1': 'hypothetical protein', 'CCU71445.1': 'Exoribonuclease R', 'CCU71446.1': 'hypothetical protein', 'CCU71447.1': 'hypothetical protein', 'CCU71448.1': 'methionine sulfoxide reductase A', 'CCU71449.1': 'putative deoxyribonuclease YjjV', 'CCU71450.1': 'hypothetical protein', 'CCU71451.1': 'hypothetical protein', 'CCU71452.1': 'membrane-bound lytic murein transglycosylase C', 'CCU71453.1': 'hypothetical protein', 'CCU71454.1': 'hypothetical protein', 'CCU71455.1': 'hypothetical protein', 'CCU71456.1': 'Short chain dehydrogenase/reductase family protein', 'CCU71457.1': '7, 8-dihydro-6-hydroxymethylpterin-pyrophosphokinase', 'CCU71458.1': 'DNA ligase', 'CCU71459.1': 'recJ gene product', 'CCU71460.1': 'hypothetical protein', 'CCU71461.1': 'acrB gene product', 'CCU71462.1': 'LOW QUALITY PROTEIN: secretion protein HlyD family protein', 'CCU71463.1': 'hypothetical protein', 'CCU71464.1': 'hypothetical protein', 'CCU71465.1': 'hypothetical protein', 'CCU71466.1': 'hypothetical protein', 'CCU71467.1': 'hypothetical protein', 'CCU71468.1': 'short-chain dehydrogenase/reductase SDR', 'CCU71469.1': 'monooxygenase', 'CCU71470.1': 'probable transcriptional regulator', 'CCU71471.1': 'hypothetical protein', 'CCU71472.1': 'hypothetical protein', 'CCU71473.1': 'hypothetical protein', 'CCU71474.1': 'hypothetical protein', 'CCU71475.1': 'hypothetical protein', 'CCU71476.1': 'hypothetical protein', 'CCU71477.1': 'hypothetical protein', 'CCU71478.1': 'hypothetical protein', 'CCU71479.1': 'hypothetical protein', 'CCU71480.1': 'hypothetical protein', 'CCU71481.1': 'hypothetical protein', 'CCU71482.1': 'Cobalt-zinc-cadmium resistance protein', 'CCU71483.1': 'hypothetical protein', 'CCU71484.1': 'alkylated DNA repair protein', 'CCU71485.1': 'cysteine synthase A', 'CCU71486.1': 'hypothetical protein', 'CCU71487.1': 'hypothetical protein', 'CCU71488.1': 'hypothetical protein', 'CCU71489.1': 'phosphate acetyltransferase', 'CCU71490.1': 'acetate kinase', 'CCU71491.1': 'hypothetical protein', 'CCU71492.1': 'hypothetical protein', 'CCU71493.1': 'response regulator receiver modulated diguanylate cyclase', 'CCU71494.1': 'hypothetical protein', 'CCU71495.1': 'hypothetical protein', 'CCU71496.1': 'putative hemolysin', 'CCU71497.1': 'hypothetical protein', 'CCU71498.1': 'hypothetical protein', 'CCU71499.1': 'oxygen-independent coproporphyrinogen III oxidase', 'CCU71500.1': 'hypothetical protein', 'CCU71501.1': 'L-asparaginase I', 'CCU71502.1': 'hypothetical protein', 'CCU71503.1': 'hypothetical protein', 'CCU71504.1': 'hypothetical protein', 'CCU71505.1': 'hypothetical protein', 'CCU71506.1': 'heme exporter subunit CcmA', 'CCU71507.1': 'heme exporter subunit CcmB', 'CCU71508.1': 'heme exporter subunit CcmC', 'CCU71509.1': 'heme exporter subunit CcmD', 'CCU71510.1': 'periplasmic heme chaperone CcmE', 'CCU71511.1': 'heme lyase, subunit CcmF', 'CCU71512.1': 'periplasmic thioredoxin of cytochrome c-type biogenesis, subunit CcmG', 'CCU71513.1': 'heme lyase, subunit CcmH1', 'CCU71514.1': 'cytochrome c biogenesis complex, subunit CcmH2', 'CCU71515.1': 'hypothetical protein', 'CCU71516.1': 'hypothetical protein', 'CCU71517.1': 'hypothetical protein', 'CCU71518.1': 'hypothetical protein', 'CCU71519.1': 'hypothetical protein', 'CCU71520.1': 'hypothetical protein', 'CCU71521.1': 'hypothetical protein', 'CCU71522.1': 'hypothetical protein', 'CCU71523.1': 'hypothetical protein', 'CCU71524.1': 'hypothetical protein', 'CCU71525.1': 'hypothetical protein', 'CCU71526.1': 'acetyl-coenzyme A synthetase', 'CCU71527.1': 'Glycerol metabolism activator', 'CCU71528.1': 'multi-sensor hybrid histidine kinase', 'CCU71529.1': 'hypothetical protein', 'CCU71530.1': 'acetate permease', 'CCU71531.1': 'Signal transduction protein', 'CCU71532.1': 'DNA polymerase III subunit epsilon', 'CCU71533.1': 'hypothetical protein', 'CCU71534.1': 'signal transduction protein', 'CCU71535.1': 'hypothetical protein', 'CCU71536.1': 'hypothetical protein', 'CCU71537.1': 'peroxiredoxin', 'CCU71538.1': 'esterase/lipase/thioesterase family protein', 'CCU71539.1': 'putative sodium symporter protein', 'CCU71540.1': 'hypothetical protein', 'CCU71541.1': 'hypothetical protein', 'CCU71542.1': 'Multiple antibiotic resistance (MarC)-related protein', 'CCU71543.1': 'exporter of the RND superfamily', 'CCU71544.1': 'deoxyguanosinetriphosphate triphosphohydrolase', 'CCU71545.1': 'HCC family transporter', 'CCU71546.1': 'alpha/beta hydrolase', 'CCU71547.1': 'signal peptidase I', 'CCU71548.1': 'glutaredoxin', 'CCU71549.1': 'alpha/beta hydrolase', 'CCU71550.1': 'hypothetical protein', 'CCU71551.1': 'hypothetical protein', 'CCU71552.1': 'MutT/NUDIX family protein', 'CCU71553.1': 'AraC-type DNA-binding protein', 'CCU71554.1': 'hypothetical protein', 'CCU71555.1': 'hypothetical protein', 'CCU71556.1': 'acyl dehydratase MaoC', 'CCU71557.1': 'AraC family transcriptional regulator', 'CCU71558.1': 'hypothetical protein', 'CCU71559.1': 'hypothetical protein', 'CCU71560.1': 'glutaredoxin', 'CCU71561.1': 'hypothetical protein', 'CCU71562.1': 'DNA uptake protein', 'CCU71563.1': 'hypothetical protein', 'CCU71564.1': 'DNA topoisomerase I', 'CCU71565.1': 'hypothetical protein', 'CCU71566.1': 'hypothetical protein', 'CCU71567.1': '1-aminocyclopropane-1-carboxylate deaminase', 'CCU71568.1': 'hypothetical protein', 'CCU71569.1': 'inorganic polyphosphate/ATP-NAD kinase', 'CCU71570.1': 'PPP family metallophosphatase', 'CCU71571.1': 'hypothetical protein', 'CCU71572.1': 'hypothetical protein', 'CCU71573.1': 'hypothetical protein', 'CCU71574.1': 'aminopeptidase N', 'CCU71575.1': 'hypothetical protein', 'CCU71576.1': 'hypothetical protein', 'CCU71577.1': 'predicted exporters of the RND superfamily protein', 'CCU71578.1': 'hypothetical protein', 'CCU71579.1': 'AraC family transcriptional regulator', 'CCU71580.1': 'acriflavin resistance protein', 'CCU71581.1': 'hypothetical protein', 'CCU71582.1': 'probable ATP-binding component of ABC transporter', 'CCU71583.1': 'hypothetical protein', 'CCU71584.1': 'hypothetical protein', 'CCU71585.1': 'fatty oxidation complex, alpha subunit', 'CCU71586.1': 'Acetyl-CoA acetyltransferase', 'CCU71587.1': 'hypothetical protein', 'CCU71588.1': 'hypothetical protein', 'CCU71589.1': 'hypothetical protein', 'CCU71590.1': 'hypothetical protein', 'CCU71591.1': 'hypothetical protein', 'CCU71592.1': 'transposase orfA', 'CCU71593.1': 'transposase orfB', 'CCU71594.1': 'cytochrome B561', 'CCU71595.1': 'probable signal peptide protein', 'CCU71596.1': 'flavodoxin/nitric oxide synthase', 'CCU71597.1': '12-oxophytodienoate reductase', 'CCU71598.1': 'hypothetical protein', 'CCU71599.1': 'putative p-aminobenzoyl-glutamate transport protein (AbgT family)', 'CCU71600.1': 'hypothetical protein', 'CCU71601.1': 'glycerophosphoryl diester phosphodiesterase', 'CCU71602.1': 'mobilization protein MobD', 'CCU71603.1': 'Fatty acid desaturase domain protein', 'CCU71604.1': 'Transcriptional regulator', 'CCU71605.1': 'hypothetical protein', 'CCU71606.1': 'hypothetical protein', 'CCU71607.1': 'DNA ligase, NAD-dependent', 'CCU71608.1': 'NADPH-dependent FMN reductase', 'CCU71609.1': 'glutamine amidotransferase', 'CCU71610.1': 'hypothetical protein', 'CCU71611.1': 'GCN5-related N-acetyltransferase', 'CCU71612.1': 'permease', 'CCU71613.1': 'redox-active disulfide protein 2', 'CCU71614.1': 'hypothetical protein', 'CCU71615.1': 'hypothetical protein', 'CCU71616.1': 'von Willebrand factor A', 'CCU71617.1': 'hypothetical protein', 'CCU71618.1': 'uncharacterized conserved protein (some members contain a von Willebrand factor type A (vWA) domain)', 'CCU71619.1': 'MoxR-like ATPase', 'CCU71620.1': 'hypothetical protein', 'CCU71621.1': 'NAD-specific glutamate dehydrogenase', 'CCU71622.1': 'hypothetical protein', 'CCU71623.1': 'hypothetical protein', 'CCU71624.1': 'dihydroorotate dehydrogenase 2', 'CCU71625.1': 'ribosome modulation factor', 'CCU71626.1': '23S rRNA m(2)G2445 methyltransferase', 'CCU71627.1': 'Ammonia permease', 'CCU71628.1': 'esterase/lipase', 'CCU71629.1': 'cytosine deaminase', 'CCU71630.1': 'hypothetical protein', 'CCU71631.1': 'hypothetical protein', 'CCU71632.1': 'hypothetical protein', 'CCU71633.1': 'CDGSH-type iron-binding zinc finger protein', 'CCU71634.1': 'competence-specific genes regulator', 'CCU71635.1': 'RND transporter, HAE1/HME family, permease protein', 'CCU71636.1': 'multidrug resistance protein', 'CCU71637.1': 'NAD-dependent deacetylase', 'CCU71638.1': 'Patatin', 'CCU71639.1': 'lumazine protein', 'CCU71640.1': 'hypothetical protein', 'CCU71641.1': 'hypothetical protein', 'CCU71642.1': 'hypothetical protein', 'CCU71643.1': 'hypothetical protein', 'CCU71644.1': 'putative nucleotidyltransferase', 'CCU71645.1': 'hypothetical protein', 'CCU71646.1': 'hypothetical protein', 'CCU71647.1': 'hypothetical protein', 'CCU71648.1': 'hypothetical protein', 'CCU71649.1': 'GCN5-related N-acetyltransferase', 'CCU71650.1': 'transglutaminase', 'CCU71651.1': 'Phd_YefM family antitoxin', 'CCU71652.1': 'Txe/YoeB family toxin', 'CCU71653.1': 'transposase orfA', 'CCU71654.1': 'transposase orfB', 'CCU71655.1': 'hypothetical protein', 'CCU71656.1': 'ATP-dependent helicase HrpB', 'CCU71657.1': 'tRNA (uracil-5-)-methyltransferase', 'CCU71658.1': 'hypothetical protein', 'CCU71659.1': 'hypothetical protein', 'CCU71660.1': 'hypothetical protein', 'CCU71661.1': 'putative glutathione S-transferase transmembrane protein', 'CCU71662.1': 'hypothetical protein', 'CCU71663.1': 'hypothetical protein', 'CCU71664.1': 'hypothetical protein', 'CCU71665.1': '23S rRNA methyltransferase', 'CCU71666.1': 'signal transduction protein', 'CCU71667.1': '3-ketoacyl-(acyl-carrier-protein) reductase', 'CCU71668.1': 'hypothetical protein', 'CCU71669.1': 'acetyl-CoA acetyltransferase', 'CCU71670.1': 'Major facilitator superfamily protein', 'CCU71671.1': 'SirA family protein', 'CCU71672.1': 'hypothetical protein', 'CCU71673.1': 'hypothetical protein', 'CCU71674.1': 'alpha/beta hydrolase fold protein', 'CCU71675.1': 'exodeoxyribonuclease I', 'CCU71676.1': 'glutaredoxin NrdH-like protein', 'CCU71677.1': 'methyladenine glycosylase', 'CCU71678.1': 'hypothetical protein', 'CCU71679.1': 'hypothetical protein', 'CCU71680.1': 'hypothetical protein', 'CCU71681.1': 'Pirin-like protein', 'CCU71682.1': 'hypothetical protein', 'CCU71683.1': 'DEAD/DEAH box helicase-like protein', 'CCU71684.1': 'tRNA (uracil-5-)-methyltransferase', 'CCU71685.1': 'acyl-CoA thioesterase II', 'CCU71686.1': 'hypothetical protein', 'CCU71687.1': 'hypothetical protein', 'CCU71688.1': 'M24/M37 family peptidase', 'CCU71689.1': 'exodeoxyribonuclease VII large subunit', 'CCU71690.1': 'hypothetical protein', 'CCU71691.1': 'hypothetical protein', 'CCU71692.1': 'hypothetical protein', 'CCU71693.1': 'inositol-5-monophosphate dehydrogenase', 'CCU71694.1': 'GMP synthase', 'CCU71695.1': 'hypothetical protein', 'CCU71696.1': 'outer membrane protein', 'CCU71697.1': 'hypothetical protein', 'CCU71698.1': 'nitroreductase', 'CCU71699.1': 'Leucyl aminopeptidase', 'CCU71700.1': 'permease', 'CCU71701.1': 'hypothetical protein', 'CCU71702.1': 'hypothetical protein', 'CCU71703.1': \"pyridoxamine 5'-phosphate oxidase\", 'CCU71704.1': 'fructosamine kinase', 'CCU71705.1': 'hypothetical protein', 'CCU71706.1': 'hypothetical protein', 'CCU71707.1': 'hypothetical protein', 'CCU71708.1': 'putative acetyltransferase (GNAT-family protein)', 'CCU71709.1': 'hypothetical protein', 'CCU71710.1': 'hypothetical protein', 'CCU71711.1': 'hypothetical protein', 'CCU71712.1': 'hypothetical protein', 'CCU71713.1': 'hypothetical protein', 'CCU71714.1': 'hypothetical protein', 'CCU71715.1': 'transposase IS66', 'CCU71716.1': 'IS66 Orf2 family protein', 'CCU71717.1': 'hypothetical protein', 'CCU71718.1': 'hypothetical protein', 'CCU71719.1': 'hypothetical protein', 'CCU71720.1': 'bifunctional sulfate adenylyltransferase subunit 1/adenylylsulfate kinase protein', 'CCU71721.1': 'sulfate adenylyltransferase subunit 2', 'CCU71722.1': 'hypothetical protein', 'CCU71723.1': 'hypothetical protein', 'CCU71724.1': 'hypothetical protein', 'CCU71725.1': 'NAD dependent epimerase/dehydratase family protein', 'CCU71726.1': 'ApbE family protein', 'CCU71727.1': 'hypothetical protein', 'CCU71728.1': 'putative lipoprotein', 'CCU71729.1': 'TlpA-like family disulfide reductase', 'CCU71730.1': 'hypothetical protein', 'CCU71731.1': 'hypothetical protein', 'CCU71732.1': 'diguanylate cyclase', 'CCU71733.1': 'hypothetical protein', 'CCU71734.1': 'hypothetical protein', 'CCU71735.1': 'S-adenosylmethionine', 'CCU71736.1': 'Queuine tRNA-ribosyltransferase(tRNA-guanine transglycosylase)(Guanine insertion enzyme)', 'CCU71737.1': 'YajC', 'CCU71738.1': 'protein-export membrane protein SecD', 'CCU71739.1': 'protein-export membrane protein SecF', 'CCU71740.1': 'hypothetical protein', 'CCU71741.1': 'hypothetical protein', 'CCU71742.1': 'hypothetical protein', 'CCU71743.1': 'TEGT family transporter', 'CCU71744.1': 'hypothetical protein', 'CCU71745.1': 'hypothetical protein', 'CCU71746.1': 'hypothetical protein', 'CCU71747.1': 'hypothetical protein', 'CCU71748.1': 'glycerate dehydrogenase', 'CCU71749.1': 'outer membrane protein', 'CCU71750.1': 'hypothetical protein', 'CCU71751.1': 'hypothetical protein', 'CCU71752.1': 'hypothetical protein', 'CCU71753.1': 'hypothetical protein', 'CCU71754.1': 'hypothetical protein', 'CCU71755.1': 'hypothetical protein', 'CCU71756.1': 'hypothetical protein', 'CCU71757.1': 'hypothetical protein', 'CCU71758.1': 'hypothetical protein', 'CCU71759.1': 'hypothetical protein', 'CCU71760.1': 'hypothetical protein', 'CCU71761.1': 'hypothetical protein', 'CCU71762.1': 'transposase orfA', 'CCU71763.1': 'transposase orfB', 'CCU71764.1': 'hypothetical protein', 'CCU71765.1': 'hypothetical protein', 'CCU71766.1': 'XRE family transcriptional regulator', 'CCU71767.1': 'hypothetical protein', 'CCU71768.1': 'valyl-tRNA synthetase', 'CCU71769.1': 'hypothetical protein', 'CCU71770.1': 'holC gene product', 'CCU71771.1': 'S-adenosylmethionine-dependent methyltransferase', 'CCU71772.1': 'succinyl-diaminopimelate desuccinylase', 'CCU71773.1': 'hypothetical protein', 'CCU71774.1': 'hypoxanthine-guanine phosphoribosyltransferase', 'CCU71775.1': 'chemotaxis protein CheC', 'CCU71776.1': 'hypothetical protein', 'CCU71777.1': 'integral membrane protein', 'CCU71778.1': 'hypothetical protein', 'CCU71779.1': 'hypothetical protein', 'CCU71780.1': 'hypothetical protein', 'CCU71781.1': 'hypothetical protein', 'CCU71782.1': 'hypothetical protein', 'CCU71783.1': 'hypothetical protein', 'CCU71784.1': 'hypothetical protein', 'CCU71785.1': 'AcrB/AcrD/AcrF family protein', 'CCU71786.1': 'AcrA/AcrE family protein', 'CCU71787.1': 'hypothetical protein', 'CCU71788.1': 'hypothetical protein', 'CCU71789.1': 'hypothetical protein', 'CCU71790.1': 'hypothetical protein', 'CCU71791.1': 'ADP-ribose pyrophosphatase', 'CCU71792.1': 'hypothetical protein', 'CCU71793.1': 'hypothetical protein', 'CCU71794.1': 'hypothetical protein', 'CCU71795.1': 'hypothetical protein', 'CCU71796.1': 'putative acetyltransferase', 'CCU71797.1': 'predicted Fe-S protein', 'CCU71798.1': 'phosphoribosylglycinamide formyltransferase 2', 'CCU71799.1': 'hypothetical protein', 'CCU71800.1': 'hypothetical protein', 'CCU71801.1': 'hypothetical protein', 'CCU71802.1': 'MerR family transcriptional regulator', 'CCU71803.1': 'hypothetical protein', 'CCU71804.1': 'hypothetical membrane protein', 'CCU71805.1': '5-methyltetrahydropteroyltriglutamate-- homocysteine S-methyltransferase', 'CCU71806.1': 'pseudouridine synthase Rsu', 'CCU71807.1': 'transcriptional regulator, TetR family protein', 'CCU71808.1': 'alpha/beta family hydrolase', 'CCU71809.1': 'amidase', 'CCU71810.1': 'hypothetical protein', 'CCU71811.1': 'hypothetical protein', 'CCU71812.1': 'hypothetical protein', 'CCU71813.1': 'hypothetical protein', 'CCU71814.1': 'hypothetical protein', 'CCU71815.1': 'hypothetical protein', 'CCU71816.1': 'hypothetical protein', 'CCU71817.1': 'hypothetical protein', 'CCU71818.1': 'hypothetical protein', 'CCU71819.1': 'hypothetical protein', 'CCU71820.1': 'RNA polymerase, sigma-24 subunit, ECF subfamily', 'CCU71821.1': 'rhodanese homology domain superfamily protein', 'CCU71822.1': 'hypothetical protein', 'CCU71823.1': 'NADH-ubiquinone oxidoreductase', 'CCU71824.1': 'predicted NADH:ubiquinone oxidoreductase, subunit RnfG', 'CCU71825.1': 'electron transport complex protein RnfD', 'CCU71826.1': 'electron transport complex protein RnfC', 'CCU71827.1': 'electron transport complex, RnfABCDGE type, B subunit', 'CCU71828.1': 'predicted NADH:ubiquinone oxidoreductase, subunit RnfA', 'CCU71829.1': 'ATPase, E1-E2 type', 'CCU71830.1': 'extracellular solute-binding protein, family 5', 'CCU71831.1': 'peptide ABC transporter, permease protein', 'CCU71832.1': 'Binding-protein-dependent transport systems inner membrane component', 'CCU71833.1': 'ABC transporter related protein', 'CCU71834.1': 'hypothetical protein', 'CCU71835.1': 'Trk-type K+ transport system, membrane component', 'CCU71836.1': 'antiporter inner membrane', 'CCU71837.1': 'NADH:flavin oxidoreductase, Old Yellow Enzyme family protein', 'CCU71838.1': 'hypothetical protein', 'CCU71839.1': 'hypothetical protein', 'CCU71840.1': 'hypothetical protein', 'CCU71841.1': 'hypothetical protein', 'CCU71842.1': 'hypothetical protein', 'CCU71843.1': 'hypothetical protein', 'CCU71844.1': 'pseudouridine synthase', 'CCU71845.1': 'hypothetical alcohol dehydrogenase', 'CCU71846.1': 'aldehyde dehydrogenase', 'CCU71847.1': 'rubredoxin-type Fe(Cys)4 protein', 'CCU71848.1': 'alkB1 gene product', 'CCU71849.1': 'hypothetical protein', 'CCU71850.1': 'hypothetical protein', 'CCU71851.1': 'malate:quinone-oxidoreductase', 'CCU71852.1': 'pyridine nucleotide transhydrogenase alpha subunit', 'CCU71853.1': 'nicotinamide nucleotide transhydrogenase, subunit alpha', 'CCU71854.1': 'H+-translocating transhydrogenase subunit beta', 'CCU71855.1': 'hypothetical protein', 'CCU71856.1': 'diguanylate cyclase', 'CCU71857.1': 'isochorismatase', 'CCU71858.1': 'lytic murein transglycosylase', 'CCU71859.1': 'prolyl-tRNA synthetase', 'CCU71860.1': 'hypothetical protein', 'CCU71861.1': 'DNA-3-methyladenine glycosylase 1', 'CCU71862.1': 'hypothetical protein', 'CCU71863.1': 'putative transcriptional regulator, fis family protein', 'CCU71864.1': 'hypothetical protein', 'CCU71865.1': 'transposase IS3/IS911 family protein', 'CCU71866.1': 'hypothetical protein', 'CCU71867.1': 'hypothetical protein', 'CCU71868.1': 'hypothetical protein', 'CCU71869.1': 'hypothetical protein', 'CCU71870.1': 'uroporphyrin-III C-methyltransferase', 'CCU71871.1': 'Molybdopterin oxidoreductase Fe4S4 domain family', 'CCU71872.1': 'putative NAD(P)H-nitrite reductase, large subunit', 'CCU71873.1': 'nitrite reductase (NAD(P)H), small subunit', 'CCU71874.1': 'nitrate transporter', 'CCU71875.1': 'hypothetical protein', 'CCU71876.1': 'hypothetical protein', 'CCU71877.1': 'hypothetical protein', 'CCU71878.1': 'hypothetical protein', 'CCU71879.1': 'nitrate transporter system, ATPase component', 'CCU71880.1': 'ABC transporter permease', 'CCU71881.1': 'Tat pathway signal sequence domain protein', 'CCU71882.1': 'hypothetical protein', 'CCU71883.1': 'response regulator NasT', 'CCU71884.1': 'hypothetical protein', 'CCU71885.1': 'hypothetical protein', 'CCU71886.1': 'hypothetical protein', 'CCU71887.1': 'PepSY-associated TM helix', 'CCU71888.1': 'hypothetical protein', 'CCU71889.1': 'fpvA2 gene product', 'CCU71890.1': 'hypothetical protein', 'CCU71891.1': 'alanine dehydrogenase', 'CCU71892.1': 'glutamine synthetase catalytic region', 'CCU71893.1': 'uncharacterized protein conserved in bacteria', 'CCU71894.1': 'hypothetical protein', 'CCU71895.1': 'hypothetical protein', 'CCU71896.1': 'hypothetical protein', 'CCU71897.1': 'exodeoxyribonuclease V beta chain', 'CCU71898.1': 'Exodeoxyribonuclease V, alpha subunit', 'CCU71899.1': 'hypothetical protein', 'CCU71900.1': 'acetyl-CoA carboxylase multifunctional enzyme accADC, carboxyl transferase subunit alpha/carboxyl transferase subunit', 'CCU71901.1': '3-ketoacyl-ACP synthase I', 'CCU71902.1': 'hypothetical protein', 'CCU71903.1': 'glycosyl transferase family 39', 'CCU71904.1': 'glycosyl transferase', 'CCU71905.1': 'hypothetical protein', 'CCU71906.1': 'hypothetical protein', 'CCU71907.1': 'Lipopolysaccharide heptosyltransferase I', 'CCU71908.1': 'probable transcriptional regulator', 'CCU71909.1': 'Glycerol-3-phosphate dehydrogenase', 'CCU71910.1': 'signal transduction protein', 'CCU71911.1': 'putative CheW protein', 'CCU71912.1': 'hypothetical protein', 'CCU71913.1': '6-phosphogluconate dehydrogenase', 'CCU71914.1': 'citrate synthase', 'CCU71915.1': 'hypothetical protein', 'CCU71916.1': 'succinate dehydrogenase, hydrophobic membrane anchor protein', 'CCU71917.1': 'succinate dehydrogenase, flavoprotein subunit', 'CCU71918.1': 'succinate dehydrogenase, iron-sulfur protein', 'CCU71919.1': '2-oxoglutarate dehydrogenase, E1 component', 'CCU71920.1': '2-oxoglutarate dehydrogenase, E2 component,dihydrolipoamide succinyltransferase', 'CCU71921.1': 'dihydrolipoamide dehydrogenase', 'CCU71922.1': 'succinyl-CoA synthetase subunit beta', 'CCU71923.1': 'succinyl-CoA synthetase, alpha subunit', 'CCU71924.1': 'IntI2', 'CCU71925.1': 'hypothetical protein', 'CCU71926.1': 'glyoxalase', 'CCU71927.1': 'hypothetical protein', 'CCU71928.1': 'hypothetical protein', 'CCU71929.1': 'hypothetical protein', 'CCU71930.1': 'hypothetical protein', 'CCU71931.1': 'HNH endonuclease', 'CCU71932.1': 'hypothetical protein', 'CCU71933.1': 'transposase orfA', 'CCU71934.1': 'transposase orfB', 'CCU71935.1': 'hypothetical protein', 'CCU71936.1': 'hypothetical protein', 'CCU71937.1': 'PilT protein-like protein', 'CCU71938.1': 'hypothetical protein', 'CCU71939.1': 'hypothetical protein', 'CCU71940.1': 'hypothetical protein', 'CCU71941.1': 'universal stress protein family', 'CCU71942.1': 'hypothetical protein', 'CCU71943.1': 'hypothetical protein', 'CCU71944.1': 'PrpE protein', 'CCU71945.1': 'hypothetical protein', 'CCU71946.1': 'adenylosuccinate lyase', 'CCU71947.1': 'Xaa-Pro dipeptidase', 'CCU71948.1': 'Diaminobutyrate-pyruvate aminotransferase', 'CCU71949.1': 'amidohydrolase', 'CCU71950.1': 'phosphate acetyltransferase', 'CCU71951.1': 'hypothetical protein', 'CCU71952.1': 'LysR family transcriptional regulator', 'CCU71953.1': '3-isopropylmalate dehydratase large subunit', 'CCU71954.1': '3-isopropylmalate dehydratase, small subunit', 'CCU71955.1': '3-isopropylmalate dehydrogenase', 'CCU71956.1': 'aspartate-semialdehyde dehydrogenase', 'CCU71957.1': 'hypothetical protein', 'CCU71958.1': 'tRNA pseudouridine synthase A', 'CCU71959.1': 'hypothetical protein', 'CCU71960.1': 'hypothetical protein', 'CCU71961.1': \"N-(5'-phosphoribosyl)anthranilate isomerase\", 'CCU71962.1': 'tryptophan synthase, beta subunit', 'CCU71963.1': 'tryptophan synthase', 'CCU71964.1': 'folylpolyglutamate synthetase', 'CCU71965.1': 'hypothetical protein', 'CCU71966.1': 'CvpA family membrane protein', 'CCU71967.1': 'amidophosphoribosyltransferase', 'CCU71968.1': 'O-succinylhomoserine sulfhydrylase', 'CCU71969.1': 'MoxR protein', 'CCU71970.1': 'hypothetical protein', 'CCU71971.1': 'hypothetical protein', 'CCU71972.1': 'hypothetical protein', 'CCU71973.1': 'hypothetical protein', 'CCU71974.1': 'hypothetical protein', 'CCU71975.1': 'hypothetical protein', 'CCU71976.1': 'aryl-alcohol dehydrogenase-like oxidoreductase', 'CCU71977.1': 'hypothetical protein', 'CCU71978.1': \"pyridoxamine 5'-phosphate oxidase-like FMN-binding protein\", 'CCU71979.1': 'glutaredoxin NrdH', 'CCU71980.1': 'hypothetical protein', 'CCU71981.1': 'hypothetical protein', 'CCU71982.1': 'hypothetical protein', 'CCU71983.1': 'hypothetical protein', 'CCU71984.1': 'hypothetical protein', 'CCU71985.1': 'hypothetical protein', 'CCU71986.1': 'aldehyde dehydrogenase', 'CCU71987.1': 'hypothetical protein', 'CCU71988.1': 'glutamine amidotransferase', 'CCU71989.1': 'membrane protein', 'CCU71990.1': 'MATE efflux family protein', 'CCU71991.1': 'hypothetical protein', 'CCU71992.1': 'ATP-dependent RNA helicase', 'CCU71993.1': 'hypothetical protein', 'CCU71994.1': 'hypothetical protein', 'CCU71995.1': 'hypothetical protein', 'CCU71996.1': 'hypothetical protein', 'CCU71997.1': 'ABC transporter', 'CCU71998.1': 'exodeoxyribonuclease IX', 'CCU71999.1': 'hypothetical protein', 'CCU72000.1': 'tRNA--hydroxylase', 'CCU72001.1': 'hypothetical protein', 'CCU72002.1': 'alpha/beta hydrolase fold protein', 'CCU72003.1': 'hypothetical protein', 'CCU72004.1': 'hypothetical protein', 'CCU72005.1': 'hypothetical protein', 'CCU72006.1': 'sensory box histidine kinase/response regulator', 'CCU72007.1': 'ATP-dependent protease', 'CCU72008.1': 'hypothetical protein', 'CCU72009.1': 'DNA polymerase III subunits gamma and tau', 'CCU72010.1': 'hypothetical protein', 'CCU72011.1': 'hypothetical protein', 'CCU72012.1': 'ribonuclease D', 'CCU72013.1': 'hypothetical protein', 'CCU72014.1': 'hypothetical protein', 'CCU72015.1': 'hypothetical protein', 'CCU72016.1': 'hypothetical protein', 'CCU72017.1': 'hypothetical protein', 'CCU72018.1': 'MoxR-like ATPase', 'CCU72019.1': 'hypothetical protein', 'CCU72020.1': 'hypothetical protein', 'CCU72021.1': 'hypothetical protein', 'CCU72022.1': 'hypothetical protein', 'CCU72023.1': 'hypothetical protein', 'CCU72024.1': 'hypothetical protein', 'CCU72025.1': 'hypothetical protein', 'CCU72026.1': 'hypothetical protein', 'CCU72027.1': 'hypothetical protein', 'CCU72028.1': 'Biopolymer transport protein', 'CCU72029.1': 'hypothetical protein', 'CCU72030.1': 'Biopolymer transport protein', 'CCU72031.1': 'hypothetical protein', 'CCU72032.1': 'enoyl-CoA hydratase, R-specific', 'CCU72033.1': 'Acyl-CoA synthetases (AMP-forming)/AMP-acid ligases II', 'CCU72034.1': 'ATP-dependent helicase HrpA', 'CCU72035.1': 'hypothetical protein', 'CCU72036.1': 'hypothetical protein', 'CCU72037.1': 'hypothetical protein', 'CCU72038.1': 'vacJ lipoprotein', 'CCU72039.1': '3-deoxy-7-phosphoheptulonate synthase', 'CCU72040.1': 'DNA binding protein', 'CCU72041.1': 'TSUP family permease', 'CCU72042.1': 'cysB gene product', 'CCU72043.1': 'phosphoadenosine phosphosulfate reductase', 'CCU72044.1': 'phosphoserine phosphatase/homoserine phosphotransferase', 'CCU72045.1': 'hypothetical protein', 'CCU72046.1': 'hypothetical protein', 'CCU72047.1': 'predicted double-glycine peptidase', 'CCU72048.1': 'hypothetical protein', 'CCU72049.1': 'Long-chain fatty acid transport protein', 'CCU72050.1': 'hypothetical protein', 'CCU72051.1': 'hypothetical protein', 'CCU72052.1': 'hypothetical protein', 'CCU72053.1': 'phosphoenolpyruvate synthase', 'CCU72054.1': 'hypothetical protein', 'CCU72055.1': 'hypothetical protein', 'CCU72056.1': 'ribonuclease activity regulator protein RraA', 'CCU72057.1': 'hypothetical protein', 'CCU72058.1': 'transcriptional regulator GntR', 'CCU72059.1': 'prpB gene product', 'CCU72060.1': 'methylcitrate synthase', 'CCU72061.1': 'probable aconitate hydratase', 'CCU72062.1': 'hypothetical protein', 'CCU72063.1': 'putative AcnD-accessory protein PrpF', 'CCU72064.1': 'hypothetical protein', 'CCU72065.1': 'ribosomal large subunit pseudouridine synthase C (pseudouridylate synthase) (uracil hydrolyase)', 'CCU72066.1': 'hydrolase', 'CCU72067.1': 'putative peptidase', 'CCU72068.1': 'hypothetical protein', 'CCU72069.1': '50S ribosomal protein L32', 'CCU72070.1': 'hypothetical protein', 'CCU72071.1': 'malonyl CoA-acyl carrier protein transacylase', 'CCU72072.1': 'fabG gene product', 'CCU72073.1': 'acyl carrier protein', 'CCU72074.1': '4-amino-4-deoxychorismate lyase', 'CCU72075.1': 'hypothetical protein', 'CCU72076.1': 'thymidylate kinase', 'CCU72077.1': 'hypothetical protein', 'CCU72078.1': 'Tfp pilus assembly protein PilZ', 'CCU72079.1': 'Ni/Fe-hydrogenase 1 b-type cytochrome subunit', 'CCU72080.1': 'cycP gene product', 'CCU72081.1': 'putative ankyrin G', 'CCU72082.1': 'hypothetical protein', 'CCU72083.1': 'hypothetical protein', 'CCU72084.1': 'hypothetical protein', 'CCU72085.1': 'class V aminotransferase', 'CCU72086.1': 'Peptidase M16-like', 'CCU72087.1': 'hypothetical protein', 'CCU72088.1': 'MotA/TolQ/ExbB proton channel', 'CCU72089.1': 'TonB system transport protein ExbB2', 'CCU72090.1': 'biopolymer transport exbD2 protein', 'CCU72091.1': 'tonB2 protein', 'CCU72092.1': 'hypothetical protein', 'CCU72093.1': 'hypothetical protein', 'CCU72094.1': 'xthA gene product', 'CCU72095.1': 'hypothetical protein', 'CCU72096.1': 'hypothetical protein', 'CCU72097.1': 'glutaredoxin', 'CCU72098.1': 'glutathione peroxidase', 'CCU72099.1': 'thiamine biosynthesis protein ThiI', 'CCU72100.1': 'hypothetical protein', 'CCU72101.1': 'hypothetical protein', 'CCU72102.1': 'hypothetical protein', 'CCU72103.1': 'hypothetical protein', 'CCU72104.1': 'putative metal transporter', 'CCU72105.1': 'H+-transporting two-sector ATPase subunit gamma', 'CCU72106.1': 'CzcA family heavy metal efflux protein', 'CCU72107.1': 'RND family efflux transporter MFP subunit', 'CCU72108.1': 'transposase Tn3 family protein', 'CCU72109.1': 'superoxide dismutase', 'CCU72110.1': 'chromate transporter', 'CCU72111.1': 'chromate resistance exported protein', 'CCU72112.1': 'phage integrase family protein', 'CCU72113.1': 'chromosome segregation ATPases-like protein', 'CCU72114.1': 'hypothetical protein', 'CCU72115.1': 'outer membrane efflux protein', 'CCU72116.1': 'hypothetical protein', 'CCU72117.1': 'acnA gene product', 'CCU72118.1': 'hypothetical protein', 'CCU72119.1': 'hypothetical protein', 'CCU72120.1': 'hypothetical protein', 'CCU72121.1': 'hypothetical protein', 'CCU72122.1': 'hypothetical protein', 'CCU72123.1': 'hypothetical protein', 'CCU72124.1': 'hypothetical protein', 'CCU72125.1': 'MerR family transcriptional regulator', 'CCU72126.1': 'outer membrane efflux protein', 'CCU72127.1': 'hypothetical protein', 'CCU72128.1': 'Co/Zn/Cd efflux system membrane component', 'CCU72129.1': 'hypothetical protein', 'CCU72130.1': 'hypothetical protein', 'CCU72131.1': 'hypothetical protein', 'CCU72132.1': 'amino acid transporter', 'CCU72133.1': 'Heavy metal sensor kinase', 'CCU72134.1': 'heavy metal response regulator', 'CCU72135.1': 'putative copper resistance transmembrane protein', 'CCU72136.1': 'copper resistance protein B precursor', 'CCU72137.1': 'hypothetical protein', 'CCU72138.1': 'secreted cytochrome c family protein', 'CCU72139.1': 'hypothetical protein', 'CCU72140.1': 'hypothetical protein', 'CCU72141.1': 'hypothetical protein', 'CCU72142.1': 'phosphate-selective porin O and P', 'CCU72143.1': 'hypothetical protein', 'CCU72144.1': 'hypothetical protein', 'CCU72145.1': 'MerR family transcriptional regulator', 'CCU72146.1': 'copper-translocating P-type ATPase', 'CCU72147.1': 'hypothetical protein', 'CCU72148.1': 'Nitrogen regulatory protein PII', 'CCU72149.1': 'hypothetical protein', 'CCU72150.1': 'hypothetical protein', 'CCU72151.1': 'hypothetical protein', 'CCU72152.1': 'hypothetical protein', 'CCU72153.1': 'alpha-glucan phosphorylase', 'CCU72154.1': 'ubiquinol-cytochrome c reductase, iron-sulfur subunit', 'CCU72155.1': 'hypothetical protein', 'CCU72156.1': 'hypothetical protein', 'CCU72157.1': 'hypothetical protein', 'CCU72158.1': 'hypothetical protein', 'CCU72159.1': 'Cadmium, cobalt and zinc/H(+)-K(+) antiporter', 'CCU72160.1': 'OsmC family protein', 'CCU72161.1': 'rhodanese homology domain superfamily protein', 'CCU72162.1': 'thiol-disulfide isomerase/thioredoxin', 'CCU72163.1': 'permease', 'CCU72164.1': 'RNA polymerase, sigma-24 subunit, ECF subfamily', 'CCU72165.1': 'arsenate reductase', 'CCU72166.1': 'arsenical-resistance protein ACR3', 'CCU72167.1': 'NADPH-dependent FMN reductase', 'CCU72168.1': 'arsenate reductase', 'CCU72169.1': 'ArsR family transcriptional regulator', 'CCU72170.1': 'hypothetical protein', 'CCU72171.1': 'hypothetical protein', 'CCU72172.1': 'hypothetical protein', 'CCU72173.1': 'hypothetical protein', 'CCU72174.1': 'hypothetical protein', 'CCU72175.1': 'hypothetical protein', 'CCU72176.1': 'phosphoglucomutase', 'CCU72177.1': 'ATP-dependent helicase HepA', 'CCU72178.1': 'glutathione reductase', 'CCU72179.1': 'hypothetical protein', 'CCU72180.1': 'hypothetical protein', 'CCU72181.1': 'hypothetical protein', 'CCU72182.1': 'hypothetical protein', 'CCU72183.1': 'hypothetical protein', 'CCU72184.1': 'hypothetical protein', 'CCU72185.1': 'general secretion pathway protein G', 'CCU72186.1': 'general secretion pathway protein F', 'CCU72187.1': 'general secretory pathway component, cryptic', 'CCU72188.1': 'nucleotide sugar dehydrogenase', 'CCU72189.1': 'electron transfer flavoprotein subunit alpha', 'CCU72190.1': 'electron transfer flavoprotein subunit beta', 'CCU72191.1': 'electron transfer flavoprotein-ubiquinone oxidoreductase', 'CCU72192.1': 'hypothetical protein', 'CCU72193.1': 'hypothetical protein', 'CCU72194.1': 'radical SAM domain protein', 'CCU72195.1': 'CDP-diacylglycerol--glycerol-3-phosphate 3-phosphatidyltransferase', 'CCU72196.1': 'excinuclease ABC subunit C', 'CCU72197.1': 'gacA gene product', 'CCU72198.1': 'Acyl-CoA synthetase (NDP forming)', 'CCU72199.1': 'Deacetylase', 'CCU72200.1': 'sulfurtransferase for 2-thiolation step of mnm(5)-s(2)U34-tRNA synthesis', 'CCU72201.1': 'hypothetical protein', 'CCU72202.1': 'hypothetical protein', 'CCU72203.1': 'protein DsrC', 'CCU72204.1': 'hypothetical protein', 'CCU72205.1': 'Methyl-accepting chemotaxis protein', 'CCU72206.1': 'Uroporphyrin-III C-methyltransferase-like protein', 'CCU72207.1': 'seryl-tRNA synthetase', 'CCU72208.1': 'hypothetical protein', 'CCU72209.1': 'recombination factor protein RarA', 'CCU72210.1': 'lipoprotein chaperone', 'CCU72211.1': 'cell division protein FtsK', 'CCU72212.1': 'leucyl/phenylalanyl-tRNA--protein transferase', 'CCU72213.1': 'arginyl-tRNA-protein transferase', 'CCU72214.1': 'translation initiation factor IF-1', 'CCU72215.1': 'ATP-binding protease component ClpA', 'CCU72216.1': 'clpS gene product', 'CCU72217.1': 'cold-inducible RNA chaperone and anti-terminator', 'CCU72218.1': 'isocitrate dehydrogenase, NADP-dependent,monomeric type', 'CCU72219.1': 'Ribosomal large subunit pseudouridine synthase E', 'CCU72220.1': 'hypothetical protein', 'CCU72221.1': 'tRNA-specific 2-thiouridylase MnmA', 'CCU72222.1': 'hypothetical protein', 'CCU72223.1': 'Dihydrouridine synthase TIM-barrel protein yjbN', 'CCU72224.1': 'hypothetical protein', 'CCU72225.1': 'transaldolase B', 'CCU72226.1': 'hypothetical protein', 'CCU72227.1': 'hypothetical protein', 'CCU72228.1': 'soluble pyridine nucleotide transhydrogenase', 'CCU72229.1': 'hypothetical protein', 'CCU72230.1': 'thiamin biosynthesis lipoprotein ApbE', 'CCU72231.1': 'regulatory protein ArsR', 'CCU72232.1': 'hypothetical protein', 'CCU72233.1': 'predicted Permease', 'CCU72234.1': 'hypothetical protein', 'CCU72235.1': 'hypothetical protein', 'CCU72236.1': 'hypothetical protein', 'CCU72237.1': 'hypothetical protein', 'CCU72238.1': 'putative protease', 'CCU72239.1': 'ribosomal large subunit pseudouridine synthase A', 'CCU72240.1': 'hypothetical protein', 'CCU72241.1': 'hydrolase, alpha/beta fold family', 'CCU72242.1': 'hypothetical protein', 'CCU72243.1': 'hypothetical protein', 'CCU72244.1': 'hypothetical protein', 'CCU72245.1': 'NAD(P)H-dependent glycerol-3-phosphate dehydrogenase', 'CCU72246.1': 'Anti-anti-sigma regulatory factor (antagonist of anti-sigma factor)', 'CCU72247.1': 'two-component response regulator', 'CCU72248.1': 'hypothetical protein', 'CCU72249.1': 'Thioredoxin-like protein', 'CCU72250.1': 'metH gene product', 'CCU72251.1': 'Na+-driven multidrug efflux pump', 'CCU72252.1': 'glycerophosphoryl diester phosphodiesterase', 'CCU72253.1': 'Sulfite reductase, beta subunit (hemoprotein)', 'CCU72254.1': 'hypothetical protein', 'CCU72255.1': 'sodium/hydrogen antiporter', 'CCU72256.1': 'oxidoreductase', 'CCU72257.1': 'SohB protein, peptidase U7 family', 'CCU72258.1': 'SCP-2 sterol transfer family protein', 'CCU72259.1': 'hypothetical protein', 'CCU72260.1': 'hypothetical protein', 'CCU72261.1': 'sodium/proton antiporter', 'CCU72262.1': 'DNA polymerase III, epsilon subunit', 'CCU72263.1': 'RNase H', 'CCU72264.1': 'hypothetical protein', 'CCU72265.1': 'lytic murein transglycosylase', 'CCU72266.1': 'hypothetical protein', 'CCU72267.1': 'enoyl-(acyl carrier protein) reductase', 'CCU72268.1': 'hypothetical protein', 'CCU72269.1': 'nucleoid protein HU subunit beta', 'CCU72270.1': 'ATP-dependent protease La', 'CCU72271.1': 'ATP-dependent protease ATP-binding subunit ClpX', 'CCU72272.1': 'clpP gene product', 'CCU72273.1': 'trigger factor', 'CCU72274.1': 'methylenetetrahydrofolate dehydrogenase/methenyltetrahydrofolate cyclohydrolase', 'CCU72275.1': 'PQQ-dependent oxidoreductase, gdhB family', 'CCU72276.1': 'transglutaminase', 'CCU72277.1': 'hypothetical protein', 'CCU72278.1': \"3'-5' exonuclease\", 'CCU72279.1': 'predicted lysine transporter', 'CCU72280.1': 'hypothetical protein', 'CCU72281.1': 'hypothetical protein', 'CCU72283.1': 'transposase orfA', 'CCU72284.1': 'hypothetical protein', 'CCU72285.1': 'N-acetyltransferase GCN5', 'CCU72286.1': 'cysteinyl-tRNA synthetase', 'CCU72287.1': 'glutaminyl-tRNA synthetase', 'CCU72288.1': 'peptidyl-prolyl cis-trans isomerase B', 'CCU72289.1': 'UDP-2,3-diacylglucosamine hydrolase', 'CCU72290.1': 'UDP-N-acetylenolpyruvoylglucosamine reductase,FAD-binding', 'CCU72291.1': 'phosphotyrosine protein phosphatase', 'CCU72292.1': 'hypothetical protein', 'CCU72293.1': \"tetraacyldisaccharide 4'-kinase\", 'CCU72294.1': 'lipid A export ATP-binding/permease protein MsbA', 'CCU72295.1': 'ExbD/TolR family protein', 'CCU72296.1': 'MotA/TolQ/ExbB proton channel family protein', 'CCU72297.1': 'DNA internalization-related competence protein ComEC/Rec2', 'CCU72298.1': 'multipass membrane protein', 'CCU72299.1': 'lipoprotein releasing system, ABC transporter ATP-binding protein', 'CCU72300.1': 'lipoprotein-releasing system, ABC transporter permease', 'CCU72301.1': 'hypothetical protein', 'CCU72302.1': 'alpha/beta superfamily hydrolase', 'CCU72303.1': 'ATP-dependent helicase DinG', 'CCU72304.1': 'hypothetical protein', 'CCU72305.1': 'hypothetical protein', 'CCU72306.1': 'hypothetical protein', 'CCU72307.1': 'hypothetical protein', 'CCU72308.1': 'malate synthase G', 'CCU72309.1': 'hypothetical protein', 'CCU72310.1': 'hypothetical protein', 'CCU72311.1': 'hypothetical protein', 'CCU72312.1': 'hypothetical protein', 'CCU72313.1': 'hypothetical protein', 'CCU72314.1': 'adenylosuccinate lyase', 'CCU72315.1': 'hypothetical protein', 'CCU72316.1': 'hypothetical protein', 'CCU72317.1': 'hypothetical protein', 'CCU72318.1': '3-deoxy-manno-octulosonate cytidylyltransferase', 'CCU72319.1': 'UDP-galacturonate 4-epimerase', 'CCU72320.1': 'HAD-superfamily hydrolase subfamily IIIA:Phosphatase kdsC', 'CCU72321.1': 'glutamyl-tRNA synthetase', 'CCU72322.1': 'hypothetical protein', 'CCU72323.1': 'hypothetical protein', 'CCU72324.1': 'hypothetical protein', 'CCU72325.1': 'hypothetical protein', 'CCU72326.1': 'sensor/response regulator hybrid', 'CCU72327.1': 'transcriptional regulator, LysR family', 'CCU72328.1': 'hypothetical protein', 'CCU72329.1': 'HPP family protein', 'CCU72330.1': 'flavohemoprotein', 'CCU72331.1': 'regulator of nucleoside diphosphate kinase', 'CCU72332.1': 'hypothetical protein', 'CCU72333.1': 'hypothetical protein', 'CCU72334.1': 'hypothetical protein', 'CCU72335.1': 'hypothetical protein', 'CCU72336.1': 'transposase orfA', 'CCU72337.1': 'transposase orfB', 'CCU72338.1': 'hypothetical protein', 'CCU72339.1': 'hypothetical protein', 'CCU72340.1': 'hypothetical protein', 'CCU72341.1': 'hypothetical protein', 'CCU72342.1': 'Copper-resistance protein CopA', 'CCU72343.1': 'integral membrane sensor signal transduction histidine kinase', 'CCU72344.1': 'two component transcriptional regulator, winged helix family', 'CCU72345.1': 'hypothetical protein', 'CCU72346.1': 'transposase orfB', 'CCU72347.1': 'transposase orfA', 'CCU72348.1': 'hypothetical protein', 'CCU72349.1': 'nitroreductase', 'CCU72350.1': 'adenylate cyclase', 'CCU72351.1': 'NADPH-dependent 7-cyano-7-deazaguanine reductase', 'CCU72352.1': 'multidrug ABC transporter permease', 'CCU72353.1': 'ABC transporter-like protein', 'CCU72354.1': 'hypothetical protein', 'CCU72355.1': 'hypothetical protein', 'CCU72356.1': 'hypothetical protein', 'CCU72357.1': 'transcriptional regulator', 'CCU72358.1': 'glutathione peroxidase', 'CCU72359.1': 'methionine sulfoxide reductase', 'CCU72360.1': 'aspartate aminotransferase', 'CCU72361.1': 'hypothetical protein', 'CCU72362.1': 'Erythronate-4-phosphate dehydrogenase', 'CCU72363.1': 'molybdopterin-binding oxidoreductase', 'CCU72364.1': 'hypothetical protein', 'CCU72365.1': 'aconitate hydratase', 'CCU72366.1': 'hypothetical protein', 'CCU72367.1': 'hypothetical protein', 'CCU72368.1': 'hypothetical protein', 'CCU72369.1': 'hypothetical protein', 'CCU72370.1': 'filamentation induced by cAMP protein fic', 'CCU72371.1': 'hypothetical protein', 'CCU72372.1': 'aconitate hydratase', 'CCU72373.1': 'hypothetical protein', 'CCU72374.1': 'short-chain dehydrogenase', 'CCU72375.1': 'hypothetical protein', 'CCU72376.1': 'phospholipid/glycerol acyltransferase', 'CCU72377.1': 'hypothetical protein', 'CCU72378.1': 'hypothetical protein', 'CCU72379.1': 'hypothetical protein', 'CCU72380.1': 'hypothetical protein', 'CCU72381.1': 'aspartyl-tRNA synthetase', 'CCU72382.1': 'short-chain dehydrogenase/reductase SDR', 'CCU72383.1': 'histone family protein DNA-binding protein', 'CCU72384.1': 'hydroxyacylglutathione hydrolase', 'CCU72385.1': 'histidine triad family protein VC2075', 'CCU72386.1': 'hypothetical protein', 'CCU72387.1': 'hypothetical protein', 'CCU72388.1': 'acetyltransferase', 'CCU72389.1': 'ATP-dependent carboxylate-amine ligase', 'CCU72390.1': 'CAAX amino protease family protein', 'CCU72391.1': 'hypothetical protein', 'CCU72392.1': 'hypothetical protein', 'CCU72393.1': 'response regulator receiver protein', 'CCU72394.1': 'MiaB-like tRNA modifying enzyme YliG', 'CCU72395.1': 'hypothetical protein', 'CCU72396.1': 'response regulator', 'CCU72397.1': 'signal transduction histidine kinase', 'CCU72398.1': 'hypothetical protein', 'CCU72399.1': 'Beta-ketoacyl synthase, C-terminal domain protein', 'CCU72400.1': 'cell-cell signaling protein, C-factor (CsgA)', 'CCU72401.1': 'hypothetical protein', 'CCU72402.1': 'hypothetical protein', 'CCU72403.1': 'hypothetical protein', 'CCU72404.1': 'hypothetical protein', 'CCU72405.1': 'hypothetical protein', 'CCU72406.1': 'hypothetical protein', 'CCU72407.1': 'hypothetical protein', 'CCU72408.1': 'cytochrome c oxidase, cbb3-type, subunit I', 'CCU72409.1': 'cytochrome c oxidase, cbb3-type, subunit II', 'CCU72410.1': 'hypothetical protein', 'CCU72411.1': 'cytochrome c oxidase, cbb3-type, subunit III', 'CCU72412.1': 'Polyferredoxin', 'CCU72413.1': 'hypothetical protein', 'CCU72414.1': 'probable cation-transporting P-type ATPase', 'CCU72415.1': 'cbb3-type cytochrome oxidase maturation protein', 'CCU72416.1': 'hypothetical protein', 'CCU72417.1': 'transcriptional regulator Anr', 'CCU72418.1': 'hypothetical protein', 'CCU72419.1': 'tRNA 2-thiocytidine biosynthesis protein TtcA', 'CCU72420.1': 'hypothetical protein', 'CCU72421.1': 'transcription elongation factor GreB', 'CCU72422.1': 'hypothetical protein', 'CCU72423.1': 'DnaJ family molecular chaperone', 'CCU72424.1': 'regulatory protein, LacI', 'CCU72425.1': 'hypothetical protein', 'CCU72426.1': 'hypothetical protein', 'CCU72427.1': 'OmpA family protein', 'CCU72428.1': 'hypothetical protein', 'CCU72429.1': 'stress-induced morphogen', 'CCU72430.1': 'hypothetical protein', 'CCU72431.1': 'hypothetical protein', 'CCU72432.1': 'GTP-binding protein', 'CCU72433.1': 'hypothetical protein', 'CCU72434.1': 'beta-lactamase domain protein', 'CCU72435.1': 'ArsR family transcriptional regulator', 'CCU72436.1': 'sulfate transporter', 'CCU72437.1': 'hypothetical protein', 'CCU72438.1': 'hypothetical protein', 'CCU72439.1': 'hypothetical protein', 'CCU72440.1': 'glutamate racemase', 'CCU72441.1': 'GTP cyclohydrolase I', 'CCU72442.1': 'cardiolipin synthetase', 'CCU72443.1': 'short-chain dehydrogenase/reductase SDR', 'CCU72444.1': 'outer membrane protein W', 'CCU72445.1': 'hypothetical protein', 'CCU72446.1': 'acyl-CoA dehydrogenase', 'CCU72447.1': 'acyl-CoA synthase', 'CCU72448.1': 'hypothetical protein', 'CCU72449.1': 'fatty acid desaturase', 'CCU72450.1': 'hypothetical protein', 'CCU72451.1': 'hypothetical protein', 'CCU72452.1': 'hypothetical protein', 'CCU72453.1': 'HipA domain protein', 'CCU72454.1': 'Cro/CI family transcriptional regulator', 'CCU72455.1': 'hypothetical protein', 'CCU72456.1': 'ATP-dependent RNA helicase', 'CCU72457.1': 'phenylalanyl-tRNA synthetase subunit alpha', 'CCU72458.1': 'peptidylprolyl isomerase, FKBP-type', 'CCU72459.1': 'bifunctional proline dehydrogenase/pyrroline-5-carboxylate dehydrogenase', 'CCU72460.1': 'hypothetical protein', 'CCU72461.1': 'hypothetical protein', 'CCU72462.1': 'arsenical pump membrane protein', 'CCU72463.1': 'protein-tyrosine phosphatase', 'CCU72464.1': 'ArsR family transcriptional regulator', 'CCU72465.1': 'saccharopine dehydrogenase', 'CCU72466.1': 'putative acetyltransferase', 'CCU72467.1': 'hypothetical protein', 'CCU72468.1': 'hypothetical protein', 'CCU72469.1': 'hypothetical protein', 'CCU72470.1': 'hypothetical protein', 'CCU72471.1': 'hypothetical protein', 'CCU72472.1': 'hypothetical protein', 'CCU72473.1': 'hypothetical protein', 'CCU72474.1': 'hypothetical protein', 'CCU72475.1': 'hypothetical protein', 'CCU72476.1': 'hypothetical protein', 'CCU72477.1': 'short-chain alcohol dehydrogenase-like protein', 'CCU72478.1': 'hypothetical protein', 'CCU72479.1': 'Stearoyl-CoA 9-desaturase', 'CCU72480.1': 'Na(+)-translocating NADH-quinone reductase subunit F', 'CCU72481.1': 'Na(+)-translocating NADH-quinone reductase subunit E', 'CCU72482.1': 'NADH-ubiquinone oxidoreductase', 'CCU72483.1': 'Na(+)-translocating NADH-quinone reductase subunit C', 'CCU72484.1': 'Na(+)-translocating NADH-quinone reductase subunit B', 'CCU72485.1': 'Na(+)-translocating NADH-quinone reductase subunit A', 'CCU72486.1': 'glyceraldehyde-3-phosphate dehydrogenase', 'CCU72487.1': 'hypothetical protein', 'CCU72488.1': 'hypothetical protein', 'CCU72489.1': 'hypothetical protein', 'CCU72490.1': 'hypothetical protein', 'CCU72491.1': \"5'-methylthioadenosine phosphorylase\", 'CCU72492.1': 'Beta-hexosaminidase', 'CCU72493.1': 'hypothetical protein', 'CCU72494.1': 'TetR family transcriptional regulator', 'CCU72495.1': 'LexA repressor', 'CCU72496.1': 'hypothetical protein', 'CCU72497.1': 'hypothetical protein', 'CCU72498.1': 'hypothetical protein', 'CCU72499.1': 'hypothetical protein', 'CCU72500.1': 'heat shock protein 90', 'CCU72501.1': 'hypothetical protein', 'CCU72502.1': 'Thiazole biosynthesis protein ThiG', 'CCU72503.1': 'hypothetical protein', 'CCU72504.1': 'thiamine biosynthesis protein ThiO', 'CCU72505.1': 'thiamine biosynthesis protein ThiC', 'CCU72506.1': 'hypothetical protein', 'CCU72507.1': 'hypothetical protein', 'CCU72508.1': 'hypothetical protein', 'CCU72509.1': 'hypothetical protein', 'CCU72510.1': 'hypothetical protein', 'CCU72511.1': 'diguanylate cyclase', 'CCU72512.1': 'Transcriptional Regulator, AraC family protein', 'CCU72513.1': 'hypothetical protein', 'CCU72514.1': 'prephenate dehydratase', 'CCU72515.1': 'hypothetical protein', 'CCU72516.1': 'mannosyl-3-phosphoglycerate phosphatase', 'CCU72517.1': 'hypothetical protein', 'CCU72518.1': 'putative RIO1/ZK632.3/MJ0444 family protein', 'CCU72519.1': 'hypothetical protein', 'CCU72520.1': 'sucrose phosphorylase', 'CCU72521.1': 'bifunctional KHG/KDPG aldolase', 'CCU72522.1': 'phosphogluconate dehydratase', 'CCU72523.1': '6-phosphogluconolactonase', 'CCU72524.1': 'glucose-6-phosphate 1-dehydrogenase', 'CCU72525.1': 'hypothetical protein', 'CCU72526.1': 'galU gene product', 'CCU72527.1': 'hypothetical protein', 'CCU72528.1': 'peptidyl-prolyl cis-trans isomerase, FKBP-type', 'CCU72529.1': 'hypothetical protein', 'CCU72530.1': 'hypothetical protein', 'CCU72531.1': 'multipass membrane protein', 'CCU72532.1': 'hypothetical protein', 'CCU72533.1': 'hypothetical protein', 'CCU72534.1': 'phosphoribosylaminoimidazole-succinocarboxamide synthase', 'CCU72535.1': 'beta-lactamase', 'CCU72536.1': 'hypothetical protein', 'CCU72537.1': 'dihydrodipicolinate synthase', 'CCU72538.1': 'PerM family multipass membrane protein', 'CCU72539.1': 'hypothetical protein', 'CCU72540.1': 'M48 family peptidase', 'CCU72541.1': 'quinolinate synthetase', 'CCU72542.1': 'hypothetical protein', 'CCU72543.1': 'outer membrane protein', 'CCU72544.1': 'periplasmic component of the Tol biopolymer transport system', 'CCU72545.1': 'hypothetical protein', 'CCU72546.1': 'biopolymer transport protein ExbD/TolR', 'CCU72547.1': 'protein TolQ', 'CCU72548.1': 'thioesterase', 'CCU72549.1': 'ruvB gene product', 'CCU72550.1': 'Holliday junction DNA helicase motor protein', 'CCU72551.1': 'crossover junction endodeoxyribonuclease RuvC', 'CCU72552.1': 'hypothetical protein', 'CCU72553.1': 'protein disaggregation chaperone', 'CCU72554.1': 'predicted permease, DMT superfamily protein', 'CCU72555.1': 'transcriptional regulator, LysR family protein', 'CCU72556.1': 'hypothetical protein', 'CCU72557.1': 'periplasmic tail-specific protease', 'CCU72558.1': 'hypothetical protein', 'CCU72559.1': 'hypothetical protein', 'CCU72560.1': 'Acyl-CoA dehydrogenase, C-terminal domain protein', 'CCU72561.1': 'acyl-CoA dehydrogenase', 'CCU72562.1': 'acyl-CoA synthase', 'CCU72563.1': 'hypothetical protein', 'CCU72564.1': 'phosphoribosylaminoimidazole carboxylase,catalytic subunit', 'CCU72565.1': 'phosphoribosylaminoimidazole carboxylase, ATPase subunit', 'CCU72566.1': 'hypothetical protein', 'CCU72567.1': 'Methyltransferase type 12', 'CCU72568.1': 'phosphoribosyltransferase', 'CCU72569.1': 'putative hypoxanthine-guanine phosphoribosyltransferase', 'CCU72570.1': 'membrane-fusion protein', 'CCU72571.1': 'peptide ABC transporter ATPase', 'CCU72572.1': 'peptide ABC transporter permease', 'CCU72573.1': 'hypothetical protein', 'CCU72574.1': 'hypothetical protein', 'CCU72575.1': 'hypothetical protein', 'CCU72576.1': 'hypothetical protein', 'CCU72577.1': 'putative transmembrane protein', 'CCU72578.1': 'hypothetical protein', 'CCU72579.1': 'hypothetical protein', 'CCU72581.1': 'transposase orfA', 'CCU72582.1': 'hypothetical protein', 'CCU72583.1': 'CheW protein', 'CCU72584.1': 'hypothetical protein', 'CCU72585.1': 'hypothetical protein', 'CCU72586.1': 'transcriptional regulator', 'CCU72587.1': 'integration host factor alpha subunit', 'CCU72588.1': 'phenylalanyl-tRNA synthetase subunit beta', 'CCU72589.1': 'pheS gene product', 'CCU72590.1': '50S ribosomal protein L20', 'CCU72591.1': '50S ribosomal protein L35', 'CCU72592.1': 'translation initiation factor IF-3', 'CCU72593.1': 'threonyl-tRNA synthetase', 'CCU72594.1': 'hypothetical protein', 'CCU72595.1': 'hypothetical protein', 'CCU72596.1': 'hypothetical protein', 'CCU72597.1': 'phosphoheptose isomerase', 'CCU72598.1': 'hypothetical protein', 'CCU72599.1': 'nucleoside-diphosphate-sugar pyrophosphorylase', 'CCU72600.1': 'hypothetical protein', 'CCU72601.1': 'hypothetical protein', 'CCU72602.1': 'hypothetical protein', 'CCU72603.1': 'O-antigen and teichoic acid export protein', 'CCU72604.1': 'hypothetical protein', 'CCU72605.1': 'membrane-fusion protein', 'CCU72606.1': 'hypothetical protein', 'CCU72607.1': 'serine acetyltransferase', 'CCU72608.1': 'hypothetical protein', 'CCU72609.1': 'glycosyltransferase', 'CCU72610.1': 'kinase', 'CCU72611.1': 'cell wall biosynthesis glycosyltransferase', 'CCU72612.1': 'acyl-CoA synthetases (AMP-forming)/AMP-acid ligases II', 'CCU72613.1': '4-hydroxybenzoate synthetase', 'CCU72614.1': 'acyl carrier protein', 'CCU72615.1': 'serine acetyltransferase', 'CCU72616.1': 'serine acetyltransferase', 'CCU72617.1': 'putative sulfotransferase protein', 'CCU72618.1': 'hypothetical protein', 'CCU72619.1': 'AraC family transcriptional regulator', 'CCU72620.1': 'sterol desaturase family protein', 'CCU72621.1': 'hypothetical protein', 'CCU72622.1': 'ABC transporter-like protein', 'CCU72623.1': 'hypothetical ABC-type phosphate/phosphonate transport system, periplasmic component', 'CCU72624.1': 'tRNA 2-selenouridine synthase', 'CCU72625.1': 'selenide, water dikinase', 'CCU72626.1': 'hypothetical protein', 'CCU72627.1': 'hypothetical protein', 'CCU72628.1': 'hypothetical protein', 'CCU72629.1': 'hypothetical protein', 'CCU72630.1': 'hypothetical protein', 'CCU72631.1': 'hypothetical protein', 'CCU72632.1': 'hypothetical protein', 'CCU72633.1': 'hypothetical protein', 'CCU72634.1': 'hypothetical protein', 'CCU72635.1': 'hypothetical protein', 'CCU72636.1': 'cas1 gene product', 'CCU72637.1': 'CRISPR-associated exonuclease Cas4 family protein', 'CCU72638.1': 'CRISPR-associated protein, Csd2 family', 'CCU72639.1': 'CRISPR-associated protein, CT1133 family', 'CCU72640.1': 'CRISPR-associated protein, Csd5d family', 'CCU72641.1': 'hypothetical protein', 'CCU72642.1': 'CRISPR-associated helicase Cas3', 'CCU72643.1': 'hypothetical protein', 'CCU72644.1': 'hypothetical protein', 'CCU72645.1': 'hypothetical protein', 'CCU72646.1': 'hypothetical protein', 'CCU72647.1': 'hypothetical protein', 'CCU72648.1': 'hypothetical protein', 'CCU72649.1': 'hypothetical protein', 'CCU72650.1': 'two-component system regulatory protein', 'CCU72651.1': 'hypothetical protein', 'CCU72652.1': \"5'-nucleotidase\", 'CCU72653.1': 'hypothetical protein', 'CCU72654.1': 'hypothetical protein', 'CCU72655.1': 'araC family transcriptional regulator', 'CCU72656.1': 'signaling membrane protein', 'CCU72657.1': 'TonB-dependent outermembrane receptor', 'CCU72658.1': '3-phytase', 'CCU72659.1': 'excinuclease ABC subunit B', 'CCU72660.1': 'aspartate aminotransferase A', 'CCU72661.1': 'DNA replication initiation factor', 'CCU72662.1': 'hypothetical protein', 'CCU72663.1': 'phosphoribosylaminoimidazole synthetase', 'CCU72664.1': 'phosphoribosylglycinamide formyltransferase', 'CCU72665.1': 'hypothetical protein', 'CCU72666.1': 'deoxycytidine triphosphate deaminase', 'CCU72667.1': 'UDP-glucose 4-epimerase', 'CCU72668.1': 'putative epimerase/dehydratase', 'CCU72669.1': 'sugar transferase', 'CCU72670.1': 'nucleoside-diphosphate-sugar epimerase', 'CCU72671.1': 'hypothetical protein', 'CCU72672.1': 'transposase IS66', 'CCU72673.1': 'IS66 Orf2 family protein', 'CCU72674.1': 'hypothetical protein', 'CCU72675.1': 'putative glycosyl transferase', 'CCU72676.1': 'hypothetical protein', 'CCU72677.1': 'hypothetical protein', 'CCU72678.1': 'hypothetical protein', 'CCU72679.1': 'Teichoic-acid-transporting ATPase', 'CCU72680.1': 'hypothetical protein', 'CCU72681.1': 'glgA3 gene product', 'CCU72682.1': 'hypothetical protein', 'CCU72683.1': \"orotidine 5'-phosphate decarboxylase\", 'CCU72684.1': 'hypothetical protein', 'CCU72685.1': 'integration host factor subunit beta', 'CCU72686.1': '30S ribosomal protein S1', 'CCU72687.1': 'hypothetical protein', 'CCU72688.1': 'hypothetical protein', 'CCU72689.1': 'putative aminotransferase', 'CCU72690.1': 'P-protein', 'CCU72691.1': 'phosphoserine aminotransferase', 'CCU72692.1': 'hypothetical protein', 'CCU72693.1': 'DNA gyrase subunit A', 'CCU72694.1': 'N-ethylammeline chlorohydrolase', 'CCU72695.1': '3-demethylubiquinone-9 3-methyltransferase', 'CCU72696.1': 'phosphoglycolate phosphatase', 'CCU72697.1': 'short-chain dehydrogenase/reductase SDR', 'CCU72698.1': 'GGDEF domain protein', 'CCU72699.1': 'hypothetical protein', 'CCU72700.1': 'hypothetical protein', 'CCU72701.1': 'segregation and condensation protein', 'CCU72702.1': 'tryptophanyl-tRNA synthetase', 'CCU72703.1': 'tryptophanyl-tRNA synthetase', 'CCU72704.1': 'putative translation factor (SUA5)', 'CCU72705.1': 'phosphotransferase', 'CCU72706.1': 'Intracellular septation protein IspA', 'CCU72707.1': 'YciI-like protein', 'CCU72708.1': 'SH3 domain protein', 'CCU72709.1': 'selenoprotein W-like protein', 'CCU72710.1': 'peptidyl-prolyl cis-trans isomerase A', 'CCU72711.1': 'auxin efflux carrier', 'CCU72712.1': 'hypothetical protein', 'CCU72713.1': 'cytoplasmic protein', 'CCU72714.1': 'hypothetical protein', 'CCU72715.1': 'Poly(3-hydroxyalkanoate) synthetase', 'CCU72716.1': 'hypothetical protein', 'CCU72717.1': 'hypothetical protein', 'CCU72718.1': 'Major facilitator superfamily MFS_1', 'CCU72719.1': 'chorismate synthase', 'CCU72720.1': 'HemK family modification methylase', 'CCU72721.1': 'Patatin', 'CCU72722.1': 'hypothetical protein', 'CCU72723.1': 'hypothetical protein', 'CCU72724.1': 'hypothetical protein', 'CCU72725.1': 'hypothetical protein', 'CCU72726.1': 'hypothetical protein', 'CCU72727.1': 'hypothetical protein', 'CCU72728.1': 'arsenate reductase', 'CCU72729.1': 'flavoprotein WrbA', 'CCU72730.1': 'hypothetical protein', 'CCU72731.1': 'hypothetical protein', 'CCU72732.1': 'hypothetical protein', 'CCU72733.1': 'hypothetical protein', 'CCU72734.1': 'glutathione S-transferase-like protein', 'CCU72735.1': 'fatty acid cis/trans isomerase', 'CCU72736.1': 'multiple antibiotic resistance (MarC)-like protein', 'CCU72737.1': 'putative chaperone', 'CCU72738.1': 'MgtC/SapB transporter', 'CCU72739.1': 'glutathione peroxidase', 'CCU72740.1': 'hypothetical protein', 'CCU72741.1': 'hypothetical protein', 'CCU72742.1': 'HSR1-like GTP-binding protein', 'CCU72743.1': 'hypothetical protein', 'CCU72744.1': 'hypothetical protein', 'CCU72745.1': 'hypothetical protein', 'CCU72746.1': 'ThiF family protein', 'CCU72747.1': 'hypothetical protein', 'CCU72748.1': 'hypothetical protein', 'CCU72749.1': 'FeS assembly protein SufB', 'CCU72750.1': 'Cysteine desulfurase activator ATPase', 'CCU72751.1': 'sufD gene product', 'CCU72752.1': 'selenocysteine lyase', 'CCU72753.1': 'Fe-S cluster assembly scaffold protein', 'CCU72754.1': 'FeS assembly SUF system protein SufT', 'CCU72755.1': 'type III pyridoxal 5-phosphate-dependent enzyme', 'CCU72756.1': 'carboxylesterase', 'CCU72757.1': 'hypothetical protein', 'CCU72758.1': 'hypothetical protein', 'CCU72759.1': 'hypothetical protein', 'CCU72760.1': 'ArsC family protein', 'CCU72761.1': '2,3,4,5-tetrahydropyridine-2-carboxylate N-succinyltransferase', 'CCU72762.1': 'hypothetical protein', 'CCU72763.1': 'hypothetical protein', 'CCU72764.1': 'hypothetical protein', 'CCU72765.1': 'endonuclease III', 'CCU72766.1': 'lactoylglutathione lyase', 'CCU72767.1': 'hypothetical protein', 'CCU72768.1': 'hypothetical protein', 'CCU72769.1': 'phospholipase A1', 'CCU72770.1': 'hypothetical protein', 'CCU72771.1': 'transporter permease protein, partial', 'CCU72772.1': 'transcriptional regulator, MarR family protein', 'CCU72773.1': 'oxidoreductase FAD/NAD(P)-binding subunit', 'CCU72774.1': 'transcriptional regulator', 'CCU72775.1': 'FAD/NAD(P) dependent oxidoreductase', 'CCU72776.1': 'hypothetical protein', 'CCU72777.1': 'hypothetical protein', 'CCU72778.1': 'hypothetical protein', 'CCU72779.1': 'hypothetical protein', 'CCU72780.1': 'hypothetical protein', 'CCU72781.1': 'hypothetical protein', 'CCU72782.1': 'hypothetical protein', 'CCU72783.1': '23S rRNA pseudouridylate synthase', 'CCU72784.1': 'hypothetical protein', 'CCU72785.1': 'hypothetical protein', 'CCU72786.1': 'CheW protein', 'CCU72787.1': 'hypothetical protein', 'CCU72788.1': 'hypothetical protein', 'CCU72789.1': 'hypothetical protein', 'CCU72790.1': 'hypothetical protein', 'CCU72791.1': 'hypothetical protein', 'CCU72792.1': 'hypothetical protein', 'CCU72793.1': 'hypothetical protein', 'CCU72794.1': 'plasmid stabilization system', 'CCU72795.1': 'argininosuccinate synthase', 'CCU72796.1': 'Mot-Exb superfamily outer membrane transport energizer', 'CCU72797.1': 'dihydroorotase', 'CCU72798.1': 'rnt gene product', 'CCU72799.1': 'hypothetical protein', 'CCU72800.1': 'hypothetical protein', 'CCU72801.1': 'protein of unknown function DUF805', 'CCU72802.1': 'hypothetical protein', 'CCU72803.1': 'hypothetical protein', 'CCU72804.1': '23S rRNA pseudouridine synthase F', 'CCU72805.1': 'hypothetical protein', 'CCU72806.1': 'transcriptional regulator', 'CCU72807.1': 'homoserine dehydrogenase', 'CCU72808.1': 'aminotransferase', 'CCU72809.1': 'glycine cleavage system regulatory protein', 'CCU72810.1': 'Permease of the drug/metabolite transporter (DMT) superfamily protein', 'CCU72811.1': 'transcriptional regulator', 'CCU72812.1': 'putative transcriptional regulator', 'CCU72813.1': 'glutamine synthetase', 'CCU72814.1': 'creatininase', 'CCU72815.1': 'ABC-type nitrate/sulfonate/bicarbonate transport system, ATPase component', 'CCU72816.1': 'ABC-type nitrate/sulfonate/bicarbonate transport system, permease component', 'CCU72817.1': 'ABC-type nitrate/sulfonate/bicarbonate transport system, periplasmic component', 'CCU72818.1': 'urea carboxylase-associated protein 2', 'CCU72819.1': 'urea carboxylase-associated protein 1', 'CCU72820.1': 'urea carboxylase/allophanate hydrolase', 'CCU72821.1': 'hypothetical protein', 'CCU72822.1': 'adenosine deaminase', 'CCU72823.1': 'basic membrane lipoprotein', 'CCU72824.1': 'putative fatty acid desaturase', 'CCU72825.1': 'putative Oxidoreductase', 'CCU72826.1': 'Isocitrate lyase', 'CCU72827.1': 'X-Pro dipeptidyl-peptidase (S15 family)', 'CCU72828.1': 'PAS/PAC sensor signal transduction histidine kinase', 'CCU72829.1': 'hypothetical protein', 'CCU72830.1': 'hypothetical protein', 'CCU72831.1': 'hypothetical protein', 'CCU72832.1': 'pyridine nucleotide-disulfide oxidoreductase', 'CCU72833.1': 'hypothetical protein', 'CCU72834.1': 'ribonuclease HII', 'CCU72835.1': 'lipid-A-disaccharide synthase', 'CCU72836.1': 'acyl-(acyl-carrier-protein)--UDP-N- acetylglucosamine O-acyltransferase', 'CCU72837.1': '(3R)-hydroxymyristoyl-ACP dehydratase', 'CCU72838.1': 'UDP-3-O-(3-hydroxymyristoyl)-glucosamine N-acyltransferase', 'CCU72839.1': 'OmpH family outer membrane protein', 'CCU72840.1': 'outer membrane beta-barrel assembly machine subunit BamA', 'CCU72841.1': 'membrane-associated zinc metalloprotease', 'CCU72842.1': '1-deoxy-D-xylulose 5-phosphate reductoisomerase', 'CCU72843.1': 'phosphatidate cytidylyltransferase', 'CCU72844.1': 'undecaprenyl pyrophosphate synthase', 'CCU72845.1': 'ribosome recycling factor', 'CCU72846.1': 'uridylate kinase', 'CCU72847.1': 'elongation factor Ts', 'CCU72848.1': '30S ribosomal subunit protein S2', 'CCU72849.1': 'methionine aminopeptidase', 'CCU72850.1': 'PII uridylyl-transferase', 'CCU72851.1': 'pirin-related protein', 'CCU72852.1': 'probable ATP-dependent RNA helicase', 'CCU72853.1': 'peptidase M48, Ste24p', 'CCU72854.1': 'flavohemoglobin', 'CCU72855.1': 'putative regulator protein', 'CCU72856.1': 'organic radical activating enzyme', 'CCU72857.1': 'medium chain dehydrogenases/reductase/zinc-dependent alcohol dehydrogenase-like family protein', 'CCU72858.1': 'regulatory protein, LysR', 'CCU72859.1': 'protein YifE', 'CCU72860.1': '30S ribosomal protein S6 modification protein', 'CCU72861.1': '30S ribosomal protein S6 modification protein', 'CCU72862.1': 'acetylornithine aminotransferase', 'CCU72863.1': 'ornithine carbamoyltransferase', 'CCU72864.1': 'hypothetical protein', 'CCU72865.1': 'glpK gene product', 'CCU72866.1': 'hypothetical protein', 'CCU72867.1': 'transcriptional regulator MetR', 'CCU72868.1': 'integral membrane sensor signal transduction histidine kinase', 'CCU72869.1': 'Response regulator consisting of a CheY-like receiver domain and a winged-helix DNA-binding domain', 'CCU72870.1': 'ribonucleotide-diphosphate reductase subunit alpha', 'CCU72871.1': 'ribonucleotide-diphosphate reductase beta subunit', 'CCU72872.1': 'hypothetical protein', 'CCU72873.1': 'bacterioferritin comigratory protein', 'CCU72874.1': 'hypothetical protein', 'CCU72875.1': 'hypothetical protein', 'CCU72876.1': 'hypothetical protein', 'CCU72877.1': 'hypothetical protein', 'CCU72878.1': 'hypothetical protein', 'CCU72879.1': 'hypothetical protein', 'CCU72880.1': 'purine-binding chemotaxis protein CheW', 'CCU72881.1': 'hypothetical protein', 'CCU72882.1': 'hypothetical protein', 'CCU72883.1': 'Cobyrinic acid a,c-diamide synthase', 'CCU72884.1': 'chemotaxis-specific methylesterase', 'CCU72885.1': 'probable two-component sensor', 'CCU72886.1': 'Chemotaxis phosphatase, CheZ', 'CCU72887.1': 'CheY-like receiver protein', 'CCU72888.1': 'flagellar biosynthesis sigma factor', 'CCU72889.1': 'cobyrinic acid a,c-diamide synthase', 'CCU72890.1': 'hypothetical protein', 'CCU72891.1': 'flagellar biosynthesis protein FlhA', 'CCU72892.1': 'Flagellar biosynthesis pathway, component FlhB', 'CCU72893.1': 'flagellar biosynthesis protein', 'CCU72894.1': 'flagellar biosynthesis protein', 'CCU72895.1': 'flagellar biosynthetic protein FliP', 'CCU72896.1': 'hypothetical protein', 'CCU72897.1': 'Surface presentation of antigens (SPOA) protein', 'CCU72898.1': 'flagellar motor switch protein FliM', 'CCU72899.1': 'flagellar protein', 'CCU72900.1': 'hypothetical protein', 'CCU72901.1': 'hypothetical protein', 'CCU72902.1': 'two-component response regulator', 'CCU72903.1': 'anti-sigma F factor antagonist', 'CCU72904.1': 'two-component system, chemotaxis family, response regulator CheB', 'CCU72905.1': 'CheD, stimulates methylation of MCP proteins', 'CCU72906.1': 'MCP methyltransferase, CheR-type', 'CCU72907.1': 'probable methyl-accepting chemotaxis protein', 'CCU72908.1': 'Purine-binding chemotaxis protein cheW', 'CCU72909.1': 'CheA signal transduction histidine kinase', 'CCU72910.1': 'CheY-like receiver protein', 'CCU72911.1': 'hypothetical protein', 'CCU72912.1': 'hypothetical protein', 'CCU72913.1': 'flagellum-specific ATP synthase', 'CCU72914.1': 'hypothetical protein', 'CCU72915.1': 'flagellar motor protein', 'CCU72916.1': 'flagellar M-ring protein', 'CCU72917.1': 'flagellar hook-basal body complex protein (FliE)', 'CCU72918.1': 'Fis family two component sigma-54 specific transcriptional regulator', 'CCU72919.1': 'two-component sensor', 'CCU72920.1': 'transcriptional regulator FleQ', 'CCU72921.1': 'flagellar protein FliS', 'CCU72922.1': 'hypothetical protein', 'CCU72923.1': 'uracil-DNA glycosylase', 'CCU72924.1': 'lysyl-tRNA synthetase', 'CCU72925.1': 'prfB gene product', 'CCU72926.1': 'BFD-like (2Fe-2S)-binding region protein', 'CCU72927.1': 'Flagellar capping protein', 'CCU72928.1': 'hypothetical protein', 'CCU72929.1': 'hypothetical protein', 'CCU72930.1': 'hypothetical protein', 'CCU72931.1': 'capsular exopolysaccharide family protein', 'CCU72932.1': 'polysaccharide export protein', 'CCU72933.1': 'hypothetical protein', 'CCU72934.1': 'hypothetical protein', 'CCU72935.1': 'EpsT', 'CCU72936.1': 'RNA-metabolising metallo-beta-lactamase', 'CCU72937.1': 'nucleotide sugar dehydrogenase', 'CCU72938.1': 'dTDP-6-deoxy-L-mannose-dehydrogenase', 'CCU72939.1': 'dTDP-4-dehydrorhamnose 3,5-epimerase', 'CCU72940.1': 'glucose-1-phosphate thymidylyltransferase', 'CCU72941.1': 'dTDP-glucose 4,6-dehydratase', 'CCU72942.1': 'hypothetical protein', 'CCU72943.1': 'nucleotidyltransferase substrate-binding protein', 'CCU72944.1': 'hypothetical protein', 'CCU72945.1': 'hypothetical protein', 'CCU72946.1': 'hypothetical protein', 'CCU72947.1': 'hypothetical protein', 'CCU72948.1': 'hypothetical protein', 'CCU72949.1': 'hypothetical protein', 'CCU72950.1': 'phosphoglucomutase/phosphomannomutase alpha/beta/subunit', 'CCU72951.1': 'mannose-1-phosphate guanylyltransferase', 'CCU72952.1': 'nucleotidyltransferase substrate-binding protein', 'CCU72953.1': 'DNA polymerase subunit beta', 'CCU72954.1': 'hypothetical protein', 'CCU72955.1': 'hypothetical protein', 'CCU72956.1': 'hypothetical protein', 'CCU72957.1': 'hypothetical protein', 'CCU72958.1': 'transposase orfB', 'CCU72959.1': 'transposase orfA', 'CCU72960.1': 'hypothetical protein', 'CCU72961.1': 'polysaccharide biosynthesis family protein', 'CCU72962.1': 'carbohydrate isomerase, KpsF/GutQ family protein', 'CCU72963.1': 'NUDIX hydrolase', 'CCU72964.1': 'bifunctional GDP-fucose synthetase: GDP-4-dehydro-6-deoxy-D-mannose epimerase and GDP-4-dehydro-6-L-deoxygalactose reductase', 'CCU72965.1': 'GDP-mannose-4,6-dehydratase', 'CCU72966.1': 'putative glycosyl transferase', 'CCU72967.1': 'putative acyl transferase', 'CCU72968.1': 'lipopolysaccharide biosynthesis O-acetyl transferase', 'CCU72969.1': 'hypothetical protein', 'CCU72970.1': 'hypothetical protein', 'CCU72971.1': 'hypothetical protein', 'CCU72972.1': 'hypothetical protein', 'CCU72973.1': 'hypothetical protein', 'CCU72974.1': 'adenylylsulfate kinase family protein', 'CCU72975.1': 'hypothetical protein', 'CCU72976.1': 'hypothetical protein', 'CCU72977.1': 'O-antigen polymerase', 'CCU72978.1': 'serine/threonine protein phosphatase 1', 'CCU72979.1': 'flagellar hook-associated protein', 'CCU72980.1': 'flagellar hook-associated protein', 'CCU72981.1': 'Muramidase (flagellum-specific)', 'CCU72982.1': 'Flagellar basal-body P-ring protein', 'CCU72983.1': 'hypothetical protein', 'CCU72984.1': 'hypothetical protein', 'CCU72985.1': 'hypothetical protein', 'CCU72986.1': 'Flagellar basal body L-ring protein', 'CCU72987.1': 'flagellar basal-body rod protein FlgG', 'CCU72988.1': 'flagellar basal-body rod protein FlgF', 'CCU72989.1': 'hypothetical protein', 'CCU72990.1': 'Flagellar hook protein FlgE', 'CCU72991.1': 'Flagellar hook capping protein', 'CCU72992.1': 'flagellar basal-body rod protein FlgC', 'CCU72993.1': 'flagellar basal body rod protein FlgB', 'CCU72994.1': 'putative chemotaxis protein methyltransferase', 'CCU72995.1': 'chemotaxis protein', 'CCU72996.1': 'hypothetical protein', 'CCU72997.1': 'Negative regulator of flagellin synthesis (anti-sigma28 factor)', 'CCU72998.1': 'hypothetical protein', 'CCU72999.1': 'hypothetical protein', 'CCU73000.1': 'hypothetical protein', 'CCU73001.1': 'hypothetical protein', 'CCU73002.1': 'dienelactone hydrolase-like enzyme', 'CCU73003.1': 'hypothetical protein', 'CCU73004.1': 'hypothetical protein', 'CCU73005.1': 'hypothetical protein', 'CCU73006.1': 'hypothetical protein', 'CCU73007.1': 'acyl-coenzyme A dehydrogenase', 'CCU73008.1': 'hypothetical protein', 'CCU73009.1': 'hypothetical protein', 'CCU73010.1': 'hypothetical protein', 'CCU73011.1': 'thioredoxin reductase, FAD/NAD(P)-binding', 'CCU73012.1': 'hypothetical protein', 'CCU73013.1': 'TRAP dicarboxylate transporter, inner membrane subunit QM', 'CCU73014.1': 'hypothetical protein', 'CCU73015.1': 'hypothetical protein', 'CCU73016.1': 'phosphate starvation-inducible protein PhoH-like ATPase', 'CCU73017.1': 'hypothetical protein', 'CCU73018.1': 'sodium/hydrogen exchanger', 'CCU73019.1': 'hypothetical protein', 'CCU73020.1': 'hypothetical protein', 'CCU73021.1': 'RNA pseudouridine synthase family protein', 'CCU73022.1': 'hypothetical protein', 'CCU73023.1': '50S ribosomal protein L19', 'CCU73024.1': 'tRNA (guanine-N(1)-)-methyltransferase', 'CCU73025.1': '16S rRNA-processing protein RimM', 'CCU73026.1': '30S ribosomal protein S16', 'CCU73027.1': 'hypothetical protein', 'CCU73028.1': 'hypothetical protein', 'CCU73029.1': 'Na/Pi-cotransporter II-related protein', 'CCU73030.1': 'hypothetical protein', 'CCU73031.1': 'Kef-type K+ transport system, NAD-binding component', 'CCU73032.1': 'hypothetical protein', 'CCU73033.1': 'hypothetical protein', 'CCU73034.1': 'transposase IS66', 'CCU73035.1': 'IS66 Orf2 family protein', 'CCU73036.1': 'hypothetical protein', 'CCU73037.1': 'hypothetical protein', 'CCU73038.1': \"3'-phosphoadenosine 5'-phosphosulfate sulfotransferase/FAD synthetase-like protein\", 'CCU73039.1': 'hypothetical protein', 'CCU73040.1': 'hypothetical protein', 'CCU73041.1': 'phosphoribosylformylglycinamidine synthase', 'CCU73042.1': 'predicted soluble lytic transglycosylase fused to an ABC-type amino acid-binding protein', 'CCU73043.1': 'cytidine/deoxycytidylate deaminase', 'CCU73044.1': 'thioesterase superfamily protein', 'CCU73045.1': 'glutathione-regulated potassium efflux system protein KefC-like protein', 'CCU73046.1': 'NAD(P)H dehydrogenase (quinone)', 'CCU73047.1': 'translation initiation factor Sui1', 'CCU73048.1': 'hypothetical protein', 'CCU73049.1': 'Transcriptional regulator2C AsnC family', 'CCU73050.1': '2-isopropylmalate synthase', 'CCU73051.1': 'protein of unknown function DUF369', 'CCU73052.1': 'VRR-NUC family nuclease', 'CCU73053.1': 'hypothetical protein', 'CCU73054.1': 'FKBP-type peptidyl-prolyl cis-trans isomerase SlyD', 'CCU73055.1': 'Superfamily I DNA and RNA helicase', 'CCU73056.1': 'fatty acid desaturase', 'CCU73057.1': 'oxidoreductase FAD/NAD(P)-binding subunit', 'CCU73058.1': 'glutathione-dependent formaldehyde-activating GFA', 'CCU73059.1': 'protein of unknown function DUF88', 'CCU73060.1': 'ethanolamine transporter', 'CCU73061.1': 'ethanolamine ammonia-lyase small subunit', 'CCU73062.1': 'ethanolamine ammonia-lyase large subunit', 'CCU73063.1': 'transcriptional regulator, AraC family', 'CCU73064.1': 'flavoprotein', 'CCU73065.1': 'Glutathione S-transferase domain protein', 'CCU73066.1': 'glutathione S-transferase', 'CCU73067.1': 'hypothetical protein', 'CCU73068.1': 'two-component sensor response regulator, receiver subunit', 'CCU73069.1': 'two-component sensor histidine kinase protein', 'CCU73070.1': 'ABC transporter periplasmic substrate-binding protein', 'CCU73071.1': 'branched-chain amino acid ABC transporter permease', 'CCU73072.1': 'urea ABC transporter permease UrtC', 'CCU73073.1': 'urea ABC transporter ATP-binding protein UrtD', 'CCU73074.1': 'urea ABC transporter ATP-binding protein UrtE', 'CCU73075.1': 'acylamide amidohydrolase', 'CCU73076.1': 'ATP-dependent protease ATP-binding protein', 'CCU73077.1': 'fomramidase', 'CCU73078.1': 'putative formamidase regulatory protein FmdB', 'CCU73079.1': 'DEAD/DEAH box helicase-like protein', 'CCU73080.1': 'hypothetical protein', 'CCU73081.1': 'response regulator', 'CCU73082.1': 'hypothetical protein', 'CCU73083.1': 'amidotransferase', 'CCU73084.1': 'hypothetical protein', 'CCU73085.1': 'hypothetical protein', 'CCU73086.1': 'peptidyl-prolyl cis-trans isomerase C', 'CCU73087.1': 'sodium ion-translocating decarboxylase subunit beta', 'CCU73088.1': 'oxaloacetate decarboxylase', 'CCU73089.1': 'hypothetical protein', 'CCU73090.1': 'NifR3/Smm1 family protein', 'CCU73091.1': 'SAM-dependent tRNA mo(5)U34 methyltransferase', 'CCU73092.1': 'putative SAM-dependent methyltransferase', 'CCU73093.1': 'hypothetical protein', 'CCU73094.1': 'hypothetical protein', 'CCU73095.1': 'phosphoglycolate phosphatase', 'CCU73096.1': 'ribulose-phosphate 3-epimerase', 'CCU73097.1': 'hypothetical protein', 'CCU73098.1': 'hypothetical protein', 'CCU73099.1': 'metallo-beta-lactamase family protein', 'CCU73100.1': 'D-xylulose 5-phosphate/D-fructose 6-phosphate phosphoketolase', 'CCU73101.1': 'phosphoribosylpyrophosphate synthetase', 'CCU73102.1': 'thymidine phosphorylase', 'CCU73103.1': 'RNA processing exonuclease', 'CCU73104.1': 'phenazine biosynthesis-like protein', 'CCU73105.1': 'hypothetical protein', 'CCU73106.1': 'hypothetical protein', 'CCU73107.1': 'hypothetical protein', 'CCU73108.1': 'hypothetical protein', 'CCU73109.1': 'polyribonucleotide nucleotidyltransferase', 'CCU73110.1': 'hypothetical protein', 'CCU73111.1': '30S ribosomal subunit protein S15', 'CCU73112.1': 'tRNA pseudouridine synthase B', 'CCU73113.1': 'ribosome-binding factor A', 'CCU73114.1': 'translation initiation factor IF-2', 'CCU73115.1': 'transcription elongation factor NusA', 'CCU73116.1': 'ribosome maturation protein RimP', 'CCU73117.1': 'preprotein translocase, SecG subunit', 'CCU73118.1': 'triose-phosphate isomerase', 'CCU73119.1': 'phosphoglucosamine mutase', 'CCU73120.1': 'dihydropteroate synthase', 'CCU73121.1': 'cell division protein FtsH', 'CCU73122.1': '23S rRNA methylase', 'CCU73123.1': 'hypothetical protein', 'CCU73124.1': '3-oxoacyl-(acyl-carrier-protein) synthase III', 'CCU73125.1': 'Thioesterase superfamily protein', 'CCU73126.1': 'hypothetical protein', 'CCU73127.1': 'fatty acid desaturase', 'CCU73128.1': 'GreA/GreB family elongation factor', 'CCU73129.1': 'carbamoyl-phosphate synthase large subunit', 'CCU73130.1': 'carbamoyl-phosphate synthase small subunit', 'CCU73131.1': 'hypothetical protein', 'CCU73132.1': 'hypothetical OpaR', 'CCU73133.1': 'hypothetical protein', 'CCU73134.1': 'dihydrodipicolinate reductase', 'CCU73135.1': 'dnaJ protein', 'CCU73136.1': 'molecular chaperone DnaK', 'CCU73137.1': 'co-chaperone GrpE', 'CCU73138.1': 'DNA repair protein RecN', 'CCU73139.1': 'ferric uptake regulation protein', 'CCU73140.1': 'outer membrane beta-barrel assembly machine subunit BamE', 'CCU73141.1': 'protein rnfH', 'CCU73142.1': 'oligoketide cyclase/lipid transport protein', 'CCU73143.1': 'NSS family transporter', 'CCU73144.1': 'SmpB protein', 'CCU73145.1': 'Restriction endonuclease, type I, EcoRI, R subunit/Type III', 'CCU73146.1': 'protein of hypothetical function DUF1814', 'CCU73147.1': 'hypothetical protein', 'CCU73148.1': 'hypothetical protein', 'CCU73149.1': 'hypothetical protein', 'CCU73150.1': 'restriction enzyme, Res subunit', 'CCU73151.1': 'restriction-modification system methylation subunit', 'CCU73152.1': 'hypothetical protein', 'CCU73153.1': 'hypothetical protein', 'CCU73154.1': 'hypothetical protein', 'CCU73155.1': 'hypothetical protein', 'CCU73156.1': 'MotA/TolQ/ExbB proton channel family protein', 'CCU73157.1': 'hypothetical protein', 'CCU73158.1': 'biopolymer transport protein ExbD/TolR', 'CCU73159.1': 'hypothetical protein', 'CCU73160.1': 'TonB-dependent receptor', 'CCU73161.1': 'FMN-dependent alpha-hydroxy acid dehydrogenase', 'CCU73162.1': 'Fe(II)-dependent oxygenase superfamily protein', 'CCU73163.1': 'hypothetical protein', 'CCU73164.1': 'hypothetical protein', 'CCU73165.1': 'hypothetical protein', 'CCU73166.1': 'Aldehyde dehydrogenase', 'CCU73167.1': 'thioesterase superfamily protein', 'CCU73168.1': 'iron-dependent alcohol dehydrogenase', 'CCU73169.1': 'acyl-CoA dehydrogenase', 'CCU73170.1': '3-hydroxyacyl-CoA dehydrogenase', 'CCU73171.1': 'hypothetical protein', 'CCU73172.1': 'hypothetical protein', 'CCU73173.1': 'hypothetical protein', 'CCU73174.1': 'deoxyribodipyrimidine photolyase', 'CCU73175.1': 'molybdate ABC transporter, ATPase subunit', 'CCU73176.1': 'molybdate ABC transporter inner membrane subunit', 'CCU73177.1': 'molybdenum ABC transporter periplasmic molybdate-binding protein', 'CCU73178.1': 'hypothetical protein', 'CCU73179.1': 'hypothetical protein', 'CCU73180.1': 'glutamate synthase membrane protein', 'CCU73181.1': 'hypothetical protein', 'CCU73182.1': 'hypothetical protein', 'CCU73183.1': 'hypothetical protein', 'CCU73184.1': 'hypothetical protein', 'CCU73185.1': 'hypothetical protein', 'CCU73186.1': 'hypothetical protein', 'CCU73187.1': 'hypothetical protein', 'CCU73188.1': 'hypothetical protein', 'CCU73189.1': 'hypothetical protein', 'CCU73190.1': 'hypothetical protein', 'CCU73191.1': 'hypothetical protein', 'CCU73192.1': 'transposase orfB', 'CCU73193.1': 'transposase orfA', 'CCU73194.1': 'hypothetical protein', 'CCU73195.1': 'hypothetical protein', 'CCU73196.1': 'IS66 Orf2 family protein', 'CCU73197.1': 'transposase IS66', 'CCU73198.1': 'hypothetical protein', 'CCU73199.1': 'predicted nucleoside-diphosphate sugar epimerase', 'CCU73200.1': 'acyl-CoA dehydrogenase', 'CCU73201.1': 'putative NAD/FAD-dependent oxidoreductase', 'CCU73202.1': 'cobalamin (vitamin B12) biosynthesis CbiX protein', 'CCU73203.1': 'hypothetical protein', 'CCU73204.1': 'hypothetical protein', 'CCU73205.1': 'FAD-binding deoxyribodipyrimidine photolyase', 'CCU73206.1': 'Fatty-acid desaturase', 'CCU73207.1': 'hypothetical protein', 'CCU73208.1': 'short-chain dehydrogenase/reductase SDR', 'CCU73209.1': 'amine oxidase', 'CCU73210.1': 'hypothetical protein', 'CCU73211.1': 'cyclopropane-fatty-acyl-phospholipid synthase', 'CCU73212.1': 'hypothetical protein', 'CCU73213.1': 'hypothetical protein', 'CCU73214.1': 'putative TonB-dependent receptor', 'CCU73215.1': 'transcriptional regulator, LysR family protein', 'CCU73216.1': 'hypothetical protein', 'CCU73217.1': 'hypothetical protein', 'CCU73218.1': 'SOS cell division inhibitor SulA', 'CCU73219.1': 'hypothetical protein', 'CCU73220.1': 'DNA polymerase III, alpha subunit', 'CCU73221.1': 'hypothetical protein', 'CCU73222.1': 'major facilitator superfamily protein', 'CCU73223.1': 'hypothetical protein', 'CCU73224.1': 'hypothetical protein', 'CCU73225.1': 'hypothetical protein', 'CCU73226.1': 'hypothetical protein', 'CCU73227.1': 'TonB-dependent outer membrane cobalamin receptor', 'CCU73228.1': 'ATP--cobalamin adenosyltransferase', 'CCU73229.1': 'hypothetical protein', 'CCU73230.1': 'hypothetical protein', 'CCU73231.1': 'hypothetical protein', 'CCU73232.1': 'hypothetical protein', 'CCU73233.1': \"2',3'-cyclic-nucleotide 2'-phosphodiesterase\", 'CCU73234.1': 'hypothetical protein', 'CCU73235.1': 'transcriptional regulator, ArsR family', 'CCU73236.1': 'FMN oxidoreductase', 'CCU73237.1': 'diguanylate cyclase membrane protein', 'CCU73238.1': 'ABC transporter ATP-binding protein', 'CCU73239.1': 'hypothetical protein', 'CCU73240.1': 'hypothetical protein', 'CCU73241.1': '5-oxoprolinase', 'CCU73242.1': 'Cytochrome c, class I', 'CCU73243.1': 'hypothetical protein', 'CCU73244.1': 'hypothetical protein', 'CCU73245.1': 'hypothetical protein', 'CCU73246.1': '3-dehydroquinate dehydratase II', 'CCU73247.1': '50S ribosomal protein L11 methyltransferase', 'CCU73248.1': 'hypothetical protein', 'CCU73249.1': 'Dihydrouridine synthase TIM-barrel protein nifR3', 'CCU73250.1': 'global DNA-binding transcriptional dual regulator Fis', 'CCU73251.1': 'bifunctional phosphoribosylaminoimidazolecarboxamide formyltransferase/IMP cyclohydrolase', 'CCU73252.1': 'phosphoribosylamine--glycine ligase', 'CCU73253.1': 'hypothetical protein', 'CCU73254.1': 'ATPase of the AAA+ class', 'CCU73255.1': 'ubiquinone biosynthesis protein', 'CCU73256.1': 'acetolactate synthase, small (regulatory) subunit', 'CCU73257.1': 'acetolactate synthase, large subunit,biosynthetic type', 'CCU73258.1': 'multi-copper polyphenol oxidoreductase, laccase', 'CCU73259.1': 'RluA family pseudouridine synthase', 'CCU73260.1': 'outer membrane beta-barrel assembly machine subunit BamD', 'CCU73261.1': 'hypothetical protein', 'CCU73262.1': 'NAD synthase', 'CCU73263.1': 'hypothetical protein', 'CCU73264.1': 'two-component response regulator PilR', 'CCU73265.1': 'hypothetical protein', 'CCU73266.1': 'hypothetical protein', 'CCU73267.1': 'hypothetical protein', 'CCU73268.1': 'hypothetical protein', 'CCU73269.1': 'hypothetical protein', 'CCU73270.1': 'hypothetical protein', 'CCU73271.1': 'hypothetical protein', 'CCU73272.1': '4-hydroxy-3-methylbut-2-enyl diphosphate reductase', 'CCU73273.1': 'Peptidylprolyl isomerase, FKBP-type', 'CCU73274.1': 'signal peptidase II', 'CCU73275.1': 'isoleucyl-tRNA synthetase', 'CCU73276.1': 'bifunctional riboflavin kinase/FMN adenylyltransferase', 'CCU73277.1': 'integral membrane protein MviN', 'CCU73278.1': '30S ribosomal protein S20', 'CCU73279.1': '2-dehydro-3-deoxyphosphooctonate aldolase', 'CCU73280.1': 'gamma-glutamyl kinase', 'CCU73281.1': 'GTP-binding protein, GTP1/Obg family protein', 'CCU73282.1': '50S ribosomal protein L27', 'CCU73283.1': '50S ribosomal protein L21', 'CCU73284.1': 'Octaprenyl-diphosphate synthase', 'CCU73285.1': 'Thiol:disulfide interchange protein dsbD 1 precursor (Protein-disulfide reductase 1) (Disulfide reductase 1)', 'CCU73286.1': 'hypothetical protein', 'CCU73287.1': 'hypothetical protein', 'CCU73288.1': 'hypothetical protein', 'CCU73289.1': 'lipoyl synthase', 'CCU73290.1': 'lipoyltransferase', 'CCU73291.1': 'hypothetical protein', 'CCU73292.1': 'D-alanyl-D-alanine carboxypeptidase', 'CCU73293.1': 'hypothetical protein', 'CCU73294.1': 'hypothetical protein', 'CCU73295.1': 'KPSH family membrane protein', 'CCU73296.1': 'hypothetical protein', 'CCU73297.1': 'hypothetical protein', 'CCU73298.1': 'hypothetical protein', 'CCU73299.1': 'hypothetical protein', 'CCU73300.1': 'hypothetical protein', 'CCU73301.1': 'hypothetical protein', 'CCU73302.1': 'hypothetical protein', 'CCU73303.1': 'gamma-glutamyl phosphate reductase', 'CCU73304.1': 'Nicotinate-nucleotide adenylyltransferase', 'CCU73305.1': 'uncharacterized plant Iojap protein', 'CCU73306.1': 'hypothetical protein', 'CCU73307.1': 'Cell division protein FtsI/penicillin-binding protein 2', 'CCU73308.1': 'rod shape-determining protein RodA', 'CCU73309.1': 'lytic murein transglycosylase B', 'CCU73310.1': 'Rare lipoprotein A precursor', 'CCU73311.1': 'hypothetical protein', 'CCU73312.1': 'hypothetical protein', 'CCU73313.1': 'glycosyl transferase, group 1', 'CCU73314.1': 'hypothetical protein', 'CCU73315.1': 'hypothetical protein', 'CCU73316.1': 'hypothetical protein', 'CCU73317.1': 'hypothetical protein', 'CCU73318.1': 'hypothetical protein', 'CCU73319.1': 'hypothetical protein', 'CCU73320.1': 'hypothetical protein', 'CCU73321.1': 'hypothetical protein', 'CCU73322.1': 'hypothetical protein', 'CCU73323.1': 'TetR family transcriptional regulator', 'CCU73324.1': 'hypothetical protein', 'CCU73325.1': 'hypothetical protein', 'CCU73326.1': 'flavodoxin/nitric oxide synthase', 'CCU73327.1': 'hypothetical protein', 'CCU73328.1': 'hypothetical protein', 'CCU73329.1': 'hypothetical protein', 'CCU73330.1': 'group 1 glycosyl transferase', 'CCU73331.1': 'PA-phosphatase-like phosphoesterase', 'CCU73332.1': 'DNA polymerase IV', 'CCU73333.1': 'type III effector HopPmaJ(Pto)', 'CCU73334.1': 'septum formation inhibitor', 'CCU73335.1': 'septum site-determining protein MinD', 'CCU73336.1': 'cell division topological specificity factor MinE', 'CCU73337.1': 'hypothetical membrane protein', 'CCU73338.1': 'PpiC-type peptidyl-prolyl cis-trans isomerase', 'CCU73339.1': 'hypothetical protein', 'CCU73340.1': 'hypothetical protein', 'CCU73341.1': 'hypothetical protein', 'CCU73342.1': 'PF27 family transporter', 'CCU73343.1': '2OG-Fe(II) oxygenase', 'CCU73344.1': 'probable chemotaxis transducer', 'CCU73345.1': 'heavy metal efflux pump, CzcA family', 'CCU73346.1': 'hypothetical protein', 'CCU73347.1': 'hypothetical protein', 'CCU73348.1': 'hypothetical protein', 'CCU73349.1': 'putative membrane protein', 'CCU73350.1': 'D-tyrosyl-tRNA(Tyr) deacylase', 'CCU73351.1': 'hypothetical protein', 'CCU73352.1': 'Signal transduction histidine kinase, nitrogen specific', 'CCU73353.1': 'two-component response regulator NtrC', 'CCU73354.1': 'hypothetical protein', 'CCU73355.1': 'hypothetical protein', 'CCU73356.1': 'hypothetical protein', 'CCU73357.1': 'hypothetical protein', 'CCU73358.1': 'hypothetical protein', 'CCU73359.1': 'hypothetical protein', 'CCU73360.1': 'hypothetical protein', 'CCU73361.1': 'putative tRNA/rRNA methyltransferase', 'CCU73362.1': 'Uncharacterized BCR, YnfA/UPF0060 family', 'CCU73363.1': 'Uncharacterized BCR, YnfA/UPF0060 family', 'CCU73364.1': 'hypothetical protein', 'CCU73365.1': 'transposase IS4 family protein', 'CCU73366.1': 'hypothetical protein', 'CCU73367.1': 'hypothetical protein', 'CCU73368.1': 'hypothetical protein', 'CCU73369.1': 'hypothetical protein', 'CCU73370.1': 'hypothetical protein', 'CCU73371.1': 'hypothetical protein', 'CCU73372.1': 'protein-export protein SecB', 'CCU73373.1': 'hypothetical protein', 'CCU73374.1': '2,3-bisphosphoglycerate-independent phosphoglycerate mutase', 'CCU73375.1': 'Membrane-bound metallopeptidase', 'CCU73376.1': 'Periplasmic protease', 'CCU73377.1': 'hypothetical protein', 'CCU73378.1': 'hypothetical protein', 'CCU73379.1': 'hypothetical protein', 'CCU73380.1': 'membrane bound O-acyl transferase, MBOAT', 'CCU73381.1': 'metal ion transporter MIT family protein', 'CCU73382.1': 'DNA polymerase II', 'CCU73383.1': 'uncharacterized low-complexity protein', 'CCU73384.1': 'cyclic nucleotide-binding protein', 'CCU73385.1': 'hemin importer ATP-binding subunit', 'CCU73386.1': 'ABC-type Fe3+-siderophore transport system,permease component', 'CCU73387.1': 'Rieske (2Fe-2S) protein', 'CCU73388.1': 'hydrolase yhcX', 'CCU73389.1': 'late embryogenesis abundant protein 2', 'CCU73390.1': 'Sugar fermentation stimulation protein', 'CCU73391.1': 'dapC gene product', 'CCU73392.1': 'DnaK suppressor protein', 'CCU73393.1': 'glutamyl-Q tRNA(Asp) synthetase', 'CCU73394.1': 'hypothetical protein', 'CCU73395.1': 'probable two-component sensor', 'CCU73396.1': 'probable two-component response regulator', 'CCU73397.1': 'tRNA nucleotidyltransferase/poly(A) polymerase', 'CCU73398.1': '2-amino-4-hydroxy-6- hydroxymethyldihydropteridinepyrophosphokinase', 'CCU73399.1': '3-methyl-2-oxobutanoate hydroxymethyltransferase', 'CCU73400.1': 'pantoate--beta-alanine ligase', 'CCU73401.1': 'aspartate alpha-decarboxylase', 'CCU73402.1': 'glucose-6-phosphate isomerase', 'CCU73403.1': 'Methylthioribose-1-phosphate isomerase', 'CCU73404.1': 'sugar aldolase', 'CCU73405.1': \"ARD/ARD' family\", 'CCU73406.1': '2,3-diketo-5-methylthio-1-phosphopentane phosphatase', 'CCU73407.1': 'hypothetical protein', 'CCU73408.1': 'putative cysteine protease', 'CCU73409.1': 'hypothetical protein', 'CCU73410.1': 'carboxyl esterase', 'CCU73411.1': 'putative alcohol dehydrogenase class III', 'CCU73412.1': 'transcriptional regulator', 'CCU73413.1': 'UPF0012 hydrolase yhcX', 'CCU73414.1': 'predicted thioesterase', 'CCU73415.1': 'adenylosuccinate synthetase', 'CCU73416.1': 'hisZ gene product', 'CCU73417.1': 'hypothetical protein', 'CCU73418.1': 'protease subunit HflC', 'CCU73419.1': 'HflK protein', 'CCU73420.1': 'probable GTP-binding protein', 'CCU73421.1': 'uncharacterized host factor I protein', 'CCU73422.1': 'tRNA isopentenyltransferase MiaA', 'CCU73423.1': 'DNA mismatch repair protein', 'CCU73424.1': 'N-acetylmuramoyl-L-alanine amidase', 'CCU73425.1': 'hypothetical protein', 'CCU73426.1': 'hypothetical protein', 'CCU73427.1': 'iron-sulfur cluster-binding protein', 'CCU73428.1': 'oligoribonuclease', 'CCU73429.1': 'ribosome-associated GTPase', 'CCU73430.1': 'motility protein, MotA family protein', 'CCU73431.1': 'Flagellar motor component', 'CCU73432.1': 'hypothetical protein', 'CCU73433.1': 'Rhodanese-related sulfurtransferase', 'CCU73434.1': 'phosphatidylserine decarboxylase', 'CCU73435.1': 'hypothetical protein', 'CCU73436.1': 'hypothetical protein', 'CCU73437.1': 'hypothetical protein', 'CCU73438.1': 'hypothetical protein', 'CCU73439.1': 'lysyl-tRNA synthetase', 'CCU73440.1': 'elongation factor P', 'CCU73441.1': 'hypothetical protein', 'CCU73442.1': 'GTPase', 'CCU73443.1': 'signal transduction membrane protein', 'CCU73444.1': 'Phosphoserine phosphatase SerB:HAD-superfamily hydrolase, subfamily IB (PSPase-like)', 'CCU73445.1': 'hypothetical protein', 'CCU73446.1': 'hypothetical protein', 'CCU73447.1': 'hypothetical protein', 'CCU73448.1': 'hypothetical protein', 'CCU73449.1': 'excinuclease ABC subunit A', 'CCU73450.1': 'regulatory protein CsgD', 'CCU73451.1': 'major facilitator superfamily transporter', 'CCU73452.1': 'single-strand DNA-binding protein', 'CCU73453.1': 'nonessential primary sigma factor', 'CCU73454.1': 'peptidase M23/LysM domain protein', 'CCU73455.1': 'hypothetical protein', 'CCU73456.1': 'L-isoaspartate protein carboxylmethyltransferase type II', 'CCU73457.1': 'stationary phase survival protein SurE', 'CCU73458.1': 'tRNA pseudouridine synthase D TruD', 'CCU73459.1': '2-C-methyl-D-erythritol 2,4-cyclodiphosphate synthase', 'CCU73460.1': '2-C-methyl-D-erythritol 4-phosphate cytidylyltransferase', 'CCU73461.1': 'hypothetical protein', 'CCU73462.1': 'diguanylate cyclase', 'CCU73463.1': 'hypothetical protein', 'CCU73464.1': 'hypothetical protein', 'CCU73465.1': 'hypothetical protein', 'CCU73466.1': 'hypothetical protein', 'CCU73467.1': 'hypothetical protein', 'CCU73468.1': 'hypothetical protein', 'CCU73469.1': 'hypothetical protein', 'CCU73470.1': 'hypothetical protein', 'CCU73471.1': 'hypothetical protein', 'CCU73472.1': 'phosphopyruvate hydratase', 'CCU73473.1': 'CTP synthetase', 'CCU73474.1': 'hypothetical protein', 'CCU73475.1': 'hypothetical protein', 'CCU73476.1': 'hypothetical protein', 'CCU73477.1': 'hypothetical protein', 'CCU73478.1': 'hypothetical protein', 'CCU73479.1': 'hypothetical protein', 'CCU73480.1': 'NIF3', 'CCU73481.1': 'peptidase S1 and S6, chymotrypsin/Hap', 'CCU73482.1': 'histidinol-phosphate aminotransferase', 'CCU73483.1': 'histidinol dehydrogenase', 'CCU73484.1': 'ATP phosphoribosyltransferase', 'CCU73485.1': 'UDP-N-acetylglucosamine 1-carboxyvinyltransferase', 'CCU73486.1': 'predicted transcriptional regulator, BolA superfamily protein', 'CCU73487.1': 'hypothetical protein', 'CCU73488.1': 'toluene tolerance ABC transporter periplasmic substrate-binding protein', 'CCU73489.1': 'organic solvents resistance ABC transporter permease', 'CCU73490.1': 'organic solvents resistance ABC transporter ATPase', 'CCU73491.1': 'Ca2+/Na+ antiporter', 'CCU73492.1': 'sugar isomerase', 'CCU73493.1': 'hypothetical protein', 'CCU73494.1': 'hypothetical protein', 'CCU73495.1': 'ABC transporter, ATP-binding protein', 'CCU73496.1': 'DNA-directed RNA polymerase subunit N', 'CCU73497.1': 'ribosome hibernation promoting factor HPF; stabilizes 70S dimers (100S)', 'CCU73498.1': 'ptsN gene product', 'CCU73499.1': 'hypothetical protein', 'CCU73500.1': 'Phosphocarrier protein2C nitrogen regulation associated', 'CCU73501.1': 'magnesium transporter', 'CCU73502.1': 'hypothetical protein', 'CCU73503.1': 'amidohydrolase', 'CCU73504.1': 'hypothetical protein', 'CCU73505.1': 'Ribonucleases G and E', 'CCU73506.1': 'hypothetical protein', 'CCU73507.1': 'hypothetical protein', 'CCU73508.1': 'rod shape-determining protein MreC', 'CCU73509.1': 'rod shape-determining protein MreB', 'CCU73510.1': 'aspartyl/glutamyl-tRNA amidotransferase subunit C', 'CCU73511.1': 'glutamyl-tRNA(Gln) amidotransferase, A subunit', 'CCU73512.1': 'aspartyl/glutamyl-tRNA amidotransferase subunit B', 'CCU73513.1': 'hypothetical protein', 'CCU73514.1': 'hypothetical protein', 'CCU73515.1': 'hypothetical protein', 'CCU73516.1': 'IS66 Orf2 family protein', 'CCU73517.1': 'transposase IS66', 'CCU73518.1': 'hypothetical protein', 'CCU73519.1': 'hypothetical protein', 'CCU73520.1': 'hypothetical protein', 'CCU73521.1': 'hypothetical protein', 'CCU73522.1': 'hypothetical protein', 'CCU73523.1': 'gp68', 'CCU73524.1': 'hypothetical protein', 'CCU73525.1': 'DNA mismatch repair protein MutS', 'CCU73526.1': 'ferredoxin', 'CCU73527.1': 'Putative molybdopterin biosynthesis protein MoeA', 'CCU73528.1': 'fumarylacetoacetate hydrolase family protein', 'CCU73529.1': 'hypothetical protein', 'CCU73530.1': 'putative ABC transporter ATP-binding protein', 'CCU73531.1': 'hypothetical protein', 'CCU73532.1': 'Glycine/serine hydroxymethyltransferase', 'CCU73533.1': 'hypothetical protein', 'CCU73534.1': 'hypothetical protein', 'CCU73535.1': 'hypothetical protein', 'CCU73536.1': 'hypothetical protein', 'CCU73537.1': 'hypothetical protein', 'CCU73538.1': 'transcriptional regulator NrdR', 'CCU73539.1': 'riboflavin biosynthesis protein RibD', 'CCU73540.1': 'riboflavin synthase subunit alpha', 'CCU73541.1': '3,4-dihydroxy-2-butanone 4-phosphate synthase (DHBP synthase)', 'CCU73542.1': '6,7-dimethyl-8-ribityllumazine synthase', 'CCU73543.1': 'transcription antitermination protein NusB', 'CCU73544.1': 'thiamine monophosphate kinase', 'CCU73545.1': 'hypothetical protein', 'CCU73546.1': 'hypothetical protein', 'CCU73547.1': 'hypothetical protein', 'CCU73548.1': 'YbaK family protein', 'CCU73549.1': 'hypothetical protein', 'CCU73550.1': 'fumarate hydratase', 'CCU73551.1': 'putative short-chain dehydrogenase', 'CCU73552.1': 'putative short-chain dehydrogenase', 'CCU73553.1': 'flavin monooxygenase', 'CCU73554.1': 'hypothetical protein', 'CCU73555.1': 'putative FAD-dependent dehydrogenase', 'CCU73556.1': '23S rRNA methyltransferase', 'CCU73557.1': 'transketolase 1', 'CCU73558.1': 'hypothetical protein', 'CCU73559.1': 'periplasmic sugar binding protein', 'CCU73560.1': 'hypothetical protein', 'CCU73561.1': 'hydrolase', 'CCU73562.1': 'alkaline phosphatase', 'CCU73563.1': 'hypothetical protein', 'CCU73564.1': 'alpha/beta hydrolase fold protein', 'CCU73565.1': 'hypothetical protein', 'CCU73566.1': 'hypothetical protein', 'CCU73567.1': 'hypothetical protein', 'CCU73568.1': 'cytosol aminopeptidase', 'CCU73569.1': 'hypothetical protein', 'CCU73570.1': 'carbonic anhydrase', 'CCU73571.1': 'pyruvate or oxaloacetate carboxylase decarboxylase subunit', 'CCU73572.1': '2-oxoglutarate carboxylase small subunit', 'CCU73573.1': 'HTH-type transcriptional activator CmpR', 'CCU73574.1': 'hypothetical protein', 'CCU73575.1': 'hypothetical protein', 'CCU73576.1': 'hypothetical protein', 'CCU73577.1': 'hypothetical protein', 'CCU73578.1': 'hypothetical protein', 'CCU73579.1': 'hypothetical protein', 'CCU73580.1': 'pyoverdine biosynthesis protein', 'CCU73581.1': 'hypothetical protein', 'CCU73582.1': 'hypothetical protein', 'CCU73583.1': 'hypothetical protein', 'CCU73584.1': 'hypothetical protein', 'CCU73585.1': 'hypothetical protein', 'CCU73586.1': 'putative alkanal monooxygenase (FMN-linked)', 'CCU73587.1': 'hypothetical protein', 'CCU73588.1': 'hypothetical protein', 'CCU73589.1': 'alkyl hydroperoxide reductase subunit F', 'CCU73590.1': 'alkyl hydroperoxide reductase', 'CCU73591.1': 'hypothetical protein', 'CCU73592.1': 'hypothetical protein', 'CCU73593.1': 'hypothetical protein', 'CCU73594.1': 'Small-conductance mechanosensitive channel', 'CCU73595.1': 'RNA methyltransferase, TrmH family, group 3', 'CCU73596.1': 'ribonuclease R', 'CCU73597.1': 'hypothetical protein', 'CCU73598.1': 'ATP-dependent protease ATP-binding subunit HslU', 'CCU73599.1': 'ATP-dependent protease subunit HslV', 'CCU73600.1': 'FKBP-type peptidyl-prolyl cis-trans isomerase SlyD', 'CCU73601.1': 'hypothetical protein', 'CCU73602.1': 'hypothetical protein', 'CCU73603.1': 'metal-binding hydrolase', 'CCU73604.1': 'hypothetical protein', 'CCU73605.1': '50S ribosomal protein L31', 'CCU73606.1': 'primosome assembly protein PriA', 'CCU73607.1': 'phosphatidylglycerophosphatase A', 'CCU73608.1': 'hypothetical protein', 'CCU73609.1': 'GTP cyclohydrolase II', 'CCU73610.1': 'hypothetical protein', 'CCU73611.1': 'hypothetical protein', 'CCU73612.1': 'hypothetical protein', 'CCU73613.1': 'farnesyl-diphosphate synthase', 'CCU73614.1': 'exodeoxyribonuclease VII small subunit', 'CCU73615.1': 'flagellar motor protein', 'CCU73616.1': 'flagellar motor protein', 'CCU73617.1': 'hypothetical protein', 'CCU73618.1': 'hypothetical protein', 'CCU73619.1': 'hypothetical protein', 'CCU73620.1': 'DNA repair protein RadA', 'CCU73621.1': 'monovalent cation/proton antiporter, MnhG/PhaG subunit', 'CCU73622.1': 'multiple resistance and pH regulation protein F', 'CCU73623.1': 'Multisubunit Na+/H+ antiporter, MnhE subunit', 'CCU73624.1': 'putative monovalent cation/H+ antiporter subunit D', 'CCU73625.1': 'putative monovalent cation/H+ antiporter subunit C', 'CCU73626.1': 'NADH dehydrogenase (quinone)', 'CCU73627.1': 'uroporphyrinogen decarboxylase', 'CCU73628.1': 'hypothetical protein', 'CCU73629.1': 'glutamate synthase subunit beta', 'CCU73630.1': 'glutamate synthase subunit alpha', 'CCU73631.1': 'hypothetical protein', 'CCU73632.1': '3-dehydroquinate synthase', 'CCU73633.1': 'hypothetical protein', 'CCU73634.1': 'type 4 fimbrial biogenesis protein PilQ', 'CCU73635.1': 'Type IV pilus biogenesis protein PilP', 'CCU73636.1': 'type 4 fimbrial biogenesis protein PilO', 'CCU73637.1': 'type 4 fimbrial biogenesis protein PilN', 'CCU73638.1': 'Tfp pilus assembly protein, ATPase PilM', 'CCU73639.1': 'penicillin-binding protein', 'CCU73640.1': 'dehydrogenase', 'CCU73641.1': 'D-3-phosphoglycerate dehydrogenase', 'CCU73642.1': 'TRAP dicarboxylate transporter subunit DctM', 'CCU73643.1': 'ABC molybdenum transporter, ATP-binding subunit modF', 'CCU73644.1': 'protein kinase C inhibitor', 'CCU73645.1': 'response regulator receiver modulated diguanylate cyclase', 'CCU73646.1': 'hypothetical protein', 'CCU73647.1': 'hypothetical protein', 'CCU73648.1': 'phosphatidylserine synthase', 'CCU73649.1': 'Transcriptional activator IlvY', 'CCU73650.1': 'ketol-acid reductoisomerase', 'CCU73651.1': 'hypothetical protein', 'CCU73652.1': 'hypothetical protein', 'CCU73653.1': 'sulfur acceptor protein', 'CCU73654.1': 'hypothetical protein', 'CCU73655.1': 'cholesterol oxidase', 'CCU73656.1': 'lipase family protein', 'CCU73657.1': 'hypothetical protein', 'CCU73658.1': 'fructose-bisphosphate aldolase', 'CCU73659.1': '3-phosphoglycerate kinase', 'CCU73660.1': 'glyceraldehyde 3-phosphate dehydrogenase', 'CCU73661.1': 'type 12 methyltransferase', 'CCU73662.1': 'hypothetical protein', 'CCU73663.1': 'AraC family transcriptional regulator', 'CCU73664.1': 'aldehyde dehydrogenase', 'CCU73665.1': 'hypothetical protein', 'CCU73666.1': 'putative urate catabolism protein', 'CCU73667.1': 'predicted membrane protein', 'CCU73668.1': 'guanine deaminase', 'CCU73669.1': 'ureidoglycolate hydrolase', 'CCU73670.1': 'putative transthyretin-like protein precursor', 'CCU73671.1': 'putative OHCU decarboxylase', 'CCU73672.1': 'Allantoicase', 'CCU73673.1': 'Xanthine and CO dehydrogenase maturation factor,XdhC/CoxF family protein', 'CCU73674.1': 'xanthine dehydrogenase, molybdopterin binding subunit', 'CCU73675.1': 'Xanthine dehydrogenase, iron-sulfur cluster and FAD-binding subunit A', 'CCU73676.1': 'ABC transporter ATPase', 'CCU73677.1': 'ABC transporter permease', 'CCU73678.1': 'ABC transporter permease', 'CCU73679.1': 'Purine nucleoside permease', 'CCU73680.1': 'putative adenosine deaminase', 'CCU73681.1': 'putative TonB-dependent receptor', 'CCU73682.1': 'hypothetical protein', 'CCU73683.1': 'TolR', 'CCU73684.1': 'TonB system transport protein ExbB2', 'CCU73685.1': 'TonB system transport protein ExbD2', 'CCU73686.1': 'TonB2 protein', 'CCU73687.1': 'hypothetical protein', 'CCU73688.1': 'putative purine nucleoside permease', 'CCU73689.1': 'hypothetical protein', 'CCU73690.1': 'transcriptional regulator, TetR family protein', 'CCU73691.1': 'low-affinity cAMP phosphodiesterase', 'CCU73692.1': 'hydroxydechloroatrazine ethylaminohydrolase', 'CCU73693.1': 'hypothetical protein', 'CCU73694.1': 'hypothetical protein', 'CCU73695.1': 'Alcohol dehydrogenase GroES-like domain family', 'CCU73696.1': 'hypothetical protein', 'CCU73697.1': 'hypothetical protein', 'CCU73698.1': 'hypothetical protein', 'CCU73699.1': 'alanine racemase', 'CCU73700.1': 'hypothetical protein', 'CCU73701.1': 'hypothetical protein', 'CCU73702.1': 'hypothetical protein', 'CCU73703.1': 'hypothetical protein', 'CCU73704.1': 'hypothetical protein', 'CCU73705.1': 'hypothetical protein', 'CCU73706.1': 'hypothetical protein', 'CCU73707.1': 'hypothetical protein', 'CCU73708.1': 'hypothetical protein', 'CCU73710.1': 'transposase orfB', 'CCU73711.1': 'transposase orfA', 'CCU73712.1': 'hypothetical protein', 'CCU73713.1': 'transposase IS66', 'CCU73714.1': 'IS66 Orf2 family protein', 'CCU73715.1': 'hypothetical protein', 'CCU73716.1': 'hypothetical protein', 'CCU73717.1': 'hypothetical protein', 'CCU73718.1': 'ATP-binding protein', 'CCU73719.1': 'hypothetical protein', 'CCU73720.1': 'hypothetical protein', 'CCU73721.1': 'hypothetical protein', 'CCU73722.1': 'hypothetical protein', 'CCU73723.1': 'hypothetical protein', 'CCU73724.1': 'hypothetical protein', 'CCU73725.1': 'hypothetical protein', 'CCU73726.1': 'hypothetical protein', 'CCU73727.1': 'hypothetical protein', 'CCU73728.1': 'TonB-dependent copper receptor', 'CCU73729.1': 'hypothetical protein', 'CCU73730.1': 'hypothetical protein', 'CCU73731.1': 'replicative DNA helicase', 'CCU73732.1': '50S ribosomal protein L9', 'CCU73733.1': 'hypothetical protein', 'CCU73734.1': '30S ribosomal protein S18', 'CCU73735.1': '30S ribosomal protein S6', 'CCU73736.1': 'hypothetical protein', 'CCU73737.1': 'hypothetical protein', 'CCU73738.1': 'hypothetical protein', 'CCU73739.1': 'flavodoxin', 'CCU73740.1': 'hypothetical protein', 'CCU73741.1': 'NUDIX hydrolase', 'CCU73742.1': 'hypothetical protein', 'CCU73743.1': 'inositol monophosphatase', 'CCU73744.1': 'hypothetical protein', 'CCU73745.1': 'lactonizing lipase precursor', 'CCU73746.1': 'hypothetical protein', 'CCU73747.1': 'enoyl-(acyl-carrier-protein) reductase II', 'CCU73748.1': 'hypothetical protein', 'CCU73749.1': 'hypothetical protein', 'CCU73750.1': 'two component transcriptional regulator, winged helix family', 'CCU73751.1': 'hypothetical protein', 'CCU73752.1': 'hypothetical protein', 'CCU73753.1': 'hypothetical protein', 'CCU73754.1': 'hypothetical protein', 'CCU73755.1': 'hypothetical protein', 'CCU73756.1': 'hypothetical protein', 'CCU73757.1': 'UDP-N-acetylglucosamine pyrophosphorylase', 'CCU73758.1': 'GH3 auxin-responsive promoter', 'CCU73759.1': 'hypothetical protein', 'CCU73760.1': 'hypothetical protein', 'CCU73761.1': 'hypothetical protein', 'CCU73762.1': 'RND superfamily transporter', 'CCU73763.1': 'hypothetical protein', 'CCU73764.1': 'hypothetical protein', 'CCU73765.1': 'hypothetical protein', 'CCU73766.1': 'hypothetical protein', 'CCU73767.1': 'zinc uptake regulation protein', 'CCU73768.1': 'high-affinity zinc ABC transporter ATP-binding protein', 'CCU73769.1': 'ABC-3 protein', 'CCU73770.1': 'ggdef', 'CCU73771.1': 'hypothetical protein', 'CCU73772.1': 'hypothetical protein', 'CCU73773.1': 'hypothetical protein', 'CCU73774.1': 'hypothetical protein', 'CCU73775.1': 'hypothetical protein', 'CCU73776.1': 'hypothetical protein', 'CCU73777.1': 'major facilitator transporter', 'CCU73778.1': 'transcriptional regulator TrmB', 'CCU73779.1': 'hypothetical protein', 'CCU73780.1': 'hypothetical protein', 'CCU73781.1': 'secretion protein HlyD', 'CCU73782.1': 'CzcA family heavy metal efflux protein', 'CCU73783.1': 'hypothetical protein', 'CCU73784.1': 'hypothetical protein', 'CCU73785.1': 'hypothetical protein', 'CCU73786.1': 'putative transcriptional regulator', 'CCU73787.1': 'hypothetical protein', 'CCU73788.1': 'DNA/RNA helicase, superfamily II', 'CCU73789.1': 'hypothetical protein', 'CCU73790.1': 'hypothetical protein', 'CCU73791.1': 'hypothetical protein', 'CCU73792.1': 'LysR family transcriptional regulator', 'CCU73793.1': 'cytochrome', 'CCU73794.1': 'UPF0312 protein Pmen_0419', 'CCU73795.1': 'hypothetical protein', 'CCU73796.1': 'putative RNA polymerase sigma factor (ECF family) protein', 'CCU73797.1': 'TraR/DksA family transcriptional regulator', 'CCU73798.1': 'predicted redox protein', 'CCU73799.1': 'hypothetical protein', 'CCU73800.1': 'Metallo-beta-lactamase family protein', 'CCU73801.1': 'Cyd operon protein YbgE (Cyd_oper_YbgE) family protein', 'CCU73802.1': 'hypothetical protein', 'CCU73803.1': 'cytochrome d ubiquinol oxidase, subunit II', 'CCU73804.1': 'cytochrome d ubiquinol oxidase subunit I', 'CCU73805.1': 'hypothetical protein', 'CCU73806.1': 'hypothetical protein', 'CCU73807.1': 'hypothetical protein', 'CCU73808.1': 'hypothetical protein', 'CCU73809.1': 'TRAP dicarboxylate transporter, periplasmic subunit P', 'CCU73810.1': 'TRAP dicarboxylate transporter, nner membrane small subunit Q', 'CCU73811.1': 'TRAP dicarboxylate transporter, inner membrane large subunit M', 'CCU73812.1': 'hypothetical protein', 'CCU73813.1': 'alpha/beta hydrolase', 'CCU73814.1': '50S ribosomal protein L17', 'CCU73815.1': 'DNA-directed RNA polymerase alpha subunit', 'CCU73816.1': '30S ribosomal protein S4', 'CCU73817.1': 'rpsK gene product', 'CCU73818.1': 'rpsM gene product', 'CCU73819.1': '50S ribosomal protein L36', 'CCU73820.1': 'preprotein translocase subunit SecY', 'CCU73821.1': '50S ribosomal protein L15', 'CCU73822.1': '50S ribosomal protein L30', 'CCU73823.1': '30S ribosomal protein S5', 'CCU73824.1': '50S ribosomal protein L18', 'CCU73825.1': '50S ribosomal protein L6', 'CCU73826.1': '30S ribosomal protein S8', 'CCU73827.1': '30S ribosomal protein S14', 'CCU73828.1': '50S ribosomal protein L5', 'CCU73829.1': '50S ribosomal protein L24', 'CCU73830.1': '50S ribosomal protein L14', 'CCU73831.1': '30S ribosomal protein S17', 'CCU73832.1': '50S ribosomal protein L29', 'CCU73833.1': '50S ribosomal protein L16', 'CCU73834.1': '30S ribosomal protein S3', 'CCU73835.1': '50S ribosomal protein L22', 'CCU73836.1': '30S ribosomal protein S19', 'CCU73837.1': 'rplB gene product', 'CCU73838.1': '50S ribosomal protein L23', 'CCU73839.1': '50S ribosomal protein L4', 'CCU73840.1': '50S ribosomal protein L3', 'CCU73841.1': '30S ribosomal protein S10', 'CCU73842.1': 'translation elongation factor Tu', 'CCU73843.1': 'translation elongation factor G', 'CCU73844.1': '30S ribosomal protein S7', 'CCU73845.1': '30S ribosomal protein S12p (S23e)', 'CCU73846.1': \"DNA-directed RNA polymerase beta' subunit\", 'CCU73847.1': 'DNA-directed RNA polymerase, beta subunit', 'CCU73848.1': '50S ribosomal protein L7/L12 (L23e)', 'CCU73849.1': '50S ribosomal protein L10', 'CCU73850.1': 'rplA gene product', 'CCU73851.1': 'rplK gene product', 'CCU73852.1': 'transcription antitermination protein NusG', 'CCU73853.1': 'translocase', 'CCU73854.1': 'elongation factor Tu', 'CCU73855.1': 'elongation factor G', 'CCU73856.1': 'elongation factor Tu', 'CCU73857.1': 'hypothetical protein', 'CCU73858.1': 'hypothetical protein', 'CCU73859.1': 'biotin--protein ligase', 'CCU73860.1': 'penicillin-binding protein', 'CCU73861.1': 'hypothetical protein', 'CCU73862.1': 'hypothetical protein', 'CCU73863.1': 'hypothetical protein', 'CCU73864.1': 'hypothetical protein', 'CCU73865.1': 'potassium channel protein', 'CCU73866.1': 'Sugar kinase, ribokinase family protein', 'CCU73867.1': 'hypothetical protein', 'CCU73868.1': 'Na+/Picotransporter', 'CCU73869.1': 'hypothetical protein', 'CCU73870.1': 'hypothetical protein', 'CCU73871.1': 'hypothetical protein', 'CCU73872.1': 'hypothetical protein', 'CCU73873.1': 'hypothetical protein', 'CCU73874.1': 'hypothetical protein', 'CCU73875.1': 'hypothetical protein', 'CCU73876.1': 'transposase IS66', 'CCU73877.1': 'IS66 Orf2 family protein', 'CCU73878.1': 'hypothetical protein', 'CCU73879.1': 'hypothetical protein', 'CCU73880.1': 'hypothetical protein', 'CCU73881.1': 'type I site-specific deoxyribonuclease, HsdR family', 'CCU73882.1': 'hypothetical protein', 'CCU73883.1': 'hypothetical protein', 'CCU73884.1': 'hypothetical protein', 'CCU73885.1': 'hypothetical protein', 'CCU73886.1': 'restriction endonuclease S subunit', 'CCU73887.1': 'type I restriction system adenine methylase HsdM', 'CCU73888.1': 'XRE family transcriptional regulator', 'CCU73889.1': 'hypothetical protein', 'CCU73890.1': 'Succinylglutamate desuccinylase / Aspartoacylase family, putative', 'CCU73891.1': 'hypothetical protein', 'CCU73892.1': 'catalase/peroxidase HPI', 'CCU73893.1': 'hypothetical protein', 'CCU73894.1': 'hypothetical protein', 'CCU73895.1': 'hypothetical protein', 'CCU73896.1': 'hypothetical protein', 'CCU73897.1': 'hypothetical protein', 'CCU73898.1': 'serine protease', 'CCU73899.1': 'microcystin dependent protein MdpB', 'CCU73900.1': 'phage tail collar', 'CCU73901.1': 'phage tail collar', 'CCU73902.1': 'acetyltransferase', 'CCU73903.1': 'hypothetical protein', 'CCU73904.1': 'molybdenum cofactor biosynthesis protein A', 'CCU73905.1': 'hypothetical protein', 'CCU73906.1': 'Molybdopterin biosynthesis enzyme', 'CCU73907.1': 'molybdenum cofactor biosynthesis protein C', 'CCU73908.1': 'hypothetical protein', 'CCU73909.1': 'molybdenum cofactor biosynthesis protein E', 'CCU73910.1': 'twitching motility protein PilU', 'CCU73911.1': 'Tfp pilus assembly protein, pilus retraction ATPase PilT', 'CCU73912.1': 'type III PLP-dependent enzyme', 'CCU73913.1': 'pyrroline-5-carboxylate reductase', 'CCU73914.1': 'hypothetical protein', 'CCU73915.1': 'hypothetical protein', 'CCU73916.1': 'homoserine O-acetyltransferase', 'CCU73917.1': 'methionine biosynthesis protein MetW', 'CCU73918.1': 'hypothetical protein', 'CCU73919.1': 'putative deoxyribonucleotide triphosphate pyrophosphatase', 'CCU73920.1': 'hypothetical protein', 'CCU73921.1': 'putative oxygen-independent coproporphyrinogen III oxidase', 'CCU73922.1': 'hypothetical protein', 'CCU73923.1': 'hypothetical protein', 'CCU73924.1': 'Aspartate/glutamate/uridylate kinase', 'CCU73925.1': 'L-ectoine synthase', 'CCU73926.1': 'diaminobutyrate--2-oxoglutarate aminotransferase', 'CCU73927.1': 'L-2,4-diaminobutyric acid acetyltransferase', 'CCU73928.1': 'putative transcription regulator, MarR family protein', 'CCU73929.1': 'acetyl-CoA acetyltransferase', 'CCU73930.1': 'medium-chain acyl-CoA synthetase', 'CCU73931.1': 'major facilitator superfamily protein', 'CCU73932.1': 'poly-beta-hydroxyalkanoate depolymerase', 'CCU73933.1': 'hypothetical protein', 'CCU73934.1': 'putative multi antimicrobial extrusion protein MatE/Na+-driven multidrug efflux pump', 'CCU73935.1': 'ABC transporter periplasmic-binding protein', 'CCU73936.1': 'hypothetical protein', 'CCU73937.1': 'hypothetical protein', 'CCU73938.1': 'hypothetical protein', 'CCU73939.1': 'hypothetical protein', 'CCU73940.1': 'putative 1-acyl-sn-glycerol-3-phosphate acyltransferase', 'CCU73941.1': 'threonine dehydratase', 'CCU73942.1': 'ribose-5-phosphate isomerase A', 'CCU73943.1': 'hypothetical protein', 'CCU73944.1': 'delta-aminolevulinic acid dehydratase', 'CCU73945.1': 'Polyphosphate kinase', 'CCU73946.1': 'exopolyphosphatase', 'CCU73947.1': 'thioredoxin', 'CCU73948.1': 'transcription termination factor Rho', 'CCU73949.1': 'TRAP dicarboxylate transporter, periplasmic subunit P', 'CCU73950.1': 'DNA helicase II', 'CCU73951.1': 'transcriptional regulator, RpiR family protein', 'CCU73952.1': 'hypothetical protein', 'CCU73953.1': 'ammonium transporter', 'CCU73954.1': 'regulatory protein, P-II 2, for nitrogen assimilation by glutamine synthetase, regulates GlnL (NRII) and GlnE (ATase)', 'CCU73955.1': 'histidine kinase', 'CCU73956.1': 'hypothetical protein', 'CCU73957.1': 'ABC-type branched-chain amino acid transport system, ATPase component', 'CCU73958.1': 'uncharacterized ABC-type transport system, ATPase component', 'CCU73959.1': 'ABC-type branched-chain amino acid transport system, permease component', 'CCU73960.1': 'Branched-chain amino acid ABC-type transport system, permease components', 'CCU73961.1': 'hypothetical protein', 'CCU73962.1': 'GntR family transcriptional regulator', 'CCU73963.1': 'amidase', 'CCU73964.1': 'unknown', 'CCU73965.1': 'hypothetical protein', 'CCU73966.1': 'Type II secretory pathway, ATPase PulE/Tfp pilus assembly pathway, ATPase PilB', 'CCU73967.1': 'hypothetical protein', 'CCU73968.1': 'acetylornithine deacetylase', 'CCU73969.1': 'argA gene product', 'CCU73970.1': 'spermidine synthase', 'CCU73971.1': 'bile acid:sodium symporter', 'CCU73972.1': 'hypothetical protein', 'CCU73973.1': 'membrane bound O-acyl transferase, MBOAT', 'CCU73974.1': 'hypothetical protein', 'CCU73975.1': 'hypothetical protein', 'CCU73976.1': 'hypothetical protein', 'CCU73977.1': 'hypothetical protein', 'CCU73978.1': 'hypothetical protein', 'CCU73979.1': 'hypothetical protein', 'CCU73980.1': 'dihydrofolate reductase', 'CCU73981.1': 'thymidylate synthase', 'CCU73982.1': 'prolipoprotein diacylglyceryl transferase', 'CCU73983.1': 'predicted Permease', 'CCU73984.1': 'hypothetical protein', 'CCU73985.1': 'hypothetical protein', 'CCU73986.1': 'putative peptidase', 'CCU73987.1': 'signal transduction protein', 'CCU73988.1': 'dinucleoside polyphosphate hydrolase', 'CCU73989.1': 'Phosphoserine phosphatase', 'CCU73990.1': 'hypothetical protein', 'CCU73991.1': 'SAM-dependent methyltransferase', 'CCU73992.1': 'signal transduction protein', 'CCU73993.1': '2-octaprenyl-3-methyl-6-methoxy-1,4-benzoquinol hydroxylase', 'CCU73994.1': '2-octaprenyl-6-methoxyphenol hydroxylase', 'CCU73995.1': 'pepP gene product', 'CCU73996.1': 'hypothetical protein', 'CCU73997.1': 'hypothetical protein', 'CCU73998.1': 'hypothetical protein', 'CCU73999.1': '5-formyltetrahydrofolate cyclo-ligase', 'CCU74000.1': 'hypothetical protein', 'CCU74001.1': 'hypothetical protein', 'CCU74002.1': 'hypothetical protein', 'CCU74003.1': 'alpha/beta hydrolase', 'CCU74004.1': 'glutamine synthetase', 'CCU74005.1': 'GTP-binding multipass membrane protein', 'CCU74006.1': 'hypothetical protein', 'CCU74007.1': 'Malic enzyme, NAD-binding protein', 'CCU74008.1': 'Signal transduction histidine kinase', 'CCU74009.1': 'DNA-binding response regulator CpxR', 'CCU74010.1': 'Putative transport protein', 'CCU74011.1': 'hypothetical protein', 'CCU74012.1': 'hypothetical protein', 'CCU74013.1': 'hypothetical protein', 'CCU74014.1': 'MutT/nudix family protein', 'CCU74015.1': 'hydrolase, HAD-superfamily, subfamily IA, variant 3', 'CCU74016.1': 'hypothetical protein', 'CCU74017.1': 'Hsp33-like chaperonin', 'CCU74018.1': 'phosphoenolpyruvate carboxykinase (ATP)', 'CCU74019.1': 'S1 RNA binding domain protein', 'CCU74020.1': 'glutamate--cysteine ligase', 'CCU74021.1': 'flagellar protein', 'CCU74022.1': 'hypothetical protein', 'CCU74023.1': 'Disulfide bond formation protein DsbB', 'CCU74024.1': 'Regulator of sigma D', 'CCU74025.1': 'WD40 repeat protein', 'CCU74026.1': 'hypothetical protein', 'CCU74027.1': 'putative partition-related protein', 'CCU74028.1': 'hypothetical protein', 'CCU74029.1': 'beta-lactamase-like protein', 'CCU74030.1': 'mesoderm-specific transcript homolog protein', 'CCU74031.1': 'hypothetical protein', 'CCU74032.1': 'hypothetical protein', 'CCU74033.1': 'ABC transporter, ATP-binding protein', 'CCU74034.1': 'hypothetical protein', 'CCU74035.1': 'hypothetical protein', 'CCU74036.1': 'tRNA (guanine-N(7)-)-methyltransferase', 'CCU74037.1': 'hypothetical protein', 'CCU74038.1': '3-octaprenyl-4-hydroxybenzoate carboxy-lyase', 'CCU74039.1': 'hypothetical protein', 'CCU74040.1': 'MscS Mechanosensitive ion channel', 'CCU74041.1': 'hypothetical protein', 'CCU74042.1': 'hypothetical protein', 'CCU74043.1': 'hypothetical protein', 'CCU74044.1': 'Adenylate cyclase, family 3', 'CCU74045.1': 'beta-lactamase-like protein', 'CCU74046.1': 'hypothetical protein', 'CCU74047.1': 'hypothetical protein', 'CCU74048.1': 'LVIVD', 'CCU74049.1': 'hypothetical protein', 'CCU74050.1': 'hypothetical protein', 'CCU74051.1': 'hypothetical protein', 'CCU74052.1': 'hypothetical protein', 'CCU74053.1': 'cyclic nucleotide-binding protein', 'CCU74054.1': 'hypothetical protein', 'CCU74055.1': 'hypothetical protein', 'CCU74056.1': 'hypothetical protein', 'CCU74057.1': 'hypothetical protein', 'CCU74058.1': 'porphobilinogen deaminase', 'CCU74059.1': 'LytTr DNA-binding domain family', 'CCU74060.1': 'alginate biosynthesis protein AlgZ/FimS', 'CCU74061.1': 'argininosuccinate lyase', 'CCU74062.1': 'hypothetical protein', 'CCU74063.1': 'hypothetical protein', 'CCU74064.1': 'hypothetical protein', 'CCU74065.1': 'transglutaminase', 'CCU74066.1': 'hypothetical protein', 'CCU74067.1': 'hypothetical protein', 'CCU74068.1': 'hypothetical protein', 'CCU74069.1': 'hypothetical protein', 'CCU74070.1': 'hypothetical protein', 'CCU74071.1': 'nitrate/sulfonate/bicarbonate ABC transporter', 'CCU74072.1': 'hypothetical protein', 'CCU74073.1': 'cyanate lyase', 'CCU74074.1': 'LysR family transcriptional regulator', 'CCU74075.1': 'hypothetical protein', 'CCU74076.1': 'hypothetical protein', 'CCU74077.1': 'hypothetical protein', 'CCU74078.1': 'F0F1 ATP synthase subunit beta', 'CCU74079.1': 'F0F1 ATP synthase subunit gamma', 'CCU74080.1': 'F0F1 ATP synthase subunit alpha', 'CCU74081.1': 'ATP synthase F1, delta subunit', 'CCU74082.1': 'F0F1-type ATP synthase, subunit b', 'CCU74083.1': 'F0F1 ATP synthase subunit C', 'CCU74084.1': 'ATP synthase F0, A subunit', 'CCU74085.1': 'hypothetical protein', 'CCU74086.1': 'hypothetical protein', 'CCU74087.1': 'chromosome partitioning protein Spo0J', 'CCU74088.1': 'chromosome segregation ATPase', 'CCU74089.1': 'GidB', 'CCU74090.1': 'MFS family transporter', 'CCU74091.1': 'cytochrome B561', 'CCU74092.1': 'cytochrome c-type protein Shp', 'CCU74093.1': 'diheme cytochrome c', 'CCU74094.1': 'propeptide PepSY amd peptidase M4', 'CCU74095.1': 'two-component response regulator receiver', 'CCU74096.1': 'two-component sensory box histidine kinase', 'CCU74097.1': 'sulfate adenylyltransferase, small subunit', 'CCU74098.1': 'hypothetical protein', 'CCU74099.1': 'NADH dehydrogenase subunit L', 'CCU74100.1': 'Possible transcriptional activator of LysR family protein', 'CCU74101.1': 'hypothetical protein', 'CCU74102.1': 'DNA-binding protein', 'CCU74103.1': 'HipA-like protein', 'CCU74104.1': 'glucose-inhibited division protein A', 'CCU74105.1': 'hypothetical protein', 'CCU74106.1': 'hypothetical protein', 'CCU74107.1': 'hypothetical protein', 'CCU74108.1': 'metal-dependent hydrolase', 'CCU74109.1': 'hypothetical protein', 'CCU74110.1': 'XRE family transcriptional regulator', 'CCU74111.1': 'tRNA modification GTPase', 'CCU74112.1': 'membrane protein insertase', 'CCU74113.1': 'protein component of RNase P', 'CCU74114.1': '50S ribosomal protein L34', 'CCU74115.1': 'hypothetical protein'}\n"
          ]
        }
      ],
      "source": [
        "mil_1_genes = dict()\n",
        "\n",
        "for gene in SeqIO.read(\"T_oleivorans_MIL_1.gbk\", \"genbank\").features:\n",
        "  if 'protein_id' not in gene.qualifiers or 'product' not in gene.qualifiers:\n",
        "    continue\n",
        "  mil_1_genes[gene.qualifiers['protein_id'][0]] = gene.qualifiers['product'][0]\n",
        "\n",
        "print(mil_1_genes)"
      ]
    },
    {
      "cell_type": "markdown",
      "metadata": {
        "id": "ye8aGO-ZNyNR"
      },
      "source": [
        "С помощью pandas построим таблицу.   \n",
        "Наименование столбцов и их заполнение исходя из содержания ранее загруженного файла."
      ]
    },
    {
      "cell_type": "code",
      "execution_count": null,
      "metadata": {
        "id": "hFD7Rj5mN4K1",
        "colab": {
          "base_uri": "https://localhost:8080/",
          "height": 468
        },
        "outputId": "457e991a-7031-4e30-c83a-2c8851fc2dad"
      },
      "outputs": [
        {
          "output_type": "execute_result",
          "data": {
            "text/plain": [
              "       qseqid                               sseqid   pident  length  misMatch  \\\n",
              "0           1  lcl|HF680312.1_prot_CCU71653.1_1204   98.990      99         1   \n",
              "1           1  lcl|HF680312.1_prot_CCU72283.1_1834   97.980      99         2   \n",
              "2           1  lcl|HF680312.1_prot_CCU71933.1_1484   97.980      99         2   \n",
              "3           1  lcl|HF680312.1_prot_CCU71592.1_1143   97.980      99         2   \n",
              "4           1  lcl|HF680312.1_prot_CCU71865.1_1416   96.774      62         2   \n",
              "...       ...                                  ...      ...     ...       ...   \n",
              "10550    3619             lcl|HF680312.1_prot_1833  100.000      52         0   \n",
              "10551    3619  lcl|HF680312.1_prot_CCU71654.1_1205  100.000      52         0   \n",
              "10552    3619  lcl|HF680312.1_prot_CCU71593.1_1144  100.000      52         0   \n",
              "10553    3619  lcl|HF680312.1_prot_CCU71934.1_1485  100.000      52         0   \n",
              "10554    3619   lcl|HF680312.1_prot_CCU71223.1_774  100.000      30         0   \n",
              "\n",
              "       gapOpen  qstart  qend  sstart  send       e-value  bitScore  \n",
              "0            0       1    99       1    99  8.080000e-68     196.0  \n",
              "1            0       1    99       1    99  2.290000e-67     194.0  \n",
              "2            0       1    99       1    99  4.150000e-66     191.0  \n",
              "3            0       1    99       1    99  4.150000e-66     191.0  \n",
              "4            0       1    62       1    62  2.150000e-42     130.0  \n",
              "...        ...     ...   ...     ...   ...           ...       ...  \n",
              "10550        0       1    52      95   146  5.410000e-34     109.0  \n",
              "10551        0       1    52      95   146  2.250000e-33     110.0  \n",
              "10552        0       1    52      95   146  2.510000e-33     110.0  \n",
              "10553        0       1    52      95   146  4.490000e-33     110.0  \n",
              "10554        0       1    30      95   124  6.380000e-16      63.5  \n",
              "\n",
              "[10555 rows x 12 columns]"
            ],
            "text/html": [
              "\n",
              "  <div id=\"df-596a0b7f-2afe-4ffd-b19a-ed0bb4e552a0\">\n",
              "    <div class=\"colab-df-container\">\n",
              "      <div>\n",
              "<style scoped>\n",
              "    .dataframe tbody tr th:only-of-type {\n",
              "        vertical-align: middle;\n",
              "    }\n",
              "\n",
              "    .dataframe tbody tr th {\n",
              "        vertical-align: top;\n",
              "    }\n",
              "\n",
              "    .dataframe thead th {\n",
              "        text-align: right;\n",
              "    }\n",
              "</style>\n",
              "<table border=\"1\" class=\"dataframe\">\n",
              "  <thead>\n",
              "    <tr style=\"text-align: right;\">\n",
              "      <th></th>\n",
              "      <th>qseqid</th>\n",
              "      <th>sseqid</th>\n",
              "      <th>pident</th>\n",
              "      <th>length</th>\n",
              "      <th>misMatch</th>\n",
              "      <th>gapOpen</th>\n",
              "      <th>qstart</th>\n",
              "      <th>qend</th>\n",
              "      <th>sstart</th>\n",
              "      <th>send</th>\n",
              "      <th>e-value</th>\n",
              "      <th>bitScore</th>\n",
              "    </tr>\n",
              "  </thead>\n",
              "  <tbody>\n",
              "    <tr>\n",
              "      <th>0</th>\n",
              "      <td>1</td>\n",
              "      <td>lcl|HF680312.1_prot_CCU71653.1_1204</td>\n",
              "      <td>98.990</td>\n",
              "      <td>99</td>\n",
              "      <td>1</td>\n",
              "      <td>0</td>\n",
              "      <td>1</td>\n",
              "      <td>99</td>\n",
              "      <td>1</td>\n",
              "      <td>99</td>\n",
              "      <td>8.080000e-68</td>\n",
              "      <td>196.0</td>\n",
              "    </tr>\n",
              "    <tr>\n",
              "      <th>1</th>\n",
              "      <td>1</td>\n",
              "      <td>lcl|HF680312.1_prot_CCU72283.1_1834</td>\n",
              "      <td>97.980</td>\n",
              "      <td>99</td>\n",
              "      <td>2</td>\n",
              "      <td>0</td>\n",
              "      <td>1</td>\n",
              "      <td>99</td>\n",
              "      <td>1</td>\n",
              "      <td>99</td>\n",
              "      <td>2.290000e-67</td>\n",
              "      <td>194.0</td>\n",
              "    </tr>\n",
              "    <tr>\n",
              "      <th>2</th>\n",
              "      <td>1</td>\n",
              "      <td>lcl|HF680312.1_prot_CCU71933.1_1484</td>\n",
              "      <td>97.980</td>\n",
              "      <td>99</td>\n",
              "      <td>2</td>\n",
              "      <td>0</td>\n",
              "      <td>1</td>\n",
              "      <td>99</td>\n",
              "      <td>1</td>\n",
              "      <td>99</td>\n",
              "      <td>4.150000e-66</td>\n",
              "      <td>191.0</td>\n",
              "    </tr>\n",
              "    <tr>\n",
              "      <th>3</th>\n",
              "      <td>1</td>\n",
              "      <td>lcl|HF680312.1_prot_CCU71592.1_1143</td>\n",
              "      <td>97.980</td>\n",
              "      <td>99</td>\n",
              "      <td>2</td>\n",
              "      <td>0</td>\n",
              "      <td>1</td>\n",
              "      <td>99</td>\n",
              "      <td>1</td>\n",
              "      <td>99</td>\n",
              "      <td>4.150000e-66</td>\n",
              "      <td>191.0</td>\n",
              "    </tr>\n",
              "    <tr>\n",
              "      <th>4</th>\n",
              "      <td>1</td>\n",
              "      <td>lcl|HF680312.1_prot_CCU71865.1_1416</td>\n",
              "      <td>96.774</td>\n",
              "      <td>62</td>\n",
              "      <td>2</td>\n",
              "      <td>0</td>\n",
              "      <td>1</td>\n",
              "      <td>62</td>\n",
              "      <td>1</td>\n",
              "      <td>62</td>\n",
              "      <td>2.150000e-42</td>\n",
              "      <td>130.0</td>\n",
              "    </tr>\n",
              "    <tr>\n",
              "      <th>...</th>\n",
              "      <td>...</td>\n",
              "      <td>...</td>\n",
              "      <td>...</td>\n",
              "      <td>...</td>\n",
              "      <td>...</td>\n",
              "      <td>...</td>\n",
              "      <td>...</td>\n",
              "      <td>...</td>\n",
              "      <td>...</td>\n",
              "      <td>...</td>\n",
              "      <td>...</td>\n",
              "      <td>...</td>\n",
              "    </tr>\n",
              "    <tr>\n",
              "      <th>10550</th>\n",
              "      <td>3619</td>\n",
              "      <td>lcl|HF680312.1_prot_1833</td>\n",
              "      <td>100.000</td>\n",
              "      <td>52</td>\n",
              "      <td>0</td>\n",
              "      <td>0</td>\n",
              "      <td>1</td>\n",
              "      <td>52</td>\n",
              "      <td>95</td>\n",
              "      <td>146</td>\n",
              "      <td>5.410000e-34</td>\n",
              "      <td>109.0</td>\n",
              "    </tr>\n",
              "    <tr>\n",
              "      <th>10551</th>\n",
              "      <td>3619</td>\n",
              "      <td>lcl|HF680312.1_prot_CCU71654.1_1205</td>\n",
              "      <td>100.000</td>\n",
              "      <td>52</td>\n",
              "      <td>0</td>\n",
              "      <td>0</td>\n",
              "      <td>1</td>\n",
              "      <td>52</td>\n",
              "      <td>95</td>\n",
              "      <td>146</td>\n",
              "      <td>2.250000e-33</td>\n",
              "      <td>110.0</td>\n",
              "    </tr>\n",
              "    <tr>\n",
              "      <th>10552</th>\n",
              "      <td>3619</td>\n",
              "      <td>lcl|HF680312.1_prot_CCU71593.1_1144</td>\n",
              "      <td>100.000</td>\n",
              "      <td>52</td>\n",
              "      <td>0</td>\n",
              "      <td>0</td>\n",
              "      <td>1</td>\n",
              "      <td>52</td>\n",
              "      <td>95</td>\n",
              "      <td>146</td>\n",
              "      <td>2.510000e-33</td>\n",
              "      <td>110.0</td>\n",
              "    </tr>\n",
              "    <tr>\n",
              "      <th>10553</th>\n",
              "      <td>3619</td>\n",
              "      <td>lcl|HF680312.1_prot_CCU71934.1_1485</td>\n",
              "      <td>100.000</td>\n",
              "      <td>52</td>\n",
              "      <td>0</td>\n",
              "      <td>0</td>\n",
              "      <td>1</td>\n",
              "      <td>52</td>\n",
              "      <td>95</td>\n",
              "      <td>146</td>\n",
              "      <td>4.490000e-33</td>\n",
              "      <td>110.0</td>\n",
              "    </tr>\n",
              "    <tr>\n",
              "      <th>10554</th>\n",
              "      <td>3619</td>\n",
              "      <td>lcl|HF680312.1_prot_CCU71223.1_774</td>\n",
              "      <td>100.000</td>\n",
              "      <td>30</td>\n",
              "      <td>0</td>\n",
              "      <td>0</td>\n",
              "      <td>1</td>\n",
              "      <td>30</td>\n",
              "      <td>95</td>\n",
              "      <td>124</td>\n",
              "      <td>6.380000e-16</td>\n",
              "      <td>63.5</td>\n",
              "    </tr>\n",
              "  </tbody>\n",
              "</table>\n",
              "<p>10555 rows × 12 columns</p>\n",
              "</div>\n",
              "      <button class=\"colab-df-convert\" onclick=\"convertToInteractive('df-596a0b7f-2afe-4ffd-b19a-ed0bb4e552a0')\"\n",
              "              title=\"Convert this dataframe to an interactive table.\"\n",
              "              style=\"display:none;\">\n",
              "        \n",
              "  <svg xmlns=\"http://www.w3.org/2000/svg\" height=\"24px\"viewBox=\"0 0 24 24\"\n",
              "       width=\"24px\">\n",
              "    <path d=\"M0 0h24v24H0V0z\" fill=\"none\"/>\n",
              "    <path d=\"M18.56 5.44l.94 2.06.94-2.06 2.06-.94-2.06-.94-.94-2.06-.94 2.06-2.06.94zm-11 1L8.5 8.5l.94-2.06 2.06-.94-2.06-.94L8.5 2.5l-.94 2.06-2.06.94zm10 10l.94 2.06.94-2.06 2.06-.94-2.06-.94-.94-2.06-.94 2.06-2.06.94z\"/><path d=\"M17.41 7.96l-1.37-1.37c-.4-.4-.92-.59-1.43-.59-.52 0-1.04.2-1.43.59L10.3 9.45l-7.72 7.72c-.78.78-.78 2.05 0 2.83L4 21.41c.39.39.9.59 1.41.59.51 0 1.02-.2 1.41-.59l7.78-7.78 2.81-2.81c.8-.78.8-2.07 0-2.86zM5.41 20L4 18.59l7.72-7.72 1.47 1.35L5.41 20z\"/>\n",
              "  </svg>\n",
              "      </button>\n",
              "      \n",
              "  <style>\n",
              "    .colab-df-container {\n",
              "      display:flex;\n",
              "      flex-wrap:wrap;\n",
              "      gap: 12px;\n",
              "    }\n",
              "\n",
              "    .colab-df-convert {\n",
              "      background-color: #E8F0FE;\n",
              "      border: none;\n",
              "      border-radius: 50%;\n",
              "      cursor: pointer;\n",
              "      display: none;\n",
              "      fill: #1967D2;\n",
              "      height: 32px;\n",
              "      padding: 0 0 0 0;\n",
              "      width: 32px;\n",
              "    }\n",
              "\n",
              "    .colab-df-convert:hover {\n",
              "      background-color: #E2EBFA;\n",
              "      box-shadow: 0px 1px 2px rgba(60, 64, 67, 0.3), 0px 1px 3px 1px rgba(60, 64, 67, 0.15);\n",
              "      fill: #174EA6;\n",
              "    }\n",
              "\n",
              "    [theme=dark] .colab-df-convert {\n",
              "      background-color: #3B4455;\n",
              "      fill: #D2E3FC;\n",
              "    }\n",
              "\n",
              "    [theme=dark] .colab-df-convert:hover {\n",
              "      background-color: #434B5C;\n",
              "      box-shadow: 0px 1px 3px 1px rgba(0, 0, 0, 0.15);\n",
              "      filter: drop-shadow(0px 1px 2px rgba(0, 0, 0, 0.3));\n",
              "      fill: #FFFFFF;\n",
              "    }\n",
              "  </style>\n",
              "\n",
              "      <script>\n",
              "        const buttonEl =\n",
              "          document.querySelector('#df-596a0b7f-2afe-4ffd-b19a-ed0bb4e552a0 button.colab-df-convert');\n",
              "        buttonEl.style.display =\n",
              "          google.colab.kernel.accessAllowed ? 'block' : 'none';\n",
              "\n",
              "        async function convertToInteractive(key) {\n",
              "          const element = document.querySelector('#df-596a0b7f-2afe-4ffd-b19a-ed0bb4e552a0');\n",
              "          const dataTable =\n",
              "            await google.colab.kernel.invokeFunction('convertToInteractive',\n",
              "                                                     [key], {});\n",
              "          if (!dataTable) return;\n",
              "\n",
              "          const docLinkHtml = 'Like what you see? Visit the ' +\n",
              "            '<a target=\"_blank\" href=https://colab.research.google.com/notebooks/data_table.ipynb>data table notebook</a>'\n",
              "            + ' to learn more about interactive tables.';\n",
              "          element.innerHTML = '';\n",
              "          dataTable['output_type'] = 'display_data';\n",
              "          await google.colab.output.renderOutput(dataTable, element);\n",
              "          const docLink = document.createElement('div');\n",
              "          docLink.innerHTML = docLinkHtml;\n",
              "          element.appendChild(docLink);\n",
              "        }\n",
              "      </script>\n",
              "    </div>\n",
              "  </div>\n",
              "  "
            ]
          },
          "metadata": {},
          "execution_count": 51
        }
      ],
      "source": [
        "columns = ['qseqid', 'sseqid', 'pident', 'length', 'misMatch', 'gapOpen', 'qstart', 'qend', 'sstart', 'send', 'e-value', 'bitScore']\n",
        "mil_1_table = pd.read_csv('scaffolds.hits_from_MIL_1.txt', sep='\\t', header=None, names=columns)\n",
        "mil_1_table"
      ]
    },
    {
      "cell_type": "markdown",
      "metadata": {
        "id": "c4Vvy35TRg7c"
      },
      "source": [
        "Проведем фильтрацию данных (количество строк должно совпасть с ранее найденным 3336):"
      ]
    },
    {
      "cell_type": "code",
      "execution_count": null,
      "metadata": {
        "id": "243TBKQGNxKk",
        "colab": {
          "base_uri": "https://localhost:8080/",
          "height": 468
        },
        "outputId": "f35a2be6-01ee-46a7-eb31-7df6ca5f7d84"
      },
      "outputs": [
        {
          "output_type": "execute_result",
          "data": {
            "text/plain": [
              "       qseqid                               sseqid   pident  length  misMatch  \\\n",
              "2831     1023  lcl|HF680312.1_prot_CCU73896.1_3447   98.979    2253        23   \n",
              "4238     1485   lcl|HF680312.1_prot_CCU70724.1_275   97.870    2113        43   \n",
              "9155     3220  lcl|HF680312.1_prot_CCU71900.1_1451   99.878    1640         2   \n",
              "2609      947  lcl|HF680312.1_prot_CCU73861.1_3412   99.214    1654        13   \n",
              "9962     3498  lcl|HF680312.1_prot_CCU71621.1_1172   99.690    1611         5   \n",
              "...       ...                                  ...      ...     ...       ...   \n",
              "9235     3263  lcl|HF680312.1_prot_CCU73367.1_2918   41.096      73        43   \n",
              "10398    3596  lcl|HF680312.1_prot_CCU72347.1_1898   29.592      98        63   \n",
              "4806     1680  lcl|HF680312.1_prot_CCU72581.1_2132   29.897      97        62   \n",
              "8063     2817  lcl|HF680312.1_prot_CCU73193.1_2744   29.897      97        62   \n",
              "6008     2118  lcl|HF680312.1_prot_CCU73039.1_2590  100.000      28         0   \n",
              "\n",
              "       gapOpen  qstart  qend  sstart  send       e-value  bitScore  \n",
              "2831         0       1  2253       1  2253  0.000000e+00    4296.0  \n",
              "4238         1       7  2119       1  2111  0.000000e+00    4158.0  \n",
              "9155         0       1  1640       1  1640  0.000000e+00    3406.0  \n",
              "2609         0       1  1654       1  1654  0.000000e+00    3372.0  \n",
              "9962         0       1  1611       1  1611  0.000000e+00    3338.0  \n",
              "...        ...     ...   ...     ...   ...           ...       ...  \n",
              "9235         0       5    77       8    80  7.960000e-13      54.7  \n",
              "10398        2      16   112       4    96  1.250000e-11      53.5  \n",
              "4806         2       8   103       5    96  1.010000e-11      53.5  \n",
              "8063         2       8   103       5    96  1.010000e-11      53.5  \n",
              "6008         0       1    28       1    28  5.730000e-12      50.1  \n",
              "\n",
              "[3336 rows x 12 columns]"
            ],
            "text/html": [
              "\n",
              "  <div id=\"df-f26de0aa-5bd8-419b-8919-667adc182f00\">\n",
              "    <div class=\"colab-df-container\">\n",
              "      <div>\n",
              "<style scoped>\n",
              "    .dataframe tbody tr th:only-of-type {\n",
              "        vertical-align: middle;\n",
              "    }\n",
              "\n",
              "    .dataframe tbody tr th {\n",
              "        vertical-align: top;\n",
              "    }\n",
              "\n",
              "    .dataframe thead th {\n",
              "        text-align: right;\n",
              "    }\n",
              "</style>\n",
              "<table border=\"1\" class=\"dataframe\">\n",
              "  <thead>\n",
              "    <tr style=\"text-align: right;\">\n",
              "      <th></th>\n",
              "      <th>qseqid</th>\n",
              "      <th>sseqid</th>\n",
              "      <th>pident</th>\n",
              "      <th>length</th>\n",
              "      <th>misMatch</th>\n",
              "      <th>gapOpen</th>\n",
              "      <th>qstart</th>\n",
              "      <th>qend</th>\n",
              "      <th>sstart</th>\n",
              "      <th>send</th>\n",
              "      <th>e-value</th>\n",
              "      <th>bitScore</th>\n",
              "    </tr>\n",
              "  </thead>\n",
              "  <tbody>\n",
              "    <tr>\n",
              "      <th>2831</th>\n",
              "      <td>1023</td>\n",
              "      <td>lcl|HF680312.1_prot_CCU73896.1_3447</td>\n",
              "      <td>98.979</td>\n",
              "      <td>2253</td>\n",
              "      <td>23</td>\n",
              "      <td>0</td>\n",
              "      <td>1</td>\n",
              "      <td>2253</td>\n",
              "      <td>1</td>\n",
              "      <td>2253</td>\n",
              "      <td>0.000000e+00</td>\n",
              "      <td>4296.0</td>\n",
              "    </tr>\n",
              "    <tr>\n",
              "      <th>4238</th>\n",
              "      <td>1485</td>\n",
              "      <td>lcl|HF680312.1_prot_CCU70724.1_275</td>\n",
              "      <td>97.870</td>\n",
              "      <td>2113</td>\n",
              "      <td>43</td>\n",
              "      <td>1</td>\n",
              "      <td>7</td>\n",
              "      <td>2119</td>\n",
              "      <td>1</td>\n",
              "      <td>2111</td>\n",
              "      <td>0.000000e+00</td>\n",
              "      <td>4158.0</td>\n",
              "    </tr>\n",
              "    <tr>\n",
              "      <th>9155</th>\n",
              "      <td>3220</td>\n",
              "      <td>lcl|HF680312.1_prot_CCU71900.1_1451</td>\n",
              "      <td>99.878</td>\n",
              "      <td>1640</td>\n",
              "      <td>2</td>\n",
              "      <td>0</td>\n",
              "      <td>1</td>\n",
              "      <td>1640</td>\n",
              "      <td>1</td>\n",
              "      <td>1640</td>\n",
              "      <td>0.000000e+00</td>\n",
              "      <td>3406.0</td>\n",
              "    </tr>\n",
              "    <tr>\n",
              "      <th>2609</th>\n",
              "      <td>947</td>\n",
              "      <td>lcl|HF680312.1_prot_CCU73861.1_3412</td>\n",
              "      <td>99.214</td>\n",
              "      <td>1654</td>\n",
              "      <td>13</td>\n",
              "      <td>0</td>\n",
              "      <td>1</td>\n",
              "      <td>1654</td>\n",
              "      <td>1</td>\n",
              "      <td>1654</td>\n",
              "      <td>0.000000e+00</td>\n",
              "      <td>3372.0</td>\n",
              "    </tr>\n",
              "    <tr>\n",
              "      <th>9962</th>\n",
              "      <td>3498</td>\n",
              "      <td>lcl|HF680312.1_prot_CCU71621.1_1172</td>\n",
              "      <td>99.690</td>\n",
              "      <td>1611</td>\n",
              "      <td>5</td>\n",
              "      <td>0</td>\n",
              "      <td>1</td>\n",
              "      <td>1611</td>\n",
              "      <td>1</td>\n",
              "      <td>1611</td>\n",
              "      <td>0.000000e+00</td>\n",
              "      <td>3338.0</td>\n",
              "    </tr>\n",
              "    <tr>\n",
              "      <th>...</th>\n",
              "      <td>...</td>\n",
              "      <td>...</td>\n",
              "      <td>...</td>\n",
              "      <td>...</td>\n",
              "      <td>...</td>\n",
              "      <td>...</td>\n",
              "      <td>...</td>\n",
              "      <td>...</td>\n",
              "      <td>...</td>\n",
              "      <td>...</td>\n",
              "      <td>...</td>\n",
              "      <td>...</td>\n",
              "    </tr>\n",
              "    <tr>\n",
              "      <th>9235</th>\n",
              "      <td>3263</td>\n",
              "      <td>lcl|HF680312.1_prot_CCU73367.1_2918</td>\n",
              "      <td>41.096</td>\n",
              "      <td>73</td>\n",
              "      <td>43</td>\n",
              "      <td>0</td>\n",
              "      <td>5</td>\n",
              "      <td>77</td>\n",
              "      <td>8</td>\n",
              "      <td>80</td>\n",
              "      <td>7.960000e-13</td>\n",
              "      <td>54.7</td>\n",
              "    </tr>\n",
              "    <tr>\n",
              "      <th>10398</th>\n",
              "      <td>3596</td>\n",
              "      <td>lcl|HF680312.1_prot_CCU72347.1_1898</td>\n",
              "      <td>29.592</td>\n",
              "      <td>98</td>\n",
              "      <td>63</td>\n",
              "      <td>2</td>\n",
              "      <td>16</td>\n",
              "      <td>112</td>\n",
              "      <td>4</td>\n",
              "      <td>96</td>\n",
              "      <td>1.250000e-11</td>\n",
              "      <td>53.5</td>\n",
              "    </tr>\n",
              "    <tr>\n",
              "      <th>4806</th>\n",
              "      <td>1680</td>\n",
              "      <td>lcl|HF680312.1_prot_CCU72581.1_2132</td>\n",
              "      <td>29.897</td>\n",
              "      <td>97</td>\n",
              "      <td>62</td>\n",
              "      <td>2</td>\n",
              "      <td>8</td>\n",
              "      <td>103</td>\n",
              "      <td>5</td>\n",
              "      <td>96</td>\n",
              "      <td>1.010000e-11</td>\n",
              "      <td>53.5</td>\n",
              "    </tr>\n",
              "    <tr>\n",
              "      <th>8063</th>\n",
              "      <td>2817</td>\n",
              "      <td>lcl|HF680312.1_prot_CCU73193.1_2744</td>\n",
              "      <td>29.897</td>\n",
              "      <td>97</td>\n",
              "      <td>62</td>\n",
              "      <td>2</td>\n",
              "      <td>8</td>\n",
              "      <td>103</td>\n",
              "      <td>5</td>\n",
              "      <td>96</td>\n",
              "      <td>1.010000e-11</td>\n",
              "      <td>53.5</td>\n",
              "    </tr>\n",
              "    <tr>\n",
              "      <th>6008</th>\n",
              "      <td>2118</td>\n",
              "      <td>lcl|HF680312.1_prot_CCU73039.1_2590</td>\n",
              "      <td>100.000</td>\n",
              "      <td>28</td>\n",
              "      <td>0</td>\n",
              "      <td>0</td>\n",
              "      <td>1</td>\n",
              "      <td>28</td>\n",
              "      <td>1</td>\n",
              "      <td>28</td>\n",
              "      <td>5.730000e-12</td>\n",
              "      <td>50.1</td>\n",
              "    </tr>\n",
              "  </tbody>\n",
              "</table>\n",
              "<p>3336 rows × 12 columns</p>\n",
              "</div>\n",
              "      <button class=\"colab-df-convert\" onclick=\"convertToInteractive('df-f26de0aa-5bd8-419b-8919-667adc182f00')\"\n",
              "              title=\"Convert this dataframe to an interactive table.\"\n",
              "              style=\"display:none;\">\n",
              "        \n",
              "  <svg xmlns=\"http://www.w3.org/2000/svg\" height=\"24px\"viewBox=\"0 0 24 24\"\n",
              "       width=\"24px\">\n",
              "    <path d=\"M0 0h24v24H0V0z\" fill=\"none\"/>\n",
              "    <path d=\"M18.56 5.44l.94 2.06.94-2.06 2.06-.94-2.06-.94-.94-2.06-.94 2.06-2.06.94zm-11 1L8.5 8.5l.94-2.06 2.06-.94-2.06-.94L8.5 2.5l-.94 2.06-2.06.94zm10 10l.94 2.06.94-2.06 2.06-.94-2.06-.94-.94-2.06-.94 2.06-2.06.94z\"/><path d=\"M17.41 7.96l-1.37-1.37c-.4-.4-.92-.59-1.43-.59-.52 0-1.04.2-1.43.59L10.3 9.45l-7.72 7.72c-.78.78-.78 2.05 0 2.83L4 21.41c.39.39.9.59 1.41.59.51 0 1.02-.2 1.41-.59l7.78-7.78 2.81-2.81c.8-.78.8-2.07 0-2.86zM5.41 20L4 18.59l7.72-7.72 1.47 1.35L5.41 20z\"/>\n",
              "  </svg>\n",
              "      </button>\n",
              "      \n",
              "  <style>\n",
              "    .colab-df-container {\n",
              "      display:flex;\n",
              "      flex-wrap:wrap;\n",
              "      gap: 12px;\n",
              "    }\n",
              "\n",
              "    .colab-df-convert {\n",
              "      background-color: #E8F0FE;\n",
              "      border: none;\n",
              "      border-radius: 50%;\n",
              "      cursor: pointer;\n",
              "      display: none;\n",
              "      fill: #1967D2;\n",
              "      height: 32px;\n",
              "      padding: 0 0 0 0;\n",
              "      width: 32px;\n",
              "    }\n",
              "\n",
              "    .colab-df-convert:hover {\n",
              "      background-color: #E2EBFA;\n",
              "      box-shadow: 0px 1px 2px rgba(60, 64, 67, 0.3), 0px 1px 3px 1px rgba(60, 64, 67, 0.15);\n",
              "      fill: #174EA6;\n",
              "    }\n",
              "\n",
              "    [theme=dark] .colab-df-convert {\n",
              "      background-color: #3B4455;\n",
              "      fill: #D2E3FC;\n",
              "    }\n",
              "\n",
              "    [theme=dark] .colab-df-convert:hover {\n",
              "      background-color: #434B5C;\n",
              "      box-shadow: 0px 1px 3px 1px rgba(0, 0, 0, 0.15);\n",
              "      filter: drop-shadow(0px 1px 2px rgba(0, 0, 0, 0.3));\n",
              "      fill: #FFFFFF;\n",
              "    }\n",
              "  </style>\n",
              "\n",
              "      <script>\n",
              "        const buttonEl =\n",
              "          document.querySelector('#df-f26de0aa-5bd8-419b-8919-667adc182f00 button.colab-df-convert');\n",
              "        buttonEl.style.display =\n",
              "          google.colab.kernel.accessAllowed ? 'block' : 'none';\n",
              "\n",
              "        async function convertToInteractive(key) {\n",
              "          const element = document.querySelector('#df-f26de0aa-5bd8-419b-8919-667adc182f00');\n",
              "          const dataTable =\n",
              "            await google.colab.kernel.invokeFunction('convertToInteractive',\n",
              "                                                     [key], {});\n",
              "          if (!dataTable) return;\n",
              "\n",
              "          const docLinkHtml = 'Like what you see? Visit the ' +\n",
              "            '<a target=\"_blank\" href=https://colab.research.google.com/notebooks/data_table.ipynb>data table notebook</a>'\n",
              "            + ' to learn more about interactive tables.';\n",
              "          element.innerHTML = '';\n",
              "          dataTable['output_type'] = 'display_data';\n",
              "          await google.colab.output.renderOutput(dataTable, element);\n",
              "          const docLink = document.createElement('div');\n",
              "          docLink.innerHTML = docLinkHtml;\n",
              "          element.appendChild(docLink);\n",
              "        }\n",
              "      </script>\n",
              "    </div>\n",
              "  </div>\n",
              "  "
            ]
          },
          "metadata": {},
          "execution_count": 52
        }
      ],
      "source": [
        "cleaned = mil_1_table[mil_1_table['sseqid'].str.contains(\"CCU\")]\n",
        "cleaned = cleaned.sort_values('bitScore', ascending=False).drop_duplicates('qseqid')\n",
        "cleaned"
      ]
    },
    {
      "cell_type": "markdown",
      "metadata": {
        "id": "V93JF5T3RZAV"
      },
      "source": [
        "Обновляем данные для ранее добавленных генов:"
      ]
    },
    {
      "cell_type": "code",
      "execution_count": null,
      "metadata": {
        "id": "Z8ih2FGrSyLy",
        "colab": {
          "base_uri": "https://localhost:8080/"
        },
        "outputId": "f3635909-4a22-4555-a02e-a9e89f8b9543"
      },
      "outputs": [
        {
          "output_type": "execute_result",
          "data": {
            "text/plain": [
              "69"
            ]
          },
          "metadata": {},
          "execution_count": 53
        }
      ],
      "source": [
        "for index, hit in cleaned.iterrows():\n",
        "    gene = genes[str(hit['qseqid'])]\n",
        "    ccu = hit['sseqid'].split('_')[2]\n",
        "    gene.qualifiers['note'] = ccu\n",
        "    gene.qualifiers['product'] = [mil_1_genes[ccu]]\n",
        "\n",
        "SeqIO.write(scaffolds.values(), \"GENOME.gbk\", \"genbank\")"
      ]
    },
    {
      "cell_type": "markdown",
      "metadata": {
        "id": "oe89qceyUQjr"
      },
      "source": [
        "###Добавляем функции белков (из БД SwissProt)"
      ]
    },
    {
      "cell_type": "markdown",
      "metadata": {
        "id": "UVdSmUpOU5u1"
      },
      "source": [
        "Получение функций белков SwissProt из файла:"
      ]
    },
    {
      "cell_type": "code",
      "execution_count": null,
      "metadata": {
        "colab": {
          "base_uri": "https://localhost:8080/"
        },
        "id": "KvwFOmrCUULL",
        "outputId": "93cdd9c7-3524-4ab4-db54-db8a0a92fc53"
      },
      "outputs": [
        {
          "output_type": "stream",
          "name": "stdout",
          "text": [
            "--2022-10-19 19:31:35--  https://ftp.uniprot.org/pub/databases/uniprot/current_release/knowledgebase/complete/uniprot_sprot.dat.gz\n",
            "Resolving ftp.uniprot.org (ftp.uniprot.org)... 128.175.240.195\n",
            "Connecting to ftp.uniprot.org (ftp.uniprot.org)|128.175.240.195|:443... connected.\n",
            "HTTP request sent, awaiting response... 200 OK\n",
            "Length: 642093634 (612M) [application/x-gzip]\n",
            "Saving to: ‘uniprot_sprot.dat.gz’\n",
            "\n",
            "uniprot_sprot.dat.g 100%[===================>] 612.35M  41.0MB/s    in 12s     \n",
            "\n",
            "2022-10-19 19:31:47 (49.7 MB/s) - ‘uniprot_sprot.dat.gz’ saved [642093634/642093634]\n",
            "\n"
          ]
        }
      ],
      "source": [
        "!wget https://ftp.uniprot.org/pub/databases/uniprot/current_release/knowledgebase/complete/uniprot_sprot.dat.gz\n",
        "!gzip -d uniprot_sprot.dat.gz\n",
        "!grep '^ID\\|^DE   RecName: Full=' uniprot_sprot.dat > SwissProt_names.txt"
      ]
    },
    {
      "cell_type": "markdown",
      "metadata": {
        "id": "gBl-9Iffk7xg"
      },
      "source": [
        "Код, который добавляет функции белков из БД SwissProt в итоговую аннотацию:"
      ]
    },
    {
      "cell_type": "code",
      "execution_count": null,
      "metadata": {
        "id": "M_Af84ePUirJ"
      },
      "outputs": [],
      "source": [
        "prev = None\n",
        "swiss_genes = dict()\n",
        "\n",
        "# Формируем словарь для генов.\n",
        "for swiss in open('SwissProt_names.txt'):\n",
        "  if swiss.startswith('ID'):\n",
        "    prev = swiss.split()[1]\n",
        "  if swiss.startswith('DE'):\n",
        "    swiss_genes[prev] = swiss.split('=')[1][:-2]"
      ]
    },
    {
      "cell_type": "code",
      "execution_count": null,
      "metadata": {
        "id": "Snvus6Z4UlZp"
      },
      "outputs": [],
      "source": [
        "# Создаем таблицу и фильтруем её.\n",
        "swiss_table = pd.read_csv('scaffolds.hits_from_SwissProt.txt', sep='\\t', header=None, names=columns)\n",
        "swiss_cleaned = swiss_table.sort_values('bitScore', ascending=False).drop_duplicates('qseqid')"
      ]
    },
    {
      "cell_type": "code",
      "execution_count": null,
      "metadata": {
        "id": "uYuhMhlhWZT4"
      },
      "outputs": [],
      "source": [
        "# Добавляем функции белков в аннотацию.\n",
        "for index, swiss in swiss_cleaned.iterrows():\n",
        "  gene = genes[str(swiss['qseqid'])]\n",
        "  ccu = swiss['sseqid'].split('|')[-1]\n",
        "  gene.qualifiers['note'] = ccu\n",
        "  gene.qualifiers['product'] = [swiss_genes[ccu]]"
      ]
    },
    {
      "cell_type": "markdown",
      "metadata": {
        "id": "ptVzwSz3lJEs"
      },
      "source": [
        "Добалвяем полученную информацию в аннотированный геном:"
      ]
    },
    {
      "cell_type": "code",
      "execution_count": null,
      "metadata": {
        "colab": {
          "base_uri": "https://localhost:8080/"
        },
        "id": "fj0Qrdx3Wf_k",
        "outputId": "44a2f82f-1a5b-4707-addb-9f5bf8e39865"
      },
      "outputs": [
        {
          "output_type": "execute_result",
          "data": {
            "text/plain": [
              "69"
            ]
          },
          "metadata": {},
          "execution_count": 58
        }
      ],
      "source": [
        "SeqIO.write(scaffolds.values(), \"GENOME.gbk\", \"genbank\")"
      ]
    },
    {
      "cell_type": "markdown",
      "metadata": {
        "id": "LqhMJ54y9p6u"
      },
      "source": [
        "### Также здесь посчитаем характеристики для таблички ДЗ:"
      ]
    },
    {
      "cell_type": "code",
      "execution_count": null,
      "metadata": {
        "colab": {
          "base_uri": "https://localhost:8080/"
        },
        "id": "ToYCnCLF9x0e",
        "outputId": "e697b221-d684-4c69-8fd6-28542866cc13"
      },
      "outputs": [
        {
          "output_type": "execute_result",
          "data": {
            "text/plain": [
              "69"
            ]
          },
          "metadata": {},
          "execution_count": 59
        }
      ],
      "source": [
        "# Количество скаффолдов.\n",
        "# Опционально - можно было просто посмотреть в отчет hw1.\n",
        "general = list(SeqIO.parse(\"scaffolds.fasta\", \"fasta\"))\n",
        "len(general)"
      ]
    },
    {
      "cell_type": "code",
      "execution_count": null,
      "metadata": {
        "colab": {
          "base_uri": "https://localhost:8080/"
        },
        "id": "hl7PX9F198hA",
        "outputId": "2129e14b-8c89-4a40-ef0f-3c4c6f9e7da2"
      },
      "outputs": [
        {
          "output_type": "execute_result",
          "data": {
            "text/plain": [
              "3885251"
            ]
          },
          "metadata": {},
          "execution_count": 60
        }
      ],
      "source": [
        "# Самый длинный скаффолд.\n",
        "# Опционально - можно было просто посмотреть в отчет hw1.\n",
        "lens = [len(seq) for seq in general]\n",
        "max(lens)"
      ]
    },
    {
      "cell_type": "code",
      "execution_count": null,
      "metadata": {
        "colab": {
          "base_uri": "https://localhost:8080/"
        },
        "id": "sr_tqFax-kRJ",
        "outputId": "9911fb2c-8bae-40d7-ca31-956f9c34336d"
      },
      "outputs": [
        {
          "output_type": "execute_result",
          "data": {
            "text/plain": [
              "3621"
            ]
          },
          "metadata": {},
          "execution_count": 61
        }
      ],
      "source": [
        "# Общее количество генов.\n",
        "len(list(SeqIO.parse(\"proteins.fasta\", \"fasta\")))"
      ]
    }
  ],
  "metadata": {
    "colab": {
      "collapsed_sections": [],
      "provenance": []
    },
    "kernelspec": {
      "display_name": "Python 3",
      "name": "python3"
    },
    "language_info": {
      "name": "python"
    }
  },
  "nbformat": 4,
  "nbformat_minor": 0
}